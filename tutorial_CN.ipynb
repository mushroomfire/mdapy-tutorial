{
 "cells": [
  {
   "cell_type": "markdown",
   "id": "3564a660-9b15-4aa3-9522-a5abd0220672",
   "metadata": {},
   "source": [
    "<center><img src=\"image/logo.png\" alt=\"logo.png\" border=\"0\" width=\"500\"/></center>\n",
    "<center><b>mdapy</b>: Molecular dynamics simulation analysis with Python</center>\n",
    "<center> <b>Author</b>：Yong-Chao Wu </center>\n",
    "<center> <b>Supervisor</b>: Jian-Li Shao</center>\n",
    "<center> <b>Date</b>: 2023/11/24</center>"
   ]
  },
  {
   "cell_type": "markdown",
   "id": "92f660d0-aa41-4179-91c8-79f0392815b1",
   "metadata": {},
   "source": [
    "# 引用"
   ]
  },
  {
   "cell_type": "markdown",
   "id": "2bad0c55-d830-4b8b-ae14-971f8b95cd28",
   "metadata": {},
   "source": [
    ">```bibtex\n",
    "@article{mdapy2023,\n",
    "title = {mdapy: A flexible and efficient analysis software for molecular dynamics simulations}, \n",
    "journal = {Computer Physics Communications},\n",
    "pages = {108764},\n",
    "year = {2023},\n",
    "issn = {0010-4655},\n",
    "doi = {https://doi.org/10.1016/j.cpc.2023.108764},\n",
    "url = {https://www.sciencedirect.com/science/article/pii/S0010465523001091},\n",
    "author = {Yong-Chao Wu and Jian-Li Shao},\n",
    "keywords = {Simulation analysis, Molecular dynamics, Polycrystal, TaiChi, Parallel computing}\n",
    "}\n",
    "```"
   ]
  },
  {
   "cell_type": "markdown",
   "id": "c34e7a1b-9ed4-4912-9673-9382bba66ff7",
   "metadata": {},
   "source": [
    "# 相关链接"
   ]
  },
  {
   "cell_type": "markdown",
   "id": "6a0fa229-a60c-4077-a2a6-981922520e4c",
   "metadata": {},
   "source": [
    "- Homepage: [https://github.com/mushroomfire/mdapy](https://github.com/mushroomfire/mdapy)\n",
    "- Documentation: [https://mdapy.readthedocs.io](https://mdapy.readthedocs.io/)"
   ]
  },
  {
   "cell_type": "markdown",
   "id": "f6d79bd1-43d5-4c8e-b558-ecb8bd43065b",
   "metadata": {},
   "source": [
    "# 什么是mdapy"
   ]
  },
  {
   "cell_type": "markdown",
   "id": "44e2de38-086a-450c-8e38-424843d7b167",
   "metadata": {},
   "source": [
    "**mdapy是一个高性能的分子动力学前/后处理的Python库。**"
   ]
  },
  {
   "cell_type": "markdown",
   "id": "f1f1f82c-bbdd-4d2d-9dc2-a2a1de00d548",
   "metadata": {},
   "source": [
    "# 优点 V.S. 缺点"
   ]
  },
  {
   "cell_type": "markdown",
   "id": "9db03ccb-df6f-4153-89d4-78703a8e45cd",
   "metadata": {},
   "source": [
    "> **优点**\n",
    "\n",
    "- 跨平台，安装简单，语法简单\n",
    "- 支持多核CPU并行和GPU计算\n",
    "- 数据存储格式为Numpy的NDARRY和Polars的DataFrame, 可以无缝衔接Python科学计算生态\n",
    "- 具有非常快的文件I/O性能，良好的计算性能\n",
    "- 支持正交/斜盒子体系\n",
    "- 支持周期性边界\n",
    "\n",
    "> **缺点**\n",
    "\n",
    "- 主要面向固体材料的模拟，特别是金属/合金体系, 但设计架构上可扩展到任何全原子体系\n",
    "- 适合于单一Frame的系统状态分析，不擅长一个轨迹中不同Frame间的关联分析\n",
    "- 并行方式为共享内存并行，目前不支持跨节点并行\n",
    "- 可视化功能还处在实验性阶段\n",
    "- 支持的文件格式较少，目前直接支持LAMMPS中的DUMP和DATA格式，VASP中的POSCAR格式，通用的XYZ格式，其他格式需要手动转换"
   ]
  },
  {
   "cell_type": "markdown",
   "id": "6e2c18ad-3b89-435f-8dc1-cb10b11db26c",
   "metadata": {},
   "source": [
    "<img src=\"image/bench.jpg\" alt=\"bench.jpg\" border=\"0\" width=\"800\"/>"
   ]
  },
  {
   "cell_type": "markdown",
   "id": "26ecbd40-6e69-427d-a2dc-e4cda4bae35d",
   "metadata": {},
   "source": [
    "# 安装"
   ]
  },
  {
   "cell_type": "markdown",
   "id": "2650975e-13c3-4404-bb8e-74c9614abd0c",
   "metadata": {},
   "source": [
    "> ```bash\n",
    "> conda create -n mda python=3.10\n",
    "> conda activate mda\n",
    "> pip install mdapy -U \n",
    "> pip install mdapy[all] -U # If you want to install all optional dependencies```"
   ]
  },
  {
   "cell_type": "markdown",
   "id": "af21c931-8c3d-4758-863e-672b6c86f3f6",
   "metadata": {},
   "source": [
    "# 主要功能"
   ]
  },
  {
   "cell_type": "markdown",
   "id": "ea54f343-777f-416e-af20-315cc85edb46",
   "metadata": {},
   "source": [
    "<img src=\"image/main_feature.jpg\" alt=\"main_feature.jpg\" border=\"0\" width=\"800\"/>"
   ]
  },
  {
   "cell_type": "markdown",
   "id": "99424853-89a5-4dc4-9909-073c212606be",
   "metadata": {},
   "source": [
    "# 工作流示意图"
   ]
  },
  {
   "cell_type": "markdown",
   "id": "b6050c33-06f4-4004-903d-f07b273211a7",
   "metadata": {},
   "source": [
    "<img src=\"image/workflow.png\" alt=\"workflow.png\" border=\"0\" width=\"800\"/>"
   ]
  },
  {
   "cell_type": "markdown",
   "id": "24e4b840-b3ce-49f8-ad5d-8d9d8037aa7f",
   "metadata": {},
   "source": [
    "# 新手教程"
   ]
  },
  {
   "cell_type": "markdown",
   "id": "4ae289c7-f089-45a5-8e6b-c0d39d97f2a9",
   "metadata": {},
   "source": [
    "默认会导入如下库并采用常用的简称"
   ]
  },
  {
   "cell_type": "code",
   "execution_count": null,
   "id": "e7b4caa5-2046-4d11-b135-330824ff344e",
   "metadata": {},
   "outputs": [],
   "source": [
    "import mdapy as mp\n",
    "import numpy as np\n",
    "import polars as pl\n",
    "from tqdm import tqdm\n",
    "import matplotlib.pyplot as plt\n",
    "mp.init()\n",
    "print(f'Version of mdapy is: {mp.__version__}')"
   ]
  },
  {
   "cell_type": "markdown",
   "id": "df4cad08-6e7d-467a-8495-e35f33233a66",
   "metadata": {},
   "source": [
    "## System 类"
   ]
  },
  {
   "cell_type": "markdown",
   "id": "99e36af3-3de2-4e10-9ffd-f7d594ec6001",
   "metadata": {},
   "source": [
    "mdapy中一个核心的模块是**System**类，这个类由原子的Position, Box和Boundary组成。\n",
    "生成System类有许多方式。\n",
    "\n",
    "第一种方式，直接读取一个Dump/Data文件："
   ]
  },
  {
   "cell_type": "code",
   "execution_count": null,
   "id": "62a20e02-00a4-4ec1-865f-b7dd557e7f90",
   "metadata": {},
   "outputs": [],
   "source": [
    "system = mp.System('./frame/CoCuFeNiPd.dump')"
   ]
  },
  {
   "cell_type": "markdown",
   "id": "8f09ff65-4924-4fa4-ae6b-897aba13cd6b",
   "metadata": {},
   "source": [
    "### 查看system实例包含的信息"
   ]
  },
  {
   "cell_type": "code",
   "execution_count": null,
   "id": "6662aabf-6aa6-4f59-9139-aa79a17cd349",
   "metadata": {},
   "outputs": [],
   "source": [
    "system"
   ]
  },
  {
   "cell_type": "markdown",
   "id": "7d579524-5f60-417d-9c68-65759ab1a130",
   "metadata": {},
   "source": [
    "### 查看Box信息"
   ]
  },
  {
   "cell_type": "markdown",
   "id": "267b4860-c72b-4f6b-b878-1c2e7fc8a499",
   "metadata": {},
   "source": [
    "1. mdapy中的盒子是一个(4x3)的2维数组，前三行代表盒子的三个基向量，最后一行是盒子的原点\n",
    "2. 盒子采用[LAMMPS的规则](https://docs.lammps.org/Howto_triclinic.html)，所以box[0, 1]==box[0, 2]==box[1, 2]==0\n",
    "3. 对于正交盒子，为了和之前版本的兼容性，mdapy也支持(3x2)的盒子，第一列代表[xlo, ylo, zlo],第二列代表[xhi, yhi, zhi]"
   ]
  },
  {
   "cell_type": "code",
   "execution_count": null,
   "id": "b8064e71-fb2a-4565-b81f-304b1ce2a5ba",
   "metadata": {},
   "outputs": [],
   "source": [
    "system.box"
   ]
  },
  {
   "cell_type": "markdown",
   "id": "c1b34bf7-e8e9-4b0b-bbba-619f5dd25fe8",
   "metadata": {},
   "source": [
    "### 查看原子Position信息"
   ]
  },
  {
   "cell_type": "markdown",
   "id": "67ff33d3-6772-40c1-9f92-acaeacbd4d8a",
   "metadata": {},
   "source": [
    "1. 位置信息存储在一个(Nx3)的2维数组中, 从左到右每一列分别代表x, y, z坐标\n",
    "2. 仅提供一个view, 用户不应该直接修改位置信息"
   ]
  },
  {
   "cell_type": "code",
   "execution_count": null,
   "id": "0411942e-907d-4969-b4d1-c3990f82eba7",
   "metadata": {},
   "outputs": [],
   "source": [
    "system.pos"
   ]
  },
  {
   "cell_type": "markdown",
   "id": "196eb232-5552-447a-8eb7-63db6de5bdc1",
   "metadata": {},
   "source": [
    "### 查看边界Boundary信息"
   ]
  },
  {
   "cell_type": "markdown",
   "id": "2eb14666-da68-4d7e-aa96-dd950cafa6ef",
   "metadata": {},
   "source": [
    "1. 边界条件由一个包含三个数字的列表表示，其中1代表周期性边界，0代表自由边界"
   ]
  },
  {
   "cell_type": "code",
   "execution_count": null,
   "id": "632665cf-6ec8-4d0b-99e0-62ab77b618ef",
   "metadata": {},
   "outputs": [],
   "source": [
    "system.boundary"
   ]
  },
  {
   "cell_type": "markdown",
   "id": "0f9b9f7f-0a7a-4947-a788-5aff45b84815",
   "metadata": {},
   "source": [
    "### 查看所有Particle相关的数据"
   ]
  },
  {
   "cell_type": "markdown",
   "id": "8c6ab2e7-7bd1-42b3-b198-7b0d87570729",
   "metadata": {},
   "source": [
    "1. 粒子携带的所有信息都存储在一个DataFrame中\n",
    "2. 用户可以很方便的对每一个属性，每一个原子进行统计分析"
   ]
  },
  {
   "cell_type": "code",
   "execution_count": null,
   "id": "f252bb9c-293d-49e8-8e4e-4c0a34e77e70",
   "metadata": {},
   "outputs": [],
   "source": [
    "system.data.head()"
   ]
  },
  {
   "cell_type": "markdown",
   "id": "137b9f2c-363b-4592-bf41-52c90aa0822e",
   "metadata": {},
   "source": [
    "## 邻域信息"
   ]
  },
  {
   "cell_type": "markdown",
   "id": "9c19f88e-292d-4d45-8591-1edb0e47bc63",
   "metadata": {},
   "source": [
    "当用户实例化一个System类以后，就可以进行后续的大多数分析计算。对于mdapy中的所有分析，可以大致分为两类：\n",
    "\n",
    "1. 需要邻域信息的\n",
    "2. 不需要邻域信息的"
   ]
  },
  {
   "cell_type": "markdown",
   "id": "fb166d0b-231d-4af8-b6bc-e88359fc8bf4",
   "metadata": {},
   "source": [
    "### 固定截断距离的邻域"
   ]
  },
  {
   "cell_type": "markdown",
   "id": "bb5f667d-a429-4241-90bf-83740161ea73",
   "metadata": {},
   "source": [
    "实际上这是所有粒子模拟都会面临的一个共同问题，如何快速的找到一个粒子周围和它距离小于rc的所有粒子。\n",
    "最简单的做法，直接使用双重循环，这样的复杂度是$O(N^2)$。一个常见的优化方法是使用linked-cell-list算法,\n",
    "简单来说就是首先将粒子划分到三维的网格中，这样搜索邻域只需要在周围的27个网格中检索就行了，大大降低了复杂程度。\n",
    "\n",
    "当然，这里面如何划分网格宽度？也会对计算效率带来一定的影响。以及如果粒子带有不同的半径，这时候可能直接划分网格就会效率很低了。\n",
    "\n",
    "1. 在mdapy中，网格的长度是截断半径加一个小量，采用元胞链表算法，考虑周期性边界条件。\n",
    "2. 我们对程序进行了一些优化，比如对于初始网络划分部分，是在C++端完成的，后续的并行检索是在Taichi端完成的。\n",
    "\n",
    "与Ovito和Freud的效率对比，以及本身的并行扩展性对比如下："
   ]
  },
  {
   "cell_type": "markdown",
   "id": "7efdaf92-3b01-4c88-a27c-5541d23a9a6f",
   "metadata": {},
   "source": [
    "<img src=\"image/neighbor.jpg\" alt=\"neighbor,jpg\" border=\"0\" width=\"800\"/>"
   ]
  },
  {
   "cell_type": "code",
   "execution_count": null,
   "id": "42a33dcf-f2f9-414e-9faf-c210d316063a",
   "metadata": {},
   "outputs": [],
   "source": [
    "system.build_neighbor(rc=5., max_neigh=60)"
   ]
  },
  {
   "cell_type": "markdown",
   "id": "7afc4390-2b9a-4e79-b970-d5fa38f7c7ef",
   "metadata": {},
   "source": [
    "- 查看原子的邻域列表\n",
    "\n",
    "1. 是一个(N, max_neigh)的2维数组，每一行对应该原子的邻域内原子索引\n",
    "2. max_neigh代表最大邻域原子数目，可以手动指定，也可以自动生成\n",
    "3. 手动指定可以节约内存，提高计算速度\n",
    "4. 其中-1是默认填充值，原子索引从0开始"
   ]
  },
  {
   "cell_type": "code",
   "execution_count": null,
   "id": "613c6135-af5f-4178-9a5b-6fcb776af85e",
   "metadata": {},
   "outputs": [],
   "source": [
    "system.verlet_list"
   ]
  },
  {
   "cell_type": "markdown",
   "id": "07642cbe-8d25-432e-968a-d9e7951fd98a",
   "metadata": {},
   "source": [
    "- 查看原子的邻域距离列表\n",
    "  \n",
    "1. 与verlet_list相对应的欧式距离，考虑了周期性边界\n",
    "2. verlet_list中-1对应的地方默认填充为rc+1的数值，这样处理是为了方便排序"
   ]
  },
  {
   "cell_type": "code",
   "execution_count": null,
   "id": "a4a19a7f-7d7e-4bcd-877c-8f609f77e782",
   "metadata": {},
   "outputs": [],
   "source": [
    "system.distance_list"
   ]
  },
  {
   "cell_type": "markdown",
   "id": "ca2d245a-95bd-4377-b756-be56919b8b54",
   "metadata": {},
   "source": [
    "- 查看原子的邻域原子数目\n",
    "\n",
    "1. 数字代表每个原子的实际邻域原子数，这些数都<=max_neigh"
   ]
  },
  {
   "cell_type": "code",
   "execution_count": null,
   "id": "57239ad9-1eb5-4f42-8ec5-1bab1022902e",
   "metadata": {},
   "outputs": [],
   "source": [
    "system.neighbor_number"
   ]
  },
  {
   "cell_type": "code",
   "execution_count": null,
   "id": "789582e5-39f6-4596-81bf-24fdc363717d",
   "metadata": {},
   "outputs": [],
   "source": [
    "assert system.neighbor_number.max() <= 60"
   ]
  },
  {
   "cell_type": "markdown",
   "id": "a42c4086-34a1-4afa-91e8-77562d7b0cdb",
   "metadata": {},
   "source": [
    "- 如果我们想获取某一个原子的邻域列表，以0号原子为例"
   ]
  },
  {
   "cell_type": "code",
   "execution_count": null,
   "id": "8bc844bc-3795-4313-912d-01a762e711f1",
   "metadata": {},
   "outputs": [],
   "source": [
    "system.verlet_list[0][system.verlet_list[0]>-1]"
   ]
  },
  {
   "cell_type": "markdown",
   "id": "3afc0565-2338-4f82-a57e-493f3ac489ad",
   "metadata": {},
   "source": [
    "- 对应的距离如下"
   ]
  },
  {
   "cell_type": "code",
   "execution_count": null,
   "id": "30c6c48b-2b2d-4ed1-8fab-ce9f0385c3cc",
   "metadata": {},
   "outputs": [],
   "source": [
    "system.distance_list[0][system.verlet_list[0]>-1]"
   ]
  },
  {
   "cell_type": "markdown",
   "id": "cc048e0c-1474-42ef-a016-2729ec42fb6b",
   "metadata": {},
   "source": [
    "- 计算距离来验证"
   ]
  },
  {
   "cell_type": "code",
   "execution_count": null,
   "id": "2dc157d6-fc46-477f-90ed-58f561e4ed2d",
   "metadata": {},
   "outputs": [],
   "source": [
    "system.atom_distance(0, 8787)"
   ]
  },
  {
   "cell_type": "markdown",
   "id": "63460e09-2273-47d7-a3cb-8b51dccc85b5",
   "metadata": {},
   "source": [
    "### 固定数目的最近邻查找"
   ]
  },
  {
   "cell_type": "markdown",
   "id": "cb288a60-1590-4081-ab0e-c3a21ce2f795",
   "metadata": {},
   "source": [
    "另一种常见的情况就是我不关心离我多近的有多少，我只想要距离我最近的多少个粒子信息。\n",
    "\n",
    "对于直接查找，最常用的是使用Tree的数据结构，常见的有kdtree, aabb tree, vptree, BVH tree等。\n",
    "\n",
    "在mdapy中的处理方式如下：\n",
    "\n",
    "1. 如果System没有Neighbor，对于正交盒子会创建一个kdtree来进行查找，对于斜盒子则会使用网格法迭代查找\n",
    "2. 如果System有Neighbor，且最小邻域原子数目不小于待查找数目，则对邻域进行部分排序\n",
    "3. 一般来说，需要进行多种分析时，先建立一个较大的邻域，可以有效的节约总计算时间"
   ]
  },
  {
   "cell_type": "code",
   "execution_count": null,
   "id": "5a03fd93-9965-44e5-920a-288d8b40be46",
   "metadata": {},
   "outputs": [],
   "source": [
    "kdt = mp.NearestNeighbor(system.pos, system.box, system.boundary)"
   ]
  },
  {
   "cell_type": "code",
   "execution_count": null,
   "id": "e367ded1-aeb6-487f-b5c4-0e383625b68b",
   "metadata": {},
   "outputs": [],
   "source": [
    "distance_list, verlet_list = kdt.query_nearest_neighbors(12)"
   ]
  },
  {
   "cell_type": "markdown",
   "id": "7378e168-4d1f-4fdf-a3a0-25fe7a16f839",
   "metadata": {},
   "source": [
    "- 查看最近邻信息"
   ]
  },
  {
   "cell_type": "code",
   "execution_count": null,
   "id": "9c73e78e-8d1d-424e-a00e-93776ca5c935",
   "metadata": {},
   "outputs": [],
   "source": [
    "verlet_list[0]"
   ]
  },
  {
   "cell_type": "code",
   "execution_count": null,
   "id": "5d07ee72-f136-496f-8a56-beb2bb113d3f",
   "metadata": {},
   "outputs": [],
   "source": [
    "distance_list[0]"
   ]
  },
  {
   "cell_type": "markdown",
   "id": "9f11b294-83a9-4748-8487-195fcf1da6e5",
   "metadata": {},
   "source": [
    "## 后处理分析"
   ]
  },
  {
   "cell_type": "markdown",
   "id": "64690a80-9415-4816-9560-c1dc5317363d",
   "metadata": {},
   "source": [
    "- 当用户实例化System以后，就可以使用?来检索所有可用的分析方法。\n",
    "\n",
    "1. 对于计算结果为粒子属性的，如温度，中心对称参数等，mdapy会把计算结果直接添加到system.data中。\n",
    "2. 对于计算结果不是粒子属性的，如径向分布函数，WCP参数等，mdapy会保留对应的实例。"
   ]
  },
  {
   "cell_type": "markdown",
   "id": "28076596-5534-4a43-a87e-8eed86b2470d",
   "metadata": {},
   "source": [
    "### 计算径向分布函数"
   ]
  },
  {
   "cell_type": "code",
   "execution_count": null,
   "id": "e7aecb37-2d86-49c8-8e4d-ac9326ab315c",
   "metadata": {},
   "outputs": [],
   "source": [
    "system.cal_pair_distribution()"
   ]
  },
  {
   "cell_type": "markdown",
   "id": "6778bc80-e9f2-4e91-ade4-2cd37c892d0d",
   "metadata": {},
   "source": [
    "这里就生成了PairDistribution实例，一般生成的实例名称和调用的函数名称接近，也可以使用?查看。"
   ]
  },
  {
   "cell_type": "code",
   "execution_count": null,
   "id": "c6f738b3-b8ef-471e-ab13-94d866bb019f",
   "metadata": {},
   "outputs": [],
   "source": [
    "fig, ax = system.PairDistribution.plot()"
   ]
  },
  {
   "cell_type": "code",
   "execution_count": null,
   "id": "48a5a8aa-54f8-4f04-8a59-67546c317f14",
   "metadata": {},
   "outputs": [],
   "source": [
    "fig, ax = system.PairDistribution.plot_partial()"
   ]
  },
  {
   "cell_type": "markdown",
   "id": "20d0e7c0-e05f-4c5b-9d44-f76c2740ca86",
   "metadata": {},
   "source": [
    "### 计算WCP参数"
   ]
  },
  {
   "cell_type": "code",
   "execution_count": null,
   "id": "3797f540-873d-4ca3-9a95-d2fcc6b365c0",
   "metadata": {},
   "outputs": [],
   "source": [
    "system.cal_warren_cowley_parameter()"
   ]
  },
  {
   "cell_type": "code",
   "execution_count": null,
   "id": "072c6950-4173-4119-b279-6aceddb7cbc1",
   "metadata": {},
   "outputs": [],
   "source": [
    "system.WarrenCowleyParameter.WCP"
   ]
  },
  {
   "cell_type": "code",
   "execution_count": null,
   "id": "120f23af-7a09-4740-9a9a-630cbdb6f782",
   "metadata": {},
   "outputs": [],
   "source": [
    "fig, ax = system.WarrenCowleyParameter.plot()"
   ]
  },
  {
   "cell_type": "markdown",
   "id": "4369eb89-8490-4581-abc6-30da114560b1",
   "metadata": {},
   "source": [
    "### PTM结构分析"
   ]
  },
  {
   "cell_type": "code",
   "execution_count": null,
   "id": "6ecc38d6-d915-4c15-ba3b-2534e3f78583",
   "metadata": {},
   "outputs": [],
   "source": [
    "system.cal_polyhedral_template_matching()"
   ]
  },
  {
   "cell_type": "markdown",
   "id": "494fc17c-2a0c-4e1e-a7c0-d93a5b6c7dd7",
   "metadata": {},
   "source": [
    "### 计算中心对称参数"
   ]
  },
  {
   "cell_type": "code",
   "execution_count": null,
   "id": "e5d9578c-bc28-46b7-9aab-9fdeedf5ee73",
   "metadata": {},
   "outputs": [],
   "source": [
    "system.cal_centro_symmetry_parameter()"
   ]
  },
  {
   "cell_type": "markdown",
   "id": "6adf2380-ed5a-47ae-9248-18a397e2c9d1",
   "metadata": {},
   "source": [
    "### 计算构型熵"
   ]
  },
  {
   "cell_type": "code",
   "execution_count": null,
   "id": "0d7d6a5f-695e-4441-8550-1f898d144781",
   "metadata": {},
   "outputs": [],
   "source": [
    "system.cal_atomic_entropy(rc=3.6*1.4, compute_average=True, average_rc=3.6*0.9)"
   ]
  },
  {
   "cell_type": "markdown",
   "id": "6ac2ae1a-4f8d-4399-a193-74a089860d1e",
   "metadata": {},
   "source": [
    "### 计算Voronoi体积"
   ]
  },
  {
   "cell_type": "code",
   "execution_count": null,
   "id": "c539bd5c-5588-4d22-b5c4-fa77d7a5bba4",
   "metadata": {},
   "outputs": [],
   "source": [
    "system.cal_voronoi_volume()"
   ]
  },
  {
   "cell_type": "markdown",
   "id": "fde3cb09-7c18-4a09-b839-4e0db06e7982",
   "metadata": {},
   "source": [
    "### 查看计算结果"
   ]
  },
  {
   "cell_type": "code",
   "execution_count": null,
   "id": "1dda24ac-0bde-4e1d-b45b-c76199607665",
   "metadata": {},
   "outputs": [],
   "source": [
    "system.data.head()"
   ]
  },
  {
   "cell_type": "markdown",
   "id": "c6bbbc4d-d556-433b-b693-dcb72b5443f8",
   "metadata": {},
   "source": [
    "### 可视化结果"
   ]
  },
  {
   "cell_type": "code",
   "execution_count": null,
   "id": "cc164b6e-a6e3-49e4-a22a-5fd8eba5bd3d",
   "metadata": {},
   "outputs": [],
   "source": [
    "system.display()"
   ]
  },
  {
   "cell_type": "markdown",
   "id": "12e28e84-243f-476b-80c6-656905e8d585",
   "metadata": {},
   "source": [
    "这里默认使用structure type对原子上色，也可以使用任意其他属性，比如原子type，原子体积等"
   ]
  },
  {
   "cell_type": "code",
   "execution_count": null,
   "id": "1f671188-7707-4b34-b307-66b8099955a9",
   "metadata": {},
   "outputs": [],
   "source": [
    "system.atoms_colored_by('type')"
   ]
  },
  {
   "cell_type": "code",
   "execution_count": null,
   "id": "10ca75f2-4830-4f44-87c2-d926c10aea95",
   "metadata": {},
   "outputs": [],
   "source": [
    "system.atoms_colored_by('voronoi_volume')"
   ]
  },
  {
   "cell_type": "markdown",
   "id": "55b47332-1201-41e1-bd00-44274eaccbda",
   "metadata": {},
   "source": [
    "### 保存结果到本地\n",
    "\n",
    "- 保存粒子属性可以使用dump或者xyz格式"
   ]
  },
  {
   "cell_type": "code",
   "execution_count": null,
   "id": "eb202a5c-bff5-451a-913f-ea830248602d",
   "metadata": {},
   "outputs": [],
   "source": [
    "system.write_dump()"
   ]
  },
  {
   "cell_type": "code",
   "execution_count": null,
   "id": "e593fa41-d66b-4dee-b49c-5cbb3e6ebef7",
   "metadata": {},
   "outputs": [],
   "source": [
    "system.write_xyz()"
   ]
  },
  {
   "cell_type": "markdown",
   "id": "0279b0b1-2ab9-4842-b25c-29989e5119f6",
   "metadata": {},
   "source": [
    "### 判断FCC晶体是solid还是liquid\n",
    "\n",
    "- 这里使用一个固液共存的dump文件为例子，元素为钼 Molybdenum 元素，熔点约2896 K\n",
    "- 其原理是基于Steinhardt Bond order"
   ]
  },
  {
   "cell_type": "code",
   "execution_count": null,
   "id": "aab24bee-d186-4ac8-a862-340d9e21236a",
   "metadata": {},
   "outputs": [],
   "source": [
    "system = mp.System('frame/solidliquid.dump')"
   ]
  },
  {
   "cell_type": "code",
   "execution_count": null,
   "id": "84983e39-db32-49db-824f-749e1c8b795f",
   "metadata": {},
   "outputs": [],
   "source": [
    "system.cal_steinhardt_bond_orientation(solidliquid=True)"
   ]
  },
  {
   "cell_type": "markdown",
   "id": "3472af92-d1ff-428b-a458-57d87368e07d",
   "metadata": {},
   "source": [
    "### 计算原子平均温度"
   ]
  },
  {
   "cell_type": "code",
   "execution_count": null,
   "id": "ef3f4aa9-a9da-4ed0-a5a6-4858bf69022f",
   "metadata": {},
   "outputs": [],
   "source": [
    "system.cal_atomic_temperature(elemental_list=['Mo'])"
   ]
  },
  {
   "cell_type": "code",
   "execution_count": null,
   "id": "2d6c9dd8-36e0-4d70-bfb5-a11817955150",
   "metadata": {},
   "outputs": [],
   "source": [
    "print(f\"Average temperature is {system.data['atomic_temp'].mean()} K\")"
   ]
  },
  {
   "cell_type": "code",
   "execution_count": null,
   "id": "0fafd305-0455-4baa-acdc-fcabf6c9bfbf",
   "metadata": {},
   "outputs": [],
   "source": [
    "system.data.head()"
   ]
  },
  {
   "cell_type": "code",
   "execution_count": null,
   "id": "56e3aafb-f536-4f84-8c1d-88637afae780",
   "metadata": {},
   "outputs": [],
   "source": [
    "system.atoms_colored_by('atomic_temp')"
   ]
  },
  {
   "cell_type": "code",
   "execution_count": null,
   "id": "4318cfe9-9201-47af-8a63-515362dc7023",
   "metadata": {},
   "outputs": [],
   "source": [
    "system.atoms_colored_by('solidliquid')"
   ]
  },
  {
   "cell_type": "code",
   "execution_count": null,
   "id": "67509460-b110-4b83-b543-3bc805ac4cb0",
   "metadata": {},
   "outputs": [],
   "source": [
    "system.write_dump()"
   ]
  },
  {
   "cell_type": "markdown",
   "id": "44d07d8b-56ec-417e-b3f6-095045141a0d",
   "metadata": {},
   "source": [
    "### 筛选原子可视化"
   ]
  },
  {
   "cell_type": "code",
   "execution_count": null,
   "id": "2438e612-3b26-40ad-b534-90d2d80f52ad",
   "metadata": {},
   "outputs": [],
   "source": [
    "solid = system.select(system.data.filter(pl.col('solidliquid')==1))"
   ]
  },
  {
   "cell_type": "code",
   "execution_count": null,
   "id": "98aab473-ca86-41fc-8430-dc3b4f344309",
   "metadata": {},
   "outputs": [],
   "source": [
    "solid.display()"
   ]
  },
  {
   "cell_type": "markdown",
   "id": "aacab4bd-df81-4b7d-8c30-3e3ddabe4164",
   "metadata": {},
   "source": [
    "### 识别FCC基体中的ISF, ESF, TW, HCP\n",
    "\n",
    "- 这里使用一个包含多种缺陷的dump文件"
   ]
  },
  {
   "cell_type": "code",
   "execution_count": null,
   "id": "6c2844d6-838f-4e9c-9fb0-b3c2ba271874",
   "metadata": {},
   "outputs": [],
   "source": [
    "system = mp.System('frame/ISF.dump')"
   ]
  },
  {
   "cell_type": "code",
   "execution_count": null,
   "id": "dd19296d-d5dd-4b21-98cc-55d380431d61",
   "metadata": {},
   "outputs": [],
   "source": [
    "system.cal_identify_SFs_TBs()"
   ]
  },
  {
   "cell_type": "code",
   "execution_count": null,
   "id": "40226b4c-041f-419b-877b-7edfbeca4345",
   "metadata": {},
   "outputs": [],
   "source": [
    "system.display()"
   ]
  },
  {
   "cell_type": "code",
   "execution_count": null,
   "id": "3b1e2ca9-a7b4-4972-a686-6fbe4048cabb",
   "metadata": {},
   "outputs": [],
   "source": [
    "system.atoms_colored_by('fault_types')"
   ]
  },
  {
   "cell_type": "code",
   "execution_count": null,
   "id": "a1028b35-cb18-4243-b334-21a0f4d519df",
   "metadata": {},
   "outputs": [],
   "source": [
    "system.write_dump()"
   ]
  },
  {
   "cell_type": "markdown",
   "id": "d708f809-f312-401c-867d-047299d33d2f",
   "metadata": {},
   "source": [
    "### 斜盒子体系\n",
    "\n",
    "- 大多数分析方式对斜盒子体系依然适用\n",
    "- 这里读取一个HCP的Ti体系"
   ]
  },
  {
   "cell_type": "code",
   "execution_count": null,
   "id": "c40465c4-2fed-476d-b0ec-5023545c4e48",
   "metadata": {},
   "outputs": [],
   "source": [
    "Ti = mp.System('./frame/Ti.data')"
   ]
  },
  {
   "cell_type": "code",
   "execution_count": null,
   "id": "ea3b6cea-5055-40b4-9b68-a4b564696eb2",
   "metadata": {},
   "outputs": [],
   "source": [
    "Ti"
   ]
  },
  {
   "cell_type": "code",
   "execution_count": null,
   "id": "69448d6d-8242-48ca-8f4f-3e087f21d3bc",
   "metadata": {},
   "outputs": [],
   "source": [
    "Ti.cal_common_neighbor_analysis(rc=2.9357*1.207)"
   ]
  },
  {
   "cell_type": "code",
   "execution_count": null,
   "id": "9b7ad2b9-3646-48aa-bcc4-d59c30f6e4fe",
   "metadata": {},
   "outputs": [],
   "source": [
    "Ti.cal_centro_symmetry_parameter()"
   ]
  },
  {
   "cell_type": "code",
   "execution_count": null,
   "id": "a1b39219-fac1-4839-96d1-4255bbb8ce6f",
   "metadata": {},
   "outputs": [],
   "source": [
    "Ti.data"
   ]
  },
  {
   "cell_type": "code",
   "execution_count": null,
   "id": "f03e63a3-d265-46f0-8b59-330256e39bfe",
   "metadata": {},
   "outputs": [],
   "source": [
    "Ti.display()"
   ]
  },
  {
   "cell_type": "code",
   "execution_count": null,
   "id": "f20b02a3-5937-484a-87d5-690e7102d4c0",
   "metadata": {},
   "outputs": [],
   "source": [
    "Ti.write_dump()"
   ]
  },
  {
   "cell_type": "markdown",
   "id": "32f49a0b-7cf3-4973-9712-c6979f193c75",
   "metadata": {},
   "source": [
    "### 建立初始模型\n",
    "\n",
    "1. mdapy可以建立一些简单的模型，比如FCC, BCC, HCP, Graphene，对于FCC和BCC还支持不同晶相\n",
    "2. mdapy可以建立多晶，以及带石墨烯晶界的多晶\n",
    "3. 用户可以手动提供元胞信息，然后适用mdapy扩胞，再进行筛选，比如建立任意类型的纳米颗粒等"
   ]
  },
  {
   "cell_type": "code",
   "execution_count": null,
   "id": "cb9f8a0a-4a6a-4450-8f90-b4d9661cd3fb",
   "metadata": {},
   "outputs": [],
   "source": [
    "fcc = mp.LatticeMaker(3.615, 'FCC', 10, 10, 10)\n",
    "fcc.compute()"
   ]
  },
  {
   "cell_type": "code",
   "execution_count": null,
   "id": "380be181-1a93-435a-b18d-85d0b31cdb2a",
   "metadata": {},
   "outputs": [],
   "source": [
    "fcc.box"
   ]
  },
  {
   "cell_type": "code",
   "execution_count": null,
   "id": "819021d3-e3dd-40d0-b431-75de6b046fa5",
   "metadata": {},
   "outputs": [],
   "source": [
    "fcc.pos"
   ]
  },
  {
   "cell_type": "markdown",
   "id": "9f0c1ff7-5a66-474a-a6ac-36e143e7c4e7",
   "metadata": {},
   "source": [
    "保存为data/dump文件"
   ]
  },
  {
   "cell_type": "code",
   "execution_count": null,
   "id": "f1423d1e-3da6-47dc-b389-20fe98f4de46",
   "metadata": {},
   "outputs": [],
   "source": [
    "fcc.write_data(output_name='./frame/fcc.data')"
   ]
  },
  {
   "cell_type": "markdown",
   "id": "49d76331-bcd6-4a28-9e63-596dbc19f690",
   "metadata": {},
   "source": [
    "我们来可视化一下结果，首先需要使用position和box来实例化一个System类"
   ]
  },
  {
   "cell_type": "code",
   "execution_count": null,
   "id": "a6d32651-bf7b-4197-bbe5-cafbefd6a93d",
   "metadata": {},
   "outputs": [],
   "source": [
    "system = mp.System(pos=fcc.pos, box=fcc.box)"
   ]
  },
  {
   "cell_type": "code",
   "execution_count": null,
   "id": "69d8587c-7fb7-4e70-ab26-af1a71738334",
   "metadata": {},
   "outputs": [],
   "source": [
    "system"
   ]
  },
  {
   "cell_type": "code",
   "execution_count": null,
   "id": "d90767c2-0188-49c5-96d4-0f49af6f8f53",
   "metadata": {},
   "outputs": [],
   "source": [
    "system.display()"
   ]
  },
  {
   "cell_type": "markdown",
   "id": "09533cc6",
   "metadata": {},
   "source": [
    "对于FCC和BCC晶体可以指定初始晶向"
   ]
  },
  {
   "cell_type": "code",
   "execution_count": null,
   "id": "bca46e15",
   "metadata": {},
   "outputs": [],
   "source": [
    "fcc_111 = mp.LatticeMaker(3.615, 'FCC', 10, 10, 10, crystalline_orientation=np.array([[1,1,1], [1,-1,0], [1,1,-2]]))\n",
    "fcc_111.compute()"
   ]
  },
  {
   "cell_type": "code",
   "execution_count": null,
   "id": "0993ad0e",
   "metadata": {},
   "outputs": [],
   "source": [
    "fcc_111.write_dump(output_name='./frame/fcc_111.dump')"
   ]
  },
  {
   "cell_type": "code",
   "execution_count": null,
   "id": "3c7c7087-0f8b-49c4-ad81-6a3c697c8de4",
   "metadata": {},
   "outputs": [],
   "source": [
    "system = mp.System(pos=fcc_111.pos, box=fcc_111.box)"
   ]
  },
  {
   "cell_type": "code",
   "execution_count": null,
   "id": "77afab40-84b2-4308-8d95-3177bed0d9d6",
   "metadata": {},
   "outputs": [],
   "source": [
    "system.display()"
   ]
  },
  {
   "cell_type": "markdown",
   "id": "285cbc80-465a-45f4-b39d-c66f43b7d929",
   "metadata": {},
   "source": [
    "mdapy处理几百万原子体系也很轻松，这里我们简单进行扩胞，生成一个400w原子体系进行测试"
   ]
  },
  {
   "cell_type": "code",
   "execution_count": null,
   "id": "22cc8f74-8bb7-4b40-92e3-b158d0b0721a",
   "metadata": {},
   "outputs": [],
   "source": [
    "%%time\n",
    "repli = mp.Replicate(fcc.pos, fcc.box, 10, 10, 10)\n",
    "repli.compute()"
   ]
  },
  {
   "cell_type": "code",
   "execution_count": null,
   "id": "7c41f778-a3d6-4cc9-ab2f-61b8d0746624",
   "metadata": {},
   "outputs": [],
   "source": [
    "repli.N"
   ]
  },
  {
   "cell_type": "markdown",
   "id": "5bf83cb0-e2b7-4d15-815d-74ae83cc7a62",
   "metadata": {},
   "source": [
    "建立$rc=0.5nm$的邻域"
   ]
  },
  {
   "cell_type": "code",
   "execution_count": null,
   "id": "cdb97afc-3220-48a3-bfc2-5c363e19ce17",
   "metadata": {},
   "outputs": [],
   "source": [
    "%%time\n",
    "neigh = mp.Neighbor(repli.pos, repli.box, 5., max_neigh=50)\n",
    "neigh.compute()"
   ]
  },
  {
   "cell_type": "markdown",
   "id": "e77bb87c-1943-4b0f-868d-2f81162946d8",
   "metadata": {},
   "source": [
    "手动排序获取12个最近邻原子"
   ]
  },
  {
   "cell_type": "code",
   "execution_count": null,
   "id": "ee1b8857-a386-4d28-a191-5f099ae5a010",
   "metadata": {},
   "outputs": [],
   "source": [
    "%%time\n",
    "neigh.sort_verlet_by_distance(12)"
   ]
  },
  {
   "cell_type": "code",
   "execution_count": null,
   "id": "c5475076-0f2d-4fa7-abd1-01979c03e9bb",
   "metadata": {},
   "outputs": [],
   "source": [
    "neigh.verlet_list[0][:12]"
   ]
  },
  {
   "cell_type": "code",
   "execution_count": null,
   "id": "429b2e03-d19c-446a-be39-7a112f5d5509",
   "metadata": {},
   "outputs": [],
   "source": [
    "neigh.distance_list[0][:12]"
   ]
  },
  {
   "cell_type": "markdown",
   "id": "686d73d1-c3a9-46b8-b255-ff415816dc7d",
   "metadata": {},
   "source": [
    "使用kdtree来搜索12个最近邻原子"
   ]
  },
  {
   "cell_type": "code",
   "execution_count": null,
   "id": "5cbfa383-fc03-4846-ba43-2618fa7bd632",
   "metadata": {},
   "outputs": [],
   "source": [
    "%%time\n",
    "kdt = mp.NearestNeighbor(repli.pos, repli.box)\n",
    "distance_list, verlet_list = kdt.query_nearest_neighbors(12)"
   ]
  },
  {
   "cell_type": "code",
   "execution_count": null,
   "id": "8a19fbb8-7a35-4663-bde1-4ce31d4f1a42",
   "metadata": {},
   "outputs": [],
   "source": [
    "verlet_list[0]"
   ]
  },
  {
   "cell_type": "code",
   "execution_count": null,
   "id": "ef187669-ed1c-41f1-9308-3533b11a055d",
   "metadata": {},
   "outputs": [],
   "source": [
    "distance_list[0]"
   ]
  },
  {
   "cell_type": "markdown",
   "id": "53cb7da6-93dc-454d-8c2c-4c013ec62804",
   "metadata": {},
   "source": [
    "### 建立纳米晶"
   ]
  },
  {
   "cell_type": "code",
   "execution_count": null,
   "id": "231bae15-46fd-4dfc-ba27-050caaff24a3",
   "metadata": {},
   "outputs": [],
   "source": [
    "box = np.array([[200, 0, 0],\n",
    "               [0, 200, 0],\n",
    "               [0, 0, 200],\n",
    "               [0, 0, 0.]])"
   ]
  },
  {
   "cell_type": "code",
   "execution_count": null,
   "id": "d9de8929-386c-4fb9-821b-ad1a9dd33661",
   "metadata": {},
   "outputs": [],
   "source": [
    "poly = mp.CreatePolycrystalline(box, 20, 3.615, 'FCC', output_name='./frame/poly.dump', metal_overlap_dis=2.)\n",
    "poly.compute()"
   ]
  },
  {
   "cell_type": "markdown",
   "id": "7b0b1a03-98e1-4e68-8c34-dabe8ef2980b",
   "metadata": {},
   "source": [
    "使用DataFrame来实例化System"
   ]
  },
  {
   "cell_type": "code",
   "execution_count": null,
   "id": "bf3016ca-595e-48b1-919c-154910a55e0d",
   "metadata": {},
   "outputs": [],
   "source": [
    "system = mp.System(data=poly.data, box=box)"
   ]
  },
  {
   "cell_type": "code",
   "execution_count": null,
   "id": "24b6629a-6479-4fb4-b769-014065029499",
   "metadata": {},
   "outputs": [],
   "source": [
    "system"
   ]
  },
  {
   "cell_type": "code",
   "execution_count": null,
   "id": "7a9f77ac-b1c7-4c72-82e5-0fbad9dbc19a",
   "metadata": {},
   "outputs": [],
   "source": [
    "system.atoms_colored_by('grainid')"
   ]
  },
  {
   "cell_type": "markdown",
   "id": "56b7a6bb-f8d5-48fa-9816-530e69ae6ec6",
   "metadata": {},
   "source": [
    "### EAM势函数分析"
   ]
  },
  {
   "cell_type": "markdown",
   "id": "6ac0ecc8-89c5-4ab0-80f2-5ff333366b9f",
   "metadata": {},
   "source": [
    "#### 生成一个Al的势函数\n",
    "\n",
    "- mdapy可以基于文献生成一元或多元的eam.alloy势函数，可用于LAMMPS计算\n",
    "- 可选元素列表 [\"Cu\",\"Ag\",\"Au\",\"Ni\",\"Pd\",\"Pt\",\"Al\",\"Pb\",\"Fe\",\"Mo\",\"Ta\",\"W\",\"Mg\",\"Co\",\"Ti\",\"Zr\"]"
   ]
  },
  {
   "cell_type": "code",
   "execution_count": null,
   "id": "c1c83c47-0b5a-47b7-a544-2b64ea22af81",
   "metadata": {},
   "outputs": [],
   "source": [
    "mp.EAMGenerate(['Al'], output_name='./frame/Al.eam.alloy');"
   ]
  },
  {
   "cell_type": "markdown",
   "id": "45d75a5f-448e-4299-8dbb-8a757b21006f",
   "metadata": {},
   "source": [
    "#### 读取刚才生成的势函数"
   ]
  },
  {
   "cell_type": "code",
   "execution_count": null,
   "id": "4a02832b-f34a-4473-8c29-18dd607e49ec",
   "metadata": {},
   "outputs": [],
   "source": [
    "potential = mp.EAM('./frame/Al.eam.alloy')"
   ]
  },
  {
   "cell_type": "markdown",
   "id": "3756c996-a281-4a83-a227-c038f6ab3064",
   "metadata": {},
   "source": [
    "#### 查看势函数的相关信息"
   ]
  },
  {
   "cell_type": "code",
   "execution_count": null,
   "id": "e57ca18c-d016-49da-92fe-d6e869631754",
   "metadata": {},
   "outputs": [],
   "source": [
    "potential.plot()"
   ]
  },
  {
   "cell_type": "markdown",
   "id": "230b8503-024c-4588-a99f-99f26dfeb2d0",
   "metadata": {},
   "source": [
    "#### 使用势函数计算Al的EOS曲线"
   ]
  },
  {
   "cell_type": "code",
   "execution_count": null,
   "id": "307a28c6-5472-479c-acf6-7c6970faa5d0",
   "metadata": {},
   "outputs": [],
   "source": [
    "energy = []\n",
    "lattice_constant = 4.05\n",
    "fcc = mp.LatticeMaker(lattice_constant, 'FCC', 1, 1, 1)\n",
    "fcc.compute()\n",
    "for scale in tqdm(np.arange(0.95, 1.06, 0.01)):\n",
    "    Cal = mp.Calculator(potential, fcc.pos * scale, [1, 1, 1], fcc.box * scale, ['Al'], np.ones(fcc.N, int))\n",
    "    Cal.compute()\n",
    "    energy.append([lattice_constant*scale, Cal.energy.mean()])\n",
    "energy = np.array(energy)"
   ]
  },
  {
   "cell_type": "code",
   "execution_count": null,
   "id": "0049dd7e-f45c-4673-af78-0c3551f6773c",
   "metadata": {},
   "outputs": [],
   "source": [
    "fig, ax = mp.set_figure(figsize=(8, 6), use_pltset=True)\n",
    "plt.plot(energy[:, 0], energy[:, 1], 'o-')\n",
    "plt.xlabel('a ($\\mathregular{\\AA}$)')\n",
    "plt.ylabel('PE (eV/atom)')"
   ]
  },
  {
   "cell_type": "markdown",
   "id": "1e85ff20-c4b4-4171-8035-299aa797e939",
   "metadata": {},
   "source": [
    "### 分析化学产物"
   ]
  },
  {
   "cell_type": "markdown",
   "id": "089630bb-a460-4192-8162-3361fe7b5a6a",
   "metadata": {},
   "source": [
    "mdapy目前判断两个原子的连接性的是比较经验的，当两个原子的距离小于其范德华半径之和的0.6倍，\n",
    "则认为两个原子成键，然后基于成键关系来进行聚合，得出产物的种类和数目。\n",
    "\n",
    "- 这里读取一个AP+Al的文件作为例子\n",
    "- 其中的元素顺序为[\"H\", \"C\", \"N\", \"O\", \"F\", \"Al\", \"Cl\"]"
   ]
  },
  {
   "cell_type": "code",
   "execution_count": null,
   "id": "1f15c42a-0917-41f6-9282-c26c6e71c1df",
   "metadata": {},
   "outputs": [],
   "source": [
    "system = mp.System('frame/ap@al.dump')"
   ]
  },
  {
   "cell_type": "code",
   "execution_count": null,
   "id": "74b06db6-fce6-4a71-bbd2-8989d7394155",
   "metadata": {},
   "outputs": [],
   "source": [
    "system.display()"
   ]
  },
  {
   "cell_type": "markdown",
   "id": "3de87ec9-79c5-4393-8975-ef0aa1137004",
   "metadata": {},
   "source": [
    "我们可以首先看一下这里面包含的最多的产物是那些，这里查看了数目前20的产物"
   ]
  },
  {
   "cell_type": "code",
   "execution_count": null,
   "id": "376a2838-e8fd-4cf1-85e4-ed6753a8bdcc",
   "metadata": {},
   "outputs": [],
   "source": [
    "species = system.cal_species_number(element_list=[\"H\", \"C\", \"N\", \"O\", \"F\", \"Al\", \"Cl\"], check_most=20)"
   ]
  },
  {
   "cell_type": "code",
   "execution_count": null,
   "id": "30407f83-d167-4766-a5d2-820c8fbce768",
   "metadata": {},
   "outputs": [],
   "source": [
    "species"
   ]
  },
  {
   "cell_type": "markdown",
   "id": "4fb48a29-4e2e-4b7b-b2b5-d235797d15fd",
   "metadata": {},
   "source": [
    "我们可以看到，最多的是H2O, Cl原子，N2, HCl, CO2 大概确定以后，我们可以实际输入我们关心的产物"
   ]
  },
  {
   "cell_type": "code",
   "execution_count": null,
   "id": "8673581e-5774-42e6-9b54-ce94dc2ea521",
   "metadata": {},
   "outputs": [],
   "source": [
    "species = system.cal_species_number(element_list=[\"H\", \"C\", \"N\", \"O\", \"F\", \"Al\", \"Cl\"], \n",
    "                                    search_species=['H2O', 'Cl', 'N2', 'CO2', 'HCl', 'X'])"
   ]
  },
  {
   "cell_type": "markdown",
   "id": "1d31bf89-d197-4f56-b283-9281f7b56ac6",
   "metadata": {},
   "source": [
    "这里'X'元素是一个虚构的元素，也就是如果你想要的产物没有，则会返回数目为0"
   ]
  },
  {
   "cell_type": "code",
   "execution_count": null,
   "id": "f1e14a65-610f-4d11-a2d4-2d55c1f0e13c",
   "metadata": {},
   "outputs": [],
   "source": [
    "species"
   ]
  },
  {
   "cell_type": "markdown",
   "id": "6e10929b-409a-4944-889e-c2f09a9a71ef",
   "metadata": {},
   "source": [
    "### 区域划分统计"
   ]
  },
  {
   "cell_type": "markdown",
   "id": "113ba84f-89b0-4660-9eb0-992b179952f0",
   "metadata": {},
   "source": [
    "mdapy可以对体系进行1维，2维，3维网格划分，并对里面的物理量进行平均，求和，最大值，最小值计算等操作\n",
    "\n",
    "- 这里我们以温度为例"
   ]
  },
  {
   "cell_type": "markdown",
   "id": "be607e0d-d977-489c-995e-ac69c90b3f99",
   "metadata": {},
   "source": [
    "首先计算原子的平均温度"
   ]
  },
  {
   "cell_type": "code",
   "execution_count": null,
   "id": "9ad0d42f-3024-4a80-807b-1a4db287dc3e",
   "metadata": {},
   "outputs": [],
   "source": [
    "system.cal_atomic_temperature(elemental_list=[\"H\", \"C\", \"N\", \"O\", \"F\", \"Al\", \"Cl\"])"
   ]
  },
  {
   "cell_type": "code",
   "execution_count": null,
   "id": "6c017c09-6f55-4249-ab2b-8eab046fd166",
   "metadata": {},
   "outputs": [],
   "source": [
    "print(f\"The mean temperature is {system.data['atomic_temp'].mean()} K.\")"
   ]
  },
  {
   "cell_type": "code",
   "execution_count": null,
   "id": "d3b3266a-7cc4-48f4-8b7a-8438df0878ad",
   "metadata": {},
   "outputs": [],
   "source": [
    "system.atoms_colored_by('atomic_temp', vmin=1000, vmax=3000)"
   ]
  },
  {
   "cell_type": "markdown",
   "id": "c13371b5-0d8e-4e55-bdcc-248ac2a40e5f",
   "metadata": {},
   "source": [
    "对温度在xy平面进行二维划分并求平均"
   ]
  },
  {
   "cell_type": "code",
   "execution_count": null,
   "id": "7859d415-1fc4-471c-9699-cc3db393b88c",
   "metadata": {},
   "outputs": [],
   "source": [
    "system.spatial_binning('xy', 'atomic_temp')"
   ]
  },
  {
   "cell_type": "code",
   "execution_count": null,
   "id": "63f64371-7b64-4ecb-854d-a6ced23bdf11",
   "metadata": {},
   "outputs": [],
   "source": [
    "T = system.Binning.res[:, :, -1]\n",
    "x, y = system.Binning.coor['x'], system.Binning.coor['y']\n",
    "X, Y = np.meshgrid(x, y, indexing='ij')"
   ]
  },
  {
   "cell_type": "code",
   "execution_count": null,
   "id": "094d5e95-9ec1-4e49-a36b-676c755296c9",
   "metadata": {},
   "outputs": [],
   "source": [
    "fig, ax = mp.set_figure(figsize=(8, 7.5), use_pltset=True)\n",
    "h = ax.contourf(X, Y, T, cmap='hot', levels=100)\n",
    "bar = plt.colorbar(h, ax=ax)\n",
    "bar.set_label('T (K)')\n",
    "ax.set_xlabel('x ($\\mathregular{\\AA}$)')\n",
    "ax.set_ylabel('y ($\\mathregular{\\AA}$)')"
   ]
  },
  {
   "cell_type": "markdown",
   "id": "3de69d52-bb33-4689-b57c-dff7c9676db5",
   "metadata": {},
   "source": [
    "### 处理轨迹"
   ]
  },
  {
   "cell_type": "markdown",
   "id": "14299677-d6b5-4f7f-824f-2ecdad1560cf",
   "metadata": {},
   "source": [
    "如前文所说，mdapy并不是为了处理轨迹类文件的，mdapy提供的分析功能中只有计算MSD和Lindemann系数需要考虑不同frame间的关系。\n",
    "对于计算RDF这种，实际上可以通过一个简单的for-loop来进行平均，对于轨迹文件处理有几个注意事项。\n",
    "\n",
    "1. mdapy不能读取一个文件中包含多个Frame的格式，用户需要手动对轨迹文件进行切割，始终牢记mdapy是为了处理单frame设计的\n",
    "2. mdapy会把轨迹中的所有frame都读取到内存中来，所以用户要谨慎思考自己的体系是否需要那么多frame\n",
    "3. 为了计算MSD和Lindemann系数，mdapy会自动将轨迹中的坐标根据边界条件展开且会对原子序号排序，只有计算这两个参数，用户才应该使用MultiSystem,其余情况都应该使用System\n",
    "\n",
    "\n",
    "- 这里我们读取rdf.0.dump到rdf.4.dump总共5个frames来进行计算"
   ]
  },
  {
   "cell_type": "code",
   "execution_count": null,
   "id": "7931ff5d-43d1-4d4e-99bd-f005bfa058d5",
   "metadata": {},
   "outputs": [],
   "source": [
    "MS = mp.MultiSystem([f'traj/rdf.{i}.dump' for i in range(5)])"
   ]
  },
  {
   "cell_type": "code",
   "execution_count": null,
   "id": "dbcc6890-5d2d-4372-b965-c71e35d1f147",
   "metadata": {},
   "outputs": [],
   "source": [
    "MS[0]"
   ]
  },
  {
   "cell_type": "markdown",
   "id": "248ec468-f542-4fa5-9783-750072e2b390",
   "metadata": {},
   "source": [
    "### 计算MSD"
   ]
  },
  {
   "cell_type": "code",
   "execution_count": null,
   "id": "95af0cba-dbd9-452e-a4f3-0fe4b675e455",
   "metadata": {},
   "outputs": [],
   "source": [
    "MS.cal_mean_squared_displacement()"
   ]
  },
  {
   "cell_type": "code",
   "execution_count": null,
   "id": "e1c001af-cb4c-4f70-adda-c41281a2a7c2",
   "metadata": {},
   "outputs": [],
   "source": [
    "fig, ax = MS.MSD.plot()"
   ]
  },
  {
   "cell_type": "markdown",
   "id": "82faa167-6dcb-4d9f-88f9-29c5a034001d",
   "metadata": {},
   "source": [
    "### 计算Lindemann index"
   ]
  },
  {
   "cell_type": "code",
   "execution_count": null,
   "id": "f2b165e8-1861-4809-becf-622ff7a41aa9",
   "metadata": {},
   "outputs": [],
   "source": [
    "MS.cal_lindemann_parameter()"
   ]
  },
  {
   "cell_type": "code",
   "execution_count": null,
   "id": "36401889-da1b-419b-95e5-ea2e69231c4b",
   "metadata": {},
   "outputs": [],
   "source": [
    "fig, ax = MS.Lindemann.plot()"
   ]
  },
  {
   "cell_type": "markdown",
   "id": "a82b4a74-5628-4633-baad-0fb14ecc80ac",
   "metadata": {},
   "source": [
    "mdapy会把每个原子在MSD和lindemann系数上的贡献保存下来"
   ]
  },
  {
   "cell_type": "code",
   "execution_count": null,
   "id": "bae2f240-fe50-4d17-84ae-14dd3109ec3d",
   "metadata": {},
   "outputs": [],
   "source": [
    "MS[0]"
   ]
  },
  {
   "cell_type": "markdown",
   "id": "bff7db24-02a1-42b8-96d6-5674f91098a1",
   "metadata": {},
   "source": [
    "用户可以把结果保存到一系列dump文件中"
   ]
  },
  {
   "cell_type": "code",
   "execution_count": null,
   "id": "2e148871-1886-422d-9a6b-339a0d027f13",
   "metadata": {},
   "outputs": [],
   "source": [
    "MS.write_dumps()"
   ]
  },
  {
   "cell_type": "markdown",
   "id": "83ab7f47-5048-48ce-b329-ad88927519d2",
   "metadata": {},
   "source": [
    "# 实战案例：计算层错能"
   ]
  },
  {
   "cell_type": "markdown",
   "id": "4b7bad76-c3dc-4536-9d43-57e15549b58b",
   "metadata": {},
   "source": [
    "这里我们以Al为例，计算他在<112>方向滑移的层错能。"
   ]
  },
  {
   "cell_type": "markdown",
   "id": "17a0192e-c522-4486-81a2-4f7ca48dbdd8",
   "metadata": {},
   "source": [
    "## 建立一个晶向为x[11-2], y[1-10], z[111]的构型"
   ]
  },
  {
   "cell_type": "code",
   "execution_count": null,
   "id": "f86d3030-9ede-4f7f-81a9-af3713c27476",
   "metadata": {},
   "outputs": [],
   "source": [
    "lattice_constant = 4.05\n",
    "lattice_type = 'FCC'\n",
    "fcc = mp.LatticeMaker(lattice_constant, \n",
    "                      lattice_type, \n",
    "                      10, 15, 10, \n",
    "                      crystalline_orientation=\n",
    "                      np.array([[1, 1, -2], \n",
    "                                [1, -1, 0], \n",
    "                                [1, 1, 1]]))\n",
    "fcc.compute()\n",
    "system = mp.System(pos=fcc.pos, box=fcc.box)"
   ]
  },
  {
   "cell_type": "code",
   "execution_count": null,
   "id": "d2018a73-409b-4e73-a012-d50757502dfd",
   "metadata": {},
   "outputs": [],
   "source": [
    "system.display()"
   ]
  },
  {
   "cell_type": "markdown",
   "id": "9b6b591c-60fe-44dd-b0d8-d3787d7834c6",
   "metadata": {},
   "source": [
    "## 将z方向改为自由边界"
   ]
  },
  {
   "cell_type": "code",
   "execution_count": null,
   "id": "a5fb94be-f9e6-4dd5-9ee7-61f9c7e43112",
   "metadata": {},
   "outputs": [],
   "source": [
    "system.boundary[-1] = 0"
   ]
  },
  {
   "cell_type": "markdown",
   "id": "f8435c53-3987-4e9d-9dea-63260fe1d73a",
   "metadata": {},
   "source": [
    "## 计算初始的势能"
   ]
  },
  {
   "cell_type": "code",
   "execution_count": null,
   "id": "0fa99316-3c31-4afd-840d-59f4eaa0f97b",
   "metadata": {},
   "outputs": [],
   "source": [
    "system.cal_energy_force('frame/Al_DFT.eam.alloy', ['Al'], max_neigh=150)\n",
    "pe0 = system.data['pe'].sum()"
   ]
  },
  {
   "cell_type": "markdown",
   "id": "9af9e061-b94d-4f31-8d46-e4b87e0824f5",
   "metadata": {},
   "source": [
    "## 定义每一次移动的间隔距离"
   ]
  },
  {
   "cell_type": "code",
   "execution_count": null,
   "id": "935aeda8-a80e-4f8d-a38f-78203fbdd4fe",
   "metadata": {},
   "outputs": [],
   "source": [
    "move = (lattice_constant/6**0.5+0.2)/50\n",
    "factor = system.box[0,0] * system.box[1,1]/16021.766200000002 # 转换系数"
   ]
  },
  {
   "cell_type": "markdown",
   "id": "75b8152d-c419-4c4a-b8ba-91d742fc8ec9",
   "metadata": {},
   "source": [
    "## 开始循环计算"
   ]
  },
  {
   "cell_type": "code",
   "execution_count": null,
   "id": "7c9928c1-a4c1-48a4-8e8d-bd1ac78a8b72",
   "metadata": {},
   "outputs": [],
   "source": [
    "sfe = [0.]\n",
    "for i in tqdm(range(1, 51)):\n",
    "    newdata = system.data.with_columns(\n",
    "        pl.when(pl.col('z')>35).\n",
    "        then(pl.col('x')+move).\n",
    "        otherwise(pl.col('x')).\n",
    "        alias('x'))\n",
    "    system.update_data(newdata, update_pos=True) # 移动上半部分\n",
    "    system.wrap_pos() # 周期性折叠\n",
    "    system.if_neigh = False # 确保重新建立邻域\n",
    "    system.cal_energy_force('frame/Al_DFT.eam.alloy', ['Al'], max_neigh=150)\n",
    "    sfe.append((system.data['pe'].sum()-pe0)/factor)"
   ]
  },
  {
   "cell_type": "markdown",
   "id": "0833bda8-c2a7-49c6-850d-707fe884d2d9",
   "metadata": {},
   "source": [
    "## 绘制结果"
   ]
  },
  {
   "cell_type": "code",
   "execution_count": null,
   "id": "b4b7375e-01fe-44a8-9e18-b3a3852ff03e",
   "metadata": {},
   "outputs": [],
   "source": [
    "fig, ax = mp.set_figure(figsize=(10, 7), use_pltset=True)\n",
    "\n",
    "plt.plot(np.arange(51)*move/(lattice_constant/6**0.5), sfe, 'o-')\n",
    "plt.xlabel(\"Displacement along $<112>$ \" + \"$\\mathregular{(a_0/\\sqrt{6})}$\")\n",
    "plt.ylabel(\"SFE ($\\mathregular{mJ/{m^2}}$)\")\n",
    "plt.text(0.47, 100, 'USF')\n",
    "plt.text(0.97, 25, 'ISF')"
   ]
  },
  {
   "cell_type": "markdown",
   "id": "0e1bfbde-258e-4854-9f11-2dc7b75caed3",
   "metadata": {},
   "source": [
    "# 发展mdapy"
   ]
  },
  {
   "cell_type": "markdown",
   "id": "c01a1864-3a41-4866-a5e9-d15764b97591",
   "metadata": {},
   "source": [
    "mdapy目前还是一个在快速迭代发展的程序，但是由于我个人时间有限，难免会存在一些bug，比如文档错误，代码在有些情况会出错等。\n",
    "大家可以通过在github主页上面提交issue进行反馈。我有时间的话会尽快修复。如果有一些功能在mdapy中没有实现，但是又确实很常用，\n",
    "也可以在issue里面反馈。\n",
    "\n",
    "> 最后，如果你喜欢mdapy，请给它Star。如果你在文章中使用了mdapy，请引用它。"
   ]
  },
  {
   "cell_type": "markdown",
   "id": "bf8c1419-3c34-4578-b9d2-5cbdafd7e7d6",
   "metadata": {},
   "source": [
    "<img src=\"image/activities.jpg\" alt=\"activities.jpg\" border=\"0\" width=\"800\"/>"
   ]
  }
 ],
 "metadata": {
  "kernelspec": {
   "display_name": "mda",
   "language": "python",
   "name": "mda"
  },
  "language_info": {
   "codemirror_mode": {
    "name": "ipython",
    "version": 3
   },
   "file_extension": ".py",
   "mimetype": "text/x-python",
   "name": "python",
   "nbconvert_exporter": "python",
   "pygments_lexer": "ipython3",
   "version": "3.8.0"
  }
 },
 "nbformat": 4,
 "nbformat_minor": 5
}
