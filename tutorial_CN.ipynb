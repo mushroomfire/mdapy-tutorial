{
 "cells": [
  {
   "cell_type": "markdown",
   "id": "46866cf7-8467-40b6-bace-16d2ecf586a9",
   "metadata": {},
   "source": [
    "# <center><b>mdapy</b>: Molecular dynamics simulation analysis with Python</center>"
   ]
  },
  {
   "cell_type": "markdown",
   "id": "3564a660-9b15-4aa3-9522-a5abd0220672",
   "metadata": {},
   "source": [
    "<center><img src=\"image/logo.png\" alt=\"logo.png\" border=\"0\" width=\"500\"/></center>"
   ]
  },
  {
   "cell_type": "markdown",
   "id": "57f6d79c-b3c4-4f95-9ccb-20385e336d18",
   "metadata": {
    "jp-MarkdownHeadingCollapsed": true
   },
   "source": [
    "#### <center> <b>Author</b>：Yong-Chao Wu </center>\n",
    "#### <center> <b>Supervisor</b>: Jian-Li Shao</center>\n",
    "#### <center> <b>Date</b>: 2023/11/24</center>\n",
    "- Wu, Y. C., & Shao, J. L. (2023). mdapy: A flexible and efficient analysis software for molecular dynamics simulations. Computer Physics Communications, 290, 108764. https://doi.org/10.1016/j.cpc.2023.108764"
   ]
  },
  {
   "cell_type": "markdown",
   "id": "f1f1f82c-bbdd-4d2d-9dc2-a2a1de00d548",
   "metadata": {},
   "source": [
    "# 适用范围"
   ]
  },
  {
   "cell_type": "markdown",
   "id": "9db03ccb-df6f-4153-89d4-78703a8e45cd",
   "metadata": {},
   "source": [
    "- 主要面向固体材料的模拟，特别是金属/合金体系,但设计架构上可扩展到任何原子体系\n",
    "- 适合于单一Frame的系统状态分析，不擅长一个轨迹中不同Frame间的关联分析\n",
    "- 支持常见的文件格式，如LAMMPS中的DUMP和DATA格式，VASP中的POSCAR格式，通用的XYZ格式\n",
    "- 仅支持三维构型\n",
    "- 具有非常快的文件读写速度，良好的计算性能"
   ]
  },
  {
   "cell_type": "markdown",
   "id": "26ecbd40-6e69-427d-a2dc-e4cda4bae35d",
   "metadata": {},
   "source": [
    "# 安装"
   ]
  },
  {
   "cell_type": "markdown",
   "id": "2650975e-13c3-4404-bb8e-74c9614abd0c",
   "metadata": {},
   "source": [
    "> ```bash\n",
    "> conda create -n mda python=3.10\n",
    "> conda activate mda\n",
    "> pip install mdapy -U \n",
    "> pip install mdapy[all] -U # If you want to install all optional dependencies```"
   ]
  },
  {
   "cell_type": "markdown",
   "id": "99424853-89a5-4dc4-9909-073c212606be",
   "metadata": {},
   "source": [
    "# 工作流示意图"
   ]
  },
  {
   "cell_type": "markdown",
   "id": "b6050c33-06f4-4004-903d-f07b273211a7",
   "metadata": {},
   "source": [
    "<img src=\"image/workflow.png\" alt=\"workflow.png\" border=\"0\" width=\"800\"/>"
   ]
  },
  {
   "cell_type": "markdown",
   "id": "24e4b840-b3ce-49f8-ad5d-8d9d8037aa7f",
   "metadata": {},
   "source": [
    "# 新手教程"
   ]
  },
  {
   "cell_type": "markdown",
   "id": "4ae289c7-f089-45a5-8e6b-c0d39d97f2a9",
   "metadata": {},
   "source": [
    "默认会导入如下库并采用常用的简称"
   ]
  },
  {
   "cell_type": "code",
   "execution_count": 1,
   "id": "e7b4caa5-2046-4d11-b135-330824ff344e",
   "metadata": {},
   "outputs": [
    {
     "name": "stdout",
     "output_type": "stream",
     "text": [
      "[Taichi] version 1.6.0, llvm 15.0.1, commit f1c6fbbd, win, python 3.8.0\n",
      "[Taichi] Starting on arch=x64\n",
      "Version of mdapy is: 0.9.9\n"
     ]
    }
   ],
   "source": [
    "import mdapy as mp\n",
    "import numpy as np\n",
    "import polars as pl\n",
    "from tqdm import tqdm\n",
    "import matplotlib.pyplot as plt\n",
    "mp.init()\n",
    "print(f'Version of mdapy is: {mp.__version__}')"
   ]
  },
  {
   "cell_type": "markdown",
   "id": "df4cad08-6e7d-467a-8495-e35f33233a66",
   "metadata": {},
   "source": [
    "## System 类"
   ]
  },
  {
   "cell_type": "markdown",
   "id": "99e36af3-3de2-4e10-9ffd-f7d594ec6001",
   "metadata": {},
   "source": [
    "mdapy中一个核心的模块是**System**类，这个类由原子的Position, Box和Boundary组成。\n",
    "生成System类有许多方式。\n",
    "\n",
    "第一种方式，直接读取一个Dump/Data文件："
   ]
  },
  {
   "cell_type": "code",
   "execution_count": 2,
   "id": "62a20e02-00a4-4ec1-865f-b7dd557e7f90",
   "metadata": {},
   "outputs": [],
   "source": [
    "system = mp.System('./frame/CoCuFeNiPd.dump')"
   ]
  },
  {
   "cell_type": "markdown",
   "id": "8f09ff65-4924-4fa4-ae6b-897aba13cd6b",
   "metadata": {},
   "source": [
    "查看system实例包含的信息"
   ]
  },
  {
   "cell_type": "code",
   "execution_count": 3,
   "id": "6662aabf-6aa6-4f59-9139-aa79a17cd349",
   "metadata": {},
   "outputs": [
    {
     "data": {
      "text/plain": [
       "Filename: ./frame/CoCuFeNiPd.dump\n",
       "Atom Number: 8788\n",
       "Simulation Box:\n",
       "[[47.36159615  0.          0.        ]\n",
       " [ 0.         47.46541884  0.        ]\n",
       " [ 0.          0.         47.46849764]\n",
       " [-1.18079807 -1.23270942 -1.23424882]]\n",
       "TimeStep: 0\n",
       "Boundary: [1, 1, 1]\n",
       "Particle Information:\n",
       "shape: (5, 5)\n",
       "┌─────┬──────┬───────────┬───────────┬───────────┐\n",
       "│ id  ┆ type ┆ x         ┆ y         ┆ z         │\n",
       "│ --- ┆ ---  ┆ ---       ┆ ---       ┆ ---       │\n",
       "│ i64 ┆ i64  ┆ f64       ┆ f64       ┆ f64       │\n",
       "╞═════╪══════╪═══════════╪═══════════╪═══════════╡\n",
       "│ 1   ┆ 2    ┆ 0.006118  ┆ -0.310917 ┆ -0.345241 │\n",
       "│ 2   ┆ 4    ┆ 1.9019    ┆ -0.292456 ┆ 1.48488   │\n",
       "│ 3   ┆ 3    ┆ -0.015641 ┆ 1.58432   ┆ 1.43129   │\n",
       "│ 4   ┆ 5    ┆ 1.86237   ┆ 1.51117   ┆ -0.372278 │\n",
       "│ 5   ┆ 5    ┆ 3.79257   ┆ -0.331891 ┆ -0.37583  │\n",
       "└─────┴──────┴───────────┴───────────┴───────────┘"
      ]
     },
     "execution_count": 3,
     "metadata": {},
     "output_type": "execute_result"
    }
   ],
   "source": [
    "system"
   ]
  },
  {
   "cell_type": "markdown",
   "id": "7d579524-5f60-417d-9c68-65759ab1a130",
   "metadata": {},
   "source": [
    "- 查看Box信息\n",
    "1. mdapy中的盒子是一个(4x3)的2维数组，前三行代表盒子的三个基向量，最后一行是盒子的原点\n",
    "2. 盒子采用[LAMMPS的规则](https://docs.lammps.org/Howto_triclinic.html)，所以box[0, 1]==box[0, 2]==box[1, 2]==0\n",
    "3. 对于正交盒子，为了和之前版本的兼容性，mdapy也支持(3x2)的盒子，第一列代表[xlo, ylo, zlo],第二列代表[xhi, yhi, zhi]"
   ]
  },
  {
   "cell_type": "code",
   "execution_count": 4,
   "id": "b8064e71-fb2a-4565-b81f-304b1ce2a5ba",
   "metadata": {},
   "outputs": [
    {
     "data": {
      "text/plain": [
       "array([[47.36159615,  0.        ,  0.        ],\n",
       "       [ 0.        , 47.46541884,  0.        ],\n",
       "       [ 0.        ,  0.        , 47.46849764],\n",
       "       [-1.18079807, -1.23270942, -1.23424882]])"
      ]
     },
     "execution_count": 4,
     "metadata": {},
     "output_type": "execute_result"
    }
   ],
   "source": [
    "system.box"
   ]
  },
  {
   "cell_type": "markdown",
   "id": "c1b34bf7-e8e9-4b0b-bbba-619f5dd25fe8",
   "metadata": {},
   "source": [
    "- 查看原子Position信息\n",
    "\n",
    "1. 位置信息存储在一个(Nx3)的2维数组中, 从左到右每一列分别代表x, y, z坐标\n",
    "2. 仅提供一个view, 用户不应该直接修改位置信息"
   ]
  },
  {
   "cell_type": "code",
   "execution_count": 5,
   "id": "0411942e-907d-4969-b4d1-c3990f82eba7",
   "metadata": {},
   "outputs": [
    {
     "data": {
      "text/plain": [
       "array([[ 6.11791e-03, -3.10917e-01, -3.45241e-01],\n",
       "       [ 1.90190e+00, -2.92456e-01,  1.48488e+00],\n",
       "       [-1.56413e-02,  1.58432e+00,  1.43129e+00],\n",
       "       ...,\n",
       "       [ 4.53771e+01,  4.37577e+01,  4.52727e+01],\n",
       "       [ 4.34552e+01,  4.54854e+01,  4.52825e+01],\n",
       "       [ 4.53919e+01,  4.54009e+01,  4.34999e+01]])"
      ]
     },
     "execution_count": 5,
     "metadata": {},
     "output_type": "execute_result"
    }
   ],
   "source": [
    "system.pos"
   ]
  },
  {
   "cell_type": "markdown",
   "id": "196eb232-5552-447a-8eb7-63db6de5bdc1",
   "metadata": {},
   "source": [
    "- 查看边界Boundary信息\n",
    "  \n",
    "1. 边界条件由一个包含三个数字的列表表示，其中1代表周期性边界，0代表自由边界"
   ]
  },
  {
   "cell_type": "code",
   "execution_count": 6,
   "id": "632665cf-6ec8-4d0b-99e0-62ab77b618ef",
   "metadata": {},
   "outputs": [
    {
     "data": {
      "text/plain": [
       "[1, 1, 1]"
      ]
     },
     "execution_count": 6,
     "metadata": {},
     "output_type": "execute_result"
    }
   ],
   "source": [
    "system.boundary"
   ]
  },
  {
   "cell_type": "markdown",
   "id": "8c6ab2e7-7bd1-42b3-b198-7b0d87570729",
   "metadata": {},
   "source": [
    "- 查看所有Particle相关的数据\n",
    "\n",
    "1. 粒子携带的所有信息都存储在一个DataFrame中\n",
    "2. 用户可以很方便的对每一个属性，每一个原子进行统计分析"
   ]
  },
  {
   "cell_type": "code",
   "execution_count": 7,
   "id": "f252bb9c-293d-49e8-8e4e-4c0a34e77e70",
   "metadata": {},
   "outputs": [
    {
     "data": {
      "text/html": [
       "<div><style>\n",
       ".dataframe > thead > tr,\n",
       ".dataframe > tbody > tr {\n",
       "  text-align: right;\n",
       "  white-space: pre-wrap;\n",
       "}\n",
       "</style>\n",
       "<small>shape: (5, 5)</small><table border=\"1\" class=\"dataframe\"><thead><tr><th>id</th><th>type</th><th>x</th><th>y</th><th>z</th></tr><tr><td>i64</td><td>i64</td><td>f64</td><td>f64</td><td>f64</td></tr></thead><tbody><tr><td>1</td><td>2</td><td>0.006118</td><td>-0.310917</td><td>-0.345241</td></tr><tr><td>2</td><td>4</td><td>1.9019</td><td>-0.292456</td><td>1.48488</td></tr><tr><td>3</td><td>3</td><td>-0.015641</td><td>1.58432</td><td>1.43129</td></tr><tr><td>4</td><td>5</td><td>1.86237</td><td>1.51117</td><td>-0.372278</td></tr><tr><td>5</td><td>5</td><td>3.79257</td><td>-0.331891</td><td>-0.37583</td></tr></tbody></table></div>"
      ],
      "text/plain": [
       "shape: (5, 5)\n",
       "┌─────┬──────┬───────────┬───────────┬───────────┐\n",
       "│ id  ┆ type ┆ x         ┆ y         ┆ z         │\n",
       "│ --- ┆ ---  ┆ ---       ┆ ---       ┆ ---       │\n",
       "│ i64 ┆ i64  ┆ f64       ┆ f64       ┆ f64       │\n",
       "╞═════╪══════╪═══════════╪═══════════╪═══════════╡\n",
       "│ 1   ┆ 2    ┆ 0.006118  ┆ -0.310917 ┆ -0.345241 │\n",
       "│ 2   ┆ 4    ┆ 1.9019    ┆ -0.292456 ┆ 1.48488   │\n",
       "│ 3   ┆ 3    ┆ -0.015641 ┆ 1.58432   ┆ 1.43129   │\n",
       "│ 4   ┆ 5    ┆ 1.86237   ┆ 1.51117   ┆ -0.372278 │\n",
       "│ 5   ┆ 5    ┆ 3.79257   ┆ -0.331891 ┆ -0.37583  │\n",
       "└─────┴──────┴───────────┴───────────┴───────────┘"
      ]
     },
     "execution_count": 7,
     "metadata": {},
     "output_type": "execute_result"
    }
   ],
   "source": [
    "system.data.head()"
   ]
  },
  {
   "cell_type": "markdown",
   "id": "137b9f2c-363b-4592-bf41-52c90aa0822e",
   "metadata": {},
   "source": [
    "## 邻域信息"
   ]
  },
  {
   "cell_type": "markdown",
   "id": "9c19f88e-292d-4d45-8591-1edb0e47bc63",
   "metadata": {},
   "source": [
    "当用户实例化一个System类以后，就可以进行后续的大多数分析计算。对于mdapy中的所有分析，可以大致分为两类：\n",
    "\n",
    "1. 需要邻域信息的\n",
    "2. 不需要邻域信息的"
   ]
  },
  {
   "cell_type": "markdown",
   "id": "fb166d0b-231d-4af8-b6bc-e88359fc8bf4",
   "metadata": {},
   "source": [
    "### 固定截断距离的邻域"
   ]
  },
  {
   "cell_type": "markdown",
   "id": "bb5f667d-a429-4241-90bf-83740161ea73",
   "metadata": {},
   "source": [
    "实际上这是所有粒子模拟都会面临的一个共同问题，如何快速的找到一个粒子周围和它距离小于rc的所有粒子。\n",
    "最简单的做法，直接使用双重循环，这样的复杂度是$O(N^2)$。一个常见的优化方法是使用linked-cell-list算法,\n",
    "简单来说就是首先将粒子划分到三维的网格中，这样搜索邻域只需要在周围的27个网格中检索就行了，大大降低了复杂程度。\n",
    "\n",
    "当然，这里面如何划分网格宽度？也会对计算效率带来一定的影响。以及如果粒子带有不同的半径，这时候可能直接划分网格就会效率很低了。\n",
    "\n",
    "1. 在mdapy中，网格的长度是截断半径加一个小量，采用元胞链表算法，考虑周期性边界条件。\n",
    "2. 我们对程序进行了一些优化，比如对于初始网络划分部分，是在C++端完成的，后续的并行检索是在Taichi端完成的。\n",
    "\n",
    "与Ovito和Freud的效率对比，以及本身的并行扩展性对比如下："
   ]
  },
  {
   "cell_type": "markdown",
   "id": "7efdaf92-3b01-4c88-a27c-5541d23a9a6f",
   "metadata": {},
   "source": [
    "<img src=\"image/neighbor.jpg\" alt=\"neighbor,jpg\" border=\"0\" width=\"800\"/>"
   ]
  },
  {
   "cell_type": "code",
   "execution_count": 8,
   "id": "42a33dcf-f2f9-414e-9faf-c210d316063a",
   "metadata": {},
   "outputs": [],
   "source": [
    "system.build_neighbor(rc=5., max_neigh=60)"
   ]
  },
  {
   "cell_type": "markdown",
   "id": "7afc4390-2b9a-4e79-b970-d5fa38f7c7ef",
   "metadata": {},
   "source": [
    "- 查看原子的邻域列表\n",
    "\n",
    "1. 是一个(N, max_neigh)的2维数组，每一行对应该原子的邻域内原子索引\n",
    "2. max_neigh代表最大邻域原子数目，可以手动指定，也可以自动生成\n",
    "3. 手动指定可以节约内存，提高计算速度\n",
    "4. 其中-1是默认填充值，原子索引从0开始"
   ]
  },
  {
   "cell_type": "code",
   "execution_count": 9,
   "id": "613c6135-af5f-4178-9a5b-6fcb776af85e",
   "metadata": {},
   "outputs": [
    {
     "data": {
      "text/plain": [
       "array([[8787, 8786, 8785, ...,   -1,   -1,   -1],\n",
       "       [8683, 8678, 7785, ...,   -1,   -1,   -1],\n",
       "       [8683, 8678, 7890, ...,   -1,   -1,   -1],\n",
       "       ...,\n",
       "       [8787, 8786, 8784, ...,   -1,   -1,   -1],\n",
       "       [8787, 8785, 8784, ...,   -1,   -1,   -1],\n",
       "       [8786, 8785, 8784, ...,   -1,   -1,   -1]])"
      ]
     },
     "execution_count": 9,
     "metadata": {},
     "output_type": "execute_result"
    }
   ],
   "source": [
    "system.verlet_list"
   ]
  },
  {
   "cell_type": "markdown",
   "id": "07642cbe-8d25-432e-968a-d9e7951fd98a",
   "metadata": {},
   "source": [
    "- 查看原子的邻域距离列表\n",
    "  \n",
    "1. 与verlet_list相对应的欧式距离，考虑了周期性边界\n",
    "2. verlet_list中-1对应的地方默认填充为rc+1的数值，这样处理是为了方便排序"
   ]
  },
  {
   "cell_type": "code",
   "execution_count": 10,
   "id": "a4a19a7f-7d7e-4bcd-877c-8f609f77e782",
   "metadata": {},
   "outputs": [
    {
     "data": {
      "text/plain": [
       "array([[4.48415851, 4.63487321, 4.35033004, ..., 6.        , 6.        ,\n",
       "        6.        ],\n",
       "       [4.46090018, 4.58191893, 4.52604475, ..., 6.        , 6.        ,\n",
       "        6.        ],\n",
       "       [4.31507754, 4.44738973, 4.59567837, ..., 6.        , 6.        ,\n",
       "        6.        ],\n",
       "       ...,\n",
       "       [2.41725984, 2.5843264 , 2.54077073, ..., 6.        , 6.        ,\n",
       "        6.        ],\n",
       "       [2.63355461, 2.5843264 , 2.4206412 , ..., 6.        , 6.        ,\n",
       "        6.        ],\n",
       "       [2.63355461, 2.41725984, 2.55379803, ..., 6.        , 6.        ,\n",
       "        6.        ]])"
      ]
     },
     "execution_count": 10,
     "metadata": {},
     "output_type": "execute_result"
    }
   ],
   "source": [
    "system.distance_list"
   ]
  },
  {
   "cell_type": "markdown",
   "id": "ca2d245a-95bd-4377-b756-be56919b8b54",
   "metadata": {},
   "source": [
    "- 查看原子的邻域原子数目\n",
    "\n",
    "1. 数字代表每个原子的实际邻域原子数，这些数都<=max_neigh"
   ]
  },
  {
   "cell_type": "code",
   "execution_count": 11,
   "id": "57239ad9-1eb5-4f42-8ec5-1bab1022902e",
   "metadata": {},
   "outputs": [
    {
     "data": {
      "text/plain": [
       "array([43, 44, 42, ..., 44, 44, 43])"
      ]
     },
     "execution_count": 11,
     "metadata": {},
     "output_type": "execute_result"
    }
   ],
   "source": [
    "system.neighbor_number"
   ]
  },
  {
   "cell_type": "code",
   "execution_count": 12,
   "id": "789582e5-39f6-4596-81bf-24fdc363717d",
   "metadata": {},
   "outputs": [],
   "source": [
    "assert system.neighbor_number.max() <= 60"
   ]
  },
  {
   "cell_type": "markdown",
   "id": "a42c4086-34a1-4afa-91e8-77562d7b0cdb",
   "metadata": {},
   "source": [
    "- 如果我们想获取某一个原子的邻域列表，以0号原子为例"
   ]
  },
  {
   "cell_type": "code",
   "execution_count": 13,
   "id": "8bc844bc-3795-4313-912d-01a762e711f1",
   "metadata": {},
   "outputs": [
    {
     "data": {
      "text/plain": [
       "array([8787, 8786, 8785, 8683, 8678, 8677, 8676, 7890, 7887, 7886, 7885,\n",
       "       7785, 7782, 7779, 7778, 7777, 7776, 1012, 1010, 1009, 1008,  902,\n",
       "        901,  899,  897,  896,  895,  894,  115,  113,  111,  110,  109,\n",
       "        108,   10,    9,    7,    6,    5,    4,    3,    2,    1])"
      ]
     },
     "execution_count": 13,
     "metadata": {},
     "output_type": "execute_result"
    }
   ],
   "source": [
    "system.verlet_list[0][system.verlet_list[0]>-1]"
   ]
  },
  {
   "cell_type": "markdown",
   "id": "3afc0565-2338-4f82-a57e-493f3ac489ad",
   "metadata": {},
   "source": [
    "- 对应的距离如下"
   ]
  },
  {
   "cell_type": "code",
   "execution_count": 14,
   "id": "30c6c48b-2b2d-4ed1-8fab-ce9f0385c3cc",
   "metadata": {},
   "outputs": [
    {
     "data": {
      "text/plain": [
       "array([4.48415851, 4.63487321, 4.35033004, 4.32684219, 2.57315649,\n",
       "       4.56321812, 4.28528359, 4.59095276, 4.66010003, 4.75302553,\n",
       "       2.75477768, 4.39168451, 4.61796939, 2.72325674, 4.72094208,\n",
       "       2.60048836, 3.89905069, 4.59982507, 4.55429545, 2.58034816,\n",
       "       4.3158718 , 4.39625655, 4.94515661, 4.54723002, 2.57907233,\n",
       "       2.51207599, 4.33703698, 3.40006632, 4.52692755, 4.59187976,\n",
       "       4.58003255, 2.63799722, 2.64905416, 3.73204205, 4.42655427,\n",
       "       3.47691914, 4.43249288, 3.67048701, 4.59684361, 3.78663373,\n",
       "       2.60123122, 2.59777966, 2.63508509])"
      ]
     },
     "execution_count": 14,
     "metadata": {},
     "output_type": "execute_result"
    }
   ],
   "source": [
    "system.distance_list[0][system.verlet_list[0]>-1]"
   ]
  },
  {
   "cell_type": "markdown",
   "id": "cc048e0c-1474-42ef-a016-2729ec42fb6b",
   "metadata": {},
   "source": [
    "- 计算距离来验证"
   ]
  },
  {
   "cell_type": "code",
   "execution_count": 15,
   "id": "2dc157d6-fc46-477f-90ed-58f561e4ed2d",
   "metadata": {},
   "outputs": [
    {
     "data": {
      "text/plain": [
       "4.484158107630933"
      ]
     },
     "execution_count": 15,
     "metadata": {},
     "output_type": "execute_result"
    }
   ],
   "source": [
    "system.atom_distance(0, 8787)"
   ]
  },
  {
   "cell_type": "markdown",
   "id": "63460e09-2273-47d7-a3cb-8b51dccc85b5",
   "metadata": {},
   "source": [
    "### 固定数目的最近邻查找"
   ]
  },
  {
   "cell_type": "markdown",
   "id": "cb288a60-1590-4081-ab0e-c3a21ce2f795",
   "metadata": {},
   "source": [
    "另一种常见的情况就是我不关心离我多近的有多少，我只想要距离我最近的多少个粒子信息。\n",
    "\n",
    "对于直接查找，最常用的是使用Tree的数据结构，常见的有kdtree, aabb tree, vptree, BVH tree等。\n",
    "\n",
    "在mdapy中的处理方式如下：\n",
    "\n",
    "1. 如果System没有Neighbor，对于正交盒子会创建一个kdtree来进行查找，对于斜盒子则会使用网格法迭代查找\n",
    "2. 如果System有Neighbor，且最小邻域原子数目不小于待查找数目，则对邻域进行部分排序\n",
    "3. 一般来说，需要进行多种分析时，先建立一个较大的邻域，可以有效的节约总计算时间"
   ]
  },
  {
   "cell_type": "code",
   "execution_count": 16,
   "id": "5a03fd93-9965-44e5-920a-288d8b40be46",
   "metadata": {},
   "outputs": [],
   "source": [
    "kdt = mp.NearestNeighbor(system.pos, system.box, system.boundary)"
   ]
  },
  {
   "cell_type": "code",
   "execution_count": 17,
   "id": "e367ded1-aeb6-487f-b5c4-0e383625b68b",
   "metadata": {},
   "outputs": [],
   "source": [
    "distance_list, verlet_list = kdt.query_nearest_neighbors(12)"
   ]
  },
  {
   "cell_type": "markdown",
   "id": "7378e168-4d1f-4fdf-a3a0-25fe7a16f839",
   "metadata": {},
   "source": [
    "- 查看最近邻信息"
   ]
  },
  {
   "cell_type": "code",
   "execution_count": 18,
   "id": "9c73e78e-8d1d-424e-a00e-93776ca5c935",
   "metadata": {},
   "outputs": [
    {
     "data": {
      "text/plain": [
       "array([ 896, 8678,  897, 1009,    2, 7777,    3,    1,  110,  109, 7779,\n",
       "       7885], dtype=int64)"
      ]
     },
     "execution_count": 18,
     "metadata": {},
     "output_type": "execute_result"
    }
   ],
   "source": [
    "verlet_list[0]"
   ]
  },
  {
   "cell_type": "code",
   "execution_count": 19,
   "id": "5d07ee72-f136-496f-8a56-beb2bb113d3f",
   "metadata": {},
   "outputs": [
    {
     "data": {
      "text/plain": [
       "array([2.51207536, 2.57315662, 2.5790717 , 2.58034708, 2.59777966,\n",
       "       2.60048908, 2.60123122, 2.63508509, 2.63799678, 2.64905374,\n",
       "       2.72325745, 2.75477797])"
      ]
     },
     "execution_count": 19,
     "metadata": {},
     "output_type": "execute_result"
    }
   ],
   "source": [
    "distance_list[0]"
   ]
  },
  {
   "cell_type": "markdown",
   "id": "9f11b294-83a9-4748-8487-195fcf1da6e5",
   "metadata": {},
   "source": [
    "## 后处理分析"
   ]
  },
  {
   "cell_type": "markdown",
   "id": "64690a80-9415-4816-9560-c1dc5317363d",
   "metadata": {},
   "source": [
    "- 当用户实例化System以后，就可以使用?来检索所有可用的分析方法。\n",
    "\n",
    "1. 对于计算结果为粒子属性的，如温度，中心对称参数等，mdapy会把计算结果直接添加到system.data中。\n",
    "2. 对于计算结果不是粒子属性的，如径向分布函数，WCP参数等，mdapy会保留对应的实例。"
   ]
  },
  {
   "cell_type": "markdown",
   "id": "28076596-5534-4a43-a87e-8eed86b2470d",
   "metadata": {},
   "source": [
    "### 计算径向分布函数"
   ]
  },
  {
   "cell_type": "code",
   "execution_count": 20,
   "id": "e7aecb37-2d86-49c8-8e4d-ac9326ab315c",
   "metadata": {},
   "outputs": [],
   "source": [
    "system.cal_pair_distribution()"
   ]
  },
  {
   "cell_type": "markdown",
   "id": "6778bc80-e9f2-4e91-ade4-2cd37c892d0d",
   "metadata": {},
   "source": [
    "这里就生成了PairDistribution实例，一般生成的实例名称和调用的函数名称接近，也可以使用?查看。"
   ]
  },
  {
   "cell_type": "code",
   "execution_count": 21,
   "id": "c6f738b3-b8ef-471e-ab13-94d866bb019f",
   "metadata": {},
   "outputs": [
    {
     "data": {
      "image/png": "[encoded data removed]",
      "text/plain": [
       "<Figure size 590.551x413.386 with 1 Axes>"
      ]
     },
     "metadata": {},
     "output_type": "display_data"
    }
   ],
   "source": [
    "fig, ax = system.PairDistribution.plot()"
   ]
  },
  {
   "cell_type": "code",
   "execution_count": 22,
   "id": "48a5a8aa-54f8-4f04-8a59-67546c317f14",
   "metadata": {},
   "outputs": [
    {
     "data": {
      "image/png": "[encoded data removed]",
      "text/plain": [
       "<Figure size 590.551x413.386 with 1 Axes>"
      ]
     },
     "metadata": {},
     "output_type": "display_data"
    }
   ],
   "source": [
    "fig, ax = system.PairDistribution.plot_partial()"
   ]
  },
  {
   "cell_type": "markdown",
   "id": "20d0e7c0-e05f-4c5b-9d44-f76c2740ca86",
   "metadata": {},
   "source": [
    "### 计算WCP参数"
   ]
  },
  {
   "cell_type": "code",
   "execution_count": 23,
   "id": "3797f540-873d-4ca3-9a95-d2fcc6b365c0",
   "metadata": {},
   "outputs": [],
   "source": [
    "system.cal_warren_cowley_parameter()"
   ]
  },
  {
   "cell_type": "code",
   "execution_count": 24,
   "id": "072c6950-4173-4119-b279-6aceddb7cbc1",
   "metadata": {},
   "outputs": [
    {
     "data": {
      "text/plain": [
       "array([[-1.39078011,  0.63941399,  0.39269725, -0.30498922,  0.66252684],\n",
       "       [ 0.63941399, -1.93830149,  0.58034431,  0.51486949,  0.20332652],\n",
       "       [ 0.3929276 ,  0.58050349, -0.56415998,  0.63267377, -1.04016883],\n",
       "       [-0.30492733,  0.51489249,  0.63255182, -1.69477812,  0.85080842],\n",
       "       [ 0.66254282,  0.20336424, -1.04084631,  0.8508084 , -0.67471711]])"
      ]
     },
     "execution_count": 24,
     "metadata": {},
     "output_type": "execute_result"
    }
   ],
   "source": [
    "system.WarrenCowleyParameter.WCP"
   ]
  },
  {
   "cell_type": "code",
   "execution_count": 25,
   "id": "120f23af-7a09-4740-9a9a-630cbdb6f782",
   "metadata": {},
   "outputs": [
    {
     "data": {
      "image/png": "[encoded data removed]",
      "text/plain": [
       "<Figure size 472.441x472.441 with 2 Axes>"
      ]
     },
     "metadata": {},
     "output_type": "display_data"
    }
   ],
   "source": [
    "fig, ax = system.WarrenCowleyParameter.plot()"
   ]
  },
  {
   "cell_type": "markdown",
   "id": "4369eb89-8490-4581-abc6-30da114560b1",
   "metadata": {},
   "source": [
    "### PTM结构分析"
   ]
  },
  {
   "cell_type": "code",
   "execution_count": 26,
   "id": "6ecc38d6-d915-4c15-ba3b-2534e3f78583",
   "metadata": {},
   "outputs": [],
   "source": [
    "system.cal_polyhedral_template_matching()"
   ]
  },
  {
   "cell_type": "markdown",
   "id": "494fc17c-2a0c-4e1e-a7c0-d93a5b6c7dd7",
   "metadata": {},
   "source": [
    "### 计算中心对称参数"
   ]
  },
  {
   "cell_type": "code",
   "execution_count": 27,
   "id": "e5d9578c-bc28-46b7-9aab-9fdeedf5ee73",
   "metadata": {},
   "outputs": [],
   "source": [
    "system.cal_centro_symmetry_parameter()"
   ]
  },
  {
   "cell_type": "markdown",
   "id": "6adf2380-ed5a-47ae-9248-18a397e2c9d1",
   "metadata": {},
   "source": [
    "### 计算构型熵"
   ]
  },
  {
   "cell_type": "code",
   "execution_count": 28,
   "id": "0d7d6a5f-695e-4441-8550-1f898d144781",
   "metadata": {},
   "outputs": [],
   "source": [
    "system.cal_atomic_entropy(rc=3.6*1.4, compute_average=True, average_rc=3.6*0.9)"
   ]
  },
  {
   "cell_type": "markdown",
   "id": "6ac2ae1a-4f8d-4399-a193-74a089860d1e",
   "metadata": {},
   "source": [
    "### 计算Voronoi体积"
   ]
  },
  {
   "cell_type": "code",
   "execution_count": 29,
   "id": "c539bd5c-5588-4d22-b5c4-fa77d7a5bba4",
   "metadata": {},
   "outputs": [],
   "source": [
    "system.cal_voronoi_volume()"
   ]
  },
  {
   "cell_type": "markdown",
   "id": "fde3cb09-7c18-4a09-b839-4e0db06e7982",
   "metadata": {},
   "source": [
    "### 查看计算结果"
   ]
  },
  {
   "cell_type": "code",
   "execution_count": 30,
   "id": "1dda24ac-0bde-4e1d-b45b-c76199607665",
   "metadata": {},
   "outputs": [
    {
     "data": {
      "text/html": [
       "<div><style>\n",
       ".dataframe > thead > tr,\n",
       ".dataframe > tbody > tr {\n",
       "  text-align: right;\n",
       "  white-space: pre-wrap;\n",
       "}\n",
       "</style>\n",
       "<small>shape: (5, 12)</small><table border=\"1\" class=\"dataframe\"><thead><tr><th>id</th><th>type</th><th>x</th><th>y</th><th>z</th><th>structure_types</th><th>csp</th><th>atomic_entropy</th><th>ave_atomic_entropy</th><th>voronoi_volume</th><th>voronoi_number</th><th>cavity_radius</th></tr><tr><td>i64</td><td>i64</td><td>f64</td><td>f64</td><td>f64</td><td>i32</td><td>f64</td><td>f64</td><td>f64</td><td>f64</td><td>i32</td><td>f64</td></tr></thead><tbody><tr><td>1</td><td>2</td><td>0.006118</td><td>-0.310917</td><td>-0.345241</td><td>1</td><td>0.100696</td><td>-5.997982</td><td>-6.469181</td><td>12.68101</td><td>15</td><td>3.675684</td></tr><tr><td>2</td><td>4</td><td>1.9019</td><td>-0.292456</td><td>1.48488</td><td>1</td><td>0.139543</td><td>-6.640986</td><td>-6.677864</td><td>12.012947</td><td>14</td><td>3.581766</td></tr><tr><td>3</td><td>3</td><td>-0.015641</td><td>1.58432</td><td>1.43129</td><td>1</td><td>0.094929</td><td>-6.821842</td><td>-6.666716</td><td>12.197214</td><td>12</td><td>3.674408</td></tr><tr><td>4</td><td>5</td><td>1.86237</td><td>1.51117</td><td>-0.372278</td><td>1</td><td>0.072999</td><td>-6.95832</td><td>-6.940528</td><td>12.900968</td><td>15</td><td>3.713117</td></tr><tr><td>5</td><td>5</td><td>3.79257</td><td>-0.331891</td><td>-0.37583</td><td>1</td><td>0.046358</td><td>-6.679067</td><td>-6.846047</td><td>12.400861</td><td>14</td><td>3.645415</td></tr></tbody></table></div>"
      ],
      "text/plain": [
       "shape: (5, 12)\n",
       "┌─────┬──────┬───────────┬───────────┬───┬────────────────────┬────────────────┬────────────────┬───────────────┐\n",
       "│ id  ┆ type ┆ x         ┆ y         ┆ … ┆ ave_atomic_entropy ┆ voronoi_volume ┆ voronoi_number ┆ cavity_radius │\n",
       "│ --- ┆ ---  ┆ ---       ┆ ---       ┆   ┆ ---                ┆ ---            ┆ ---            ┆ ---           │\n",
       "│ i64 ┆ i64  ┆ f64       ┆ f64       ┆   ┆ f64                ┆ f64            ┆ i32            ┆ f64           │\n",
       "╞═════╪══════╪═══════════╪═══════════╪═══╪════════════════════╪════════════════╪════════════════╪═══════════════╡\n",
       "│ 1   ┆ 2    ┆ 0.006118  ┆ -0.310917 ┆ … ┆ -6.469181          ┆ 12.68101       ┆ 15             ┆ 3.675684      │\n",
       "│ 2   ┆ 4    ┆ 1.9019    ┆ -0.292456 ┆ … ┆ -6.677864          ┆ 12.012947      ┆ 14             ┆ 3.581766      │\n",
       "│ 3   ┆ 3    ┆ -0.015641 ┆ 1.58432   ┆ … ┆ -6.666716          ┆ 12.197214      ┆ 12             ┆ 3.674408      │\n",
       "│ 4   ┆ 5    ┆ 1.86237   ┆ 1.51117   ┆ … ┆ -6.940528          ┆ 12.900968      ┆ 15             ┆ 3.713117      │\n",
       "│ 5   ┆ 5    ┆ 3.79257   ┆ -0.331891 ┆ … ┆ -6.846047          ┆ 12.400861      ┆ 14             ┆ 3.645415      │\n",
       "└─────┴──────┴───────────┴───────────┴───┴────────────────────┴────────────────┴────────────────┴───────────────┘"
      ]
     },
     "execution_count": 30,
     "metadata": {},
     "output_type": "execute_result"
    }
   ],
   "source": [
    "system.data.head()"
   ]
  },
  {
   "cell_type": "markdown",
   "id": "c6bbbc4d-d556-433b-b693-dcb72b5443f8",
   "metadata": {},
   "source": [
    "### 可视化结果"
   ]
  },
  {
   "cell_type": "code",
   "execution_count": 31,
   "id": "cc164b6e-a6e3-49e4-a22a-5fd8eba5bd3d",
   "metadata": {},
   "outputs": [
    {
     "data": {
      "application/vnd.jupyter.widget-view+json": {
       "model_id": "258f2562cf724923843e11402dabfdfa",
       "version_major": 2,
       "version_minor": 0
      },
      "text/plain": [
       "Output()"
      ]
     },
     "metadata": {},
     "output_type": "display_data"
    }
   ],
   "source": [
    "system.display()"
   ]
  },
  {
   "cell_type": "markdown",
   "id": "12e28e84-243f-476b-80c6-656905e8d585",
   "metadata": {},
   "source": [
    "这里默认使用structure type对原子上色，也可以使用任意其他属性，比如原子type，原子体积等"
   ]
  },
  {
   "cell_type": "code",
   "execution_count": 32,
   "id": "1f671188-7707-4b34-b307-66b8099955a9",
   "metadata": {},
   "outputs": [],
   "source": [
    "system.atoms_colored_by('type')"
   ]
  },
  {
   "cell_type": "code",
   "execution_count": 33,
   "id": "10ca75f2-4830-4f44-87c2-d926c10aea95",
   "metadata": {},
   "outputs": [],
   "source": [
    "system.atoms_colored_by('voronoi_volume')"
   ]
  },
  {
   "cell_type": "markdown",
   "id": "55b47332-1201-41e1-bd00-44274eaccbda",
   "metadata": {},
   "source": [
    "### 保存结果到本地\n",
    "\n",
    "- 保存粒子属性可以使用dump或者xyz格式"
   ]
  },
  {
   "cell_type": "code",
   "execution_count": 34,
   "id": "eb202a5c-bff5-451a-913f-ea830248602d",
   "metadata": {},
   "outputs": [],
   "source": [
    "system.write_dump()"
   ]
  },
  {
   "cell_type": "code",
   "execution_count": 35,
   "id": "e593fa41-d66b-4dee-b49c-5cbb3e6ebef7",
   "metadata": {},
   "outputs": [],
   "source": [
    "system.write_xyz()"
   ]
  },
  {
   "cell_type": "markdown",
   "id": "0279b0b1-2ab9-4842-b25c-29989e5119f6",
   "metadata": {},
   "source": [
    "### 判断FCC晶体是solid还是liquid\n",
    "\n",
    "- 这里使用一个固液共存的dump文件为例子，元素为钼 Molybdenum 元素，熔点约2896 K\n",
    "- 其原理是基于Steinhardt Bond order"
   ]
  },
  {
   "cell_type": "code",
   "execution_count": 36,
   "id": "aab24bee-d186-4ac8-a862-340d9e21236a",
   "metadata": {},
   "outputs": [],
   "source": [
    "system = mp.System('frame/solidliquid.dump')"
   ]
  },
  {
   "cell_type": "code",
   "execution_count": 37,
   "id": "84983e39-db32-49db-824f-749e1c8b795f",
   "metadata": {},
   "outputs": [],
   "source": [
    "system.cal_steinhardt_bond_orientation(solidliquid=True)"
   ]
  },
  {
   "cell_type": "markdown",
   "id": "3472af92-d1ff-428b-a458-57d87368e07d",
   "metadata": {},
   "source": [
    "### 计算原子平均温度"
   ]
  },
  {
   "cell_type": "code",
   "execution_count": 38,
   "id": "ef3f4aa9-a9da-4ed0-a5a6-4858bf69022f",
   "metadata": {},
   "outputs": [],
   "source": [
    "system.cal_atomic_temperature(elemental_list=['Mo'])"
   ]
  },
  {
   "cell_type": "code",
   "execution_count": 39,
   "id": "2d6c9dd8-36e0-4d70-bfb5-a11817955150",
   "metadata": {},
   "outputs": [
    {
     "name": "stdout",
     "output_type": "stream",
     "text": [
      "Average temperature is 2672.40114777719 K\n"
     ]
    }
   ],
   "source": [
    "print(f\"Average temperature is {system.data['atomic_temp'].mean()} K\")"
   ]
  },
  {
   "cell_type": "code",
   "execution_count": 40,
   "id": "0fafd305-0455-4baa-acdc-fcabf6c9bfbf",
   "metadata": {},
   "outputs": [
    {
     "data": {
      "text/html": [
       "<div><style>\n",
       ".dataframe > thead > tr,\n",
       ".dataframe > tbody > tr {\n",
       "  text-align: right;\n",
       "  white-space: pre-wrap;\n",
       "}\n",
       "</style>\n",
       "<small>shape: (5, 12)</small><table border=\"1\" class=\"dataframe\"><thead><tr><th>id</th><th>type</th><th>mass</th><th>x</th><th>y</th><th>z</th><th>vx</th><th>vy</th><th>vz</th><th>ql6</th><th>solidliquid</th><th>atomic_temp</th></tr><tr><td>i64</td><td>i64</td><td>f64</td><td>f64</td><td>f64</td><td>f64</td><td>f64</td><td>f64</td><td>f64</td><td>f64</td><td>i32</td><td>f64</td></tr></thead><tbody><tr><td>7913</td><td>1</td><td>95.94</td><td>2.64108</td><td>3.2152</td><td>1.74197</td><td>2.90096</td><td>1.72875</td><td>-1.77975</td><td>0.338703</td><td>0</td><td>2234.470129</td></tr><tr><td>4098</td><td>1</td><td>95.94</td><td>-0.091857</td><td>0.4658</td><td>0.936675</td><td>-0.166803</td><td>0.959803</td><td>3.70312</td><td>0.503473</td><td>0</td><td>2610.957752</td></tr><tr><td>4414</td><td>1</td><td>95.94</td><td>51.3076</td><td>2.93742</td><td>2.12484</td><td>4.50605</td><td>-1.06924</td><td>-1.41931</td><td>0.411614</td><td>0</td><td>2192.532102</td></tr><tr><td>4</td><td>1</td><td>95.94</td><td>3.57773</td><td>-0.024408</td><td>2.31072</td><td>-6.04709</td><td>5.23451</td><td>9.18538</td><td>0.304366</td><td>0</td><td>2351.722389</td></tr><tr><td>37</td><td>1</td><td>95.94</td><td>45.219</td><td>19.5654</td><td>-0.241386</td><td>-5.20306</td><td>3.79694</td><td>-2.15249</td><td>0.567507</td><td>0</td><td>2911.77412</td></tr></tbody></table></div>"
      ],
      "text/plain": [
       "shape: (5, 12)\n",
       "┌──────┬──────┬───────┬───────────┬───┬──────────┬──────────┬─────────────┬─────────────┐\n",
       "│ id   ┆ type ┆ mass  ┆ x         ┆ … ┆ vz       ┆ ql6      ┆ solidliquid ┆ atomic_temp │\n",
       "│ ---  ┆ ---  ┆ ---   ┆ ---       ┆   ┆ ---      ┆ ---      ┆ ---         ┆ ---         │\n",
       "│ i64  ┆ i64  ┆ f64   ┆ f64       ┆   ┆ f64      ┆ f64      ┆ i32         ┆ f64         │\n",
       "╞══════╪══════╪═══════╪═══════════╪═══╪══════════╪══════════╪═════════════╪═════════════╡\n",
       "│ 7913 ┆ 1    ┆ 95.94 ┆ 2.64108   ┆ … ┆ -1.77975 ┆ 0.338703 ┆ 0           ┆ 2234.470129 │\n",
       "│ 4098 ┆ 1    ┆ 95.94 ┆ -0.091857 ┆ … ┆ 3.70312  ┆ 0.503473 ┆ 0           ┆ 2610.957752 │\n",
       "│ 4414 ┆ 1    ┆ 95.94 ┆ 51.3076   ┆ … ┆ -1.41931 ┆ 0.411614 ┆ 0           ┆ 2192.532102 │\n",
       "│ 4    ┆ 1    ┆ 95.94 ┆ 3.57773   ┆ … ┆ 9.18538  ┆ 0.304366 ┆ 0           ┆ 2351.722389 │\n",
       "│ 37   ┆ 1    ┆ 95.94 ┆ 45.219    ┆ … ┆ -2.15249 ┆ 0.567507 ┆ 0           ┆ 2911.77412  │\n",
       "└──────┴──────┴───────┴───────────┴───┴──────────┴──────────┴─────────────┴─────────────┘"
      ]
     },
     "execution_count": 40,
     "metadata": {},
     "output_type": "execute_result"
    }
   ],
   "source": [
    "system.data.head()"
   ]
  },
  {
   "cell_type": "code",
   "execution_count": 41,
   "id": "56e3aafb-f536-4f84-8c1d-88637afae780",
   "metadata": {},
   "outputs": [
    {
     "data": {
      "application/vnd.jupyter.widget-view+json": {
       "model_id": "45a81823d3bb4994879b17825300e58c",
       "version_major": 2,
       "version_minor": 0
      },
      "text/plain": [
       "Output()"
      ]
     },
     "metadata": {},
     "output_type": "display_data"
    }
   ],
   "source": [
    "system.atoms_colored_by('atomic_temp')"
   ]
  },
  {
   "cell_type": "code",
   "execution_count": 42,
   "id": "4318cfe9-9201-47af-8a63-515362dc7023",
   "metadata": {},
   "outputs": [],
   "source": [
    "system.atoms_colored_by('solidliquid')"
   ]
  },
  {
   "cell_type": "code",
   "execution_count": 43,
   "id": "67509460-b110-4b83-b543-3bc805ac4cb0",
   "metadata": {},
   "outputs": [],
   "source": [
    "system.write_dump()"
   ]
  },
  {
   "cell_type": "markdown",
   "id": "44d07d8b-56ec-417e-b3f6-095045141a0d",
   "metadata": {},
   "source": [
    "### 筛选原子可视化"
   ]
  },
  {
   "cell_type": "code",
   "execution_count": 44,
   "id": "2438e612-3b26-40ad-b534-90d2d80f52ad",
   "metadata": {},
   "outputs": [],
   "source": [
    "solid = system.select(system.data.filter(pl.col('solidliquid')==1))"
   ]
  },
  {
   "cell_type": "code",
   "execution_count": 45,
   "id": "98aab473-ca86-41fc-8430-dc3b4f344309",
   "metadata": {},
   "outputs": [
    {
     "data": {
      "application/vnd.jupyter.widget-view+json": {
       "model_id": "fe4dd7878f534a13b44e564bb122c70c",
       "version_major": 2,
       "version_minor": 0
      },
      "text/plain": [
       "Output()"
      ]
     },
     "metadata": {},
     "output_type": "display_data"
    }
   ],
   "source": [
    "solid.display()"
   ]
  },
  {
   "cell_type": "markdown",
   "id": "aacab4bd-df81-4b7d-8c30-3e3ddabe4164",
   "metadata": {},
   "source": [
    "### 识别FCC基体中的ISF, ESF, TW, HCP\n",
    "\n",
    "- 这里使用一个包含多种缺陷的dump文件"
   ]
  },
  {
   "cell_type": "code",
   "execution_count": 46,
   "id": "6c2844d6-838f-4e9c-9fb0-b3c2ba271874",
   "metadata": {},
   "outputs": [],
   "source": [
    "system = mp.System('frame/ISF.dump')"
   ]
  },
  {
   "cell_type": "code",
   "execution_count": 47,
   "id": "dd19296d-d5dd-4b21-98cc-55d380431d61",
   "metadata": {},
   "outputs": [],
   "source": [
    "system.cal_identify_SFs_TBs()"
   ]
  },
  {
   "cell_type": "code",
   "execution_count": 48,
   "id": "40226b4c-041f-419b-877b-7edfbeca4345",
   "metadata": {},
   "outputs": [
    {
     "data": {
      "application/vnd.jupyter.widget-view+json": {
       "model_id": "7e79166c22914cac9739dc9b505af336",
       "version_major": 2,
       "version_minor": 0
      },
      "text/plain": [
       "Output()"
      ]
     },
     "metadata": {},
     "output_type": "display_data"
    }
   ],
   "source": [
    "system.display()"
   ]
  },
  {
   "cell_type": "code",
   "execution_count": 49,
   "id": "3b1e2ca9-a7b4-4972-a686-6fbe4048cabb",
   "metadata": {},
   "outputs": [],
   "source": [
    "system.atoms_colored_by('fault_types')"
   ]
  },
  {
   "cell_type": "code",
   "execution_count": 50,
   "id": "a1028b35-cb18-4243-b334-21a0f4d519df",
   "metadata": {},
   "outputs": [],
   "source": [
    "system.write_dump()"
   ]
  },
  {
   "cell_type": "markdown",
   "id": "d708f809-f312-401c-867d-047299d33d2f",
   "metadata": {},
   "source": [
    "### 斜盒子体系\n",
    "\n",
    "- 大多数分析方式对斜盒子体系依然适用\n",
    "- 这里读取一个HCP的Ti体系"
   ]
  },
  {
   "cell_type": "code",
   "execution_count": 51,
   "id": "c40465c4-2fed-476d-b0ec-5023545c4e48",
   "metadata": {},
   "outputs": [],
   "source": [
    "Ti = mp.System('./frame/Ti.data')"
   ]
  },
  {
   "cell_type": "code",
   "execution_count": 52,
   "id": "ea3b6cea-5055-40b4-9b68-a4b564696eb2",
   "metadata": {},
   "outputs": [
    {
     "data": {
      "text/plain": [
       "Filename: ./frame/Ti.data\n",
       "Atom Number: 2\n",
       "Simulation Box:\n",
       "[[ 2.93573192  0.          0.        ]\n",
       " [-1.46786596  2.54241842  0.        ]\n",
       " [ 0.          0.          4.64085615]\n",
       " [ 0.          0.          0.        ]]\n",
       "TimeStep: 0\n",
       "Boundary: [1, 1, 1]\n",
       "Particle Information:\n",
       "shape: (2, 5)\n",
       "┌─────┬──────┬────────────┬──────────┬──────────┐\n",
       "│ id  ┆ type ┆ x          ┆ y        ┆ z        │\n",
       "│ --- ┆ ---  ┆ ---        ┆ ---      ┆ ---      │\n",
       "│ i64 ┆ i64  ┆ f64        ┆ f64      ┆ f64      │\n",
       "╞═════╪══════╪════════════╪══════════╪══════════╡\n",
       "│ 1   ┆ 1    ┆ -1.4679e-8 ┆ 1.694946 ┆ 1.160214 │\n",
       "│ 2   ┆ 1    ┆ 1.467866   ┆ 0.847473 ┆ 3.480642 │\n",
       "└─────┴──────┴────────────┴──────────┴──────────┘"
      ]
     },
     "execution_count": 52,
     "metadata": {},
     "output_type": "execute_result"
    }
   ],
   "source": [
    "Ti"
   ]
  },
  {
   "cell_type": "code",
   "execution_count": 53,
   "id": "69448d6d-8242-48ca-8f4f-3e087f21d3bc",
   "metadata": {},
   "outputs": [],
   "source": [
    "Ti.cal_common_neighbor_analysis(rc=2.9357*1.207)"
   ]
  },
  {
   "cell_type": "code",
   "execution_count": 54,
   "id": "9b7ad2b9-3646-48aa-bcc4-d59c30f6e4fe",
   "metadata": {},
   "outputs": [],
   "source": [
    "Ti.cal_centro_symmetry_parameter()"
   ]
  },
  {
   "cell_type": "code",
   "execution_count": 55,
   "id": "a1b39219-fac1-4839-96d1-4255bbb8ce6f",
   "metadata": {},
   "outputs": [
    {
     "data": {
      "text/html": [
       "<div><style>\n",
       ".dataframe > thead > tr,\n",
       ".dataframe > tbody > tr {\n",
       "  text-align: right;\n",
       "  white-space: pre-wrap;\n",
       "}\n",
       "</style>\n",
       "<small>shape: (2, 7)</small><table border=\"1\" class=\"dataframe\"><thead><tr><th>id</th><th>type</th><th>x</th><th>y</th><th>z</th><th>cna</th><th>csp</th></tr><tr><td>i64</td><td>i64</td><td>f64</td><td>f64</td><td>f64</td><td>i32</td><td>f64</td></tr></thead><tbody><tr><td>1</td><td>1</td><td>-1.4679e-8</td><td>1.694946</td><td>1.160214</td><td>2</td><td>8.618522</td></tr><tr><td>2</td><td>1</td><td>1.467866</td><td>0.847473</td><td>3.480642</td><td>2</td><td>8.618522</td></tr></tbody></table></div>"
      ],
      "text/plain": [
       "shape: (2, 7)\n",
       "┌─────┬──────┬────────────┬──────────┬──────────┬─────┬──────────┐\n",
       "│ id  ┆ type ┆ x          ┆ y        ┆ z        ┆ cna ┆ csp      │\n",
       "│ --- ┆ ---  ┆ ---        ┆ ---      ┆ ---      ┆ --- ┆ ---      │\n",
       "│ i64 ┆ i64  ┆ f64        ┆ f64      ┆ f64      ┆ i32 ┆ f64      │\n",
       "╞═════╪══════╪════════════╪══════════╪══════════╪═════╪══════════╡\n",
       "│ 1   ┆ 1    ┆ -1.4679e-8 ┆ 1.694946 ┆ 1.160214 ┆ 2   ┆ 8.618522 │\n",
       "│ 2   ┆ 1    ┆ 1.467866   ┆ 0.847473 ┆ 3.480642 ┆ 2   ┆ 8.618522 │\n",
       "└─────┴──────┴────────────┴──────────┴──────────┴─────┴──────────┘"
      ]
     },
     "execution_count": 55,
     "metadata": {},
     "output_type": "execute_result"
    }
   ],
   "source": [
    "Ti.data"
   ]
  },
  {
   "cell_type": "code",
   "execution_count": 56,
   "id": "f03e63a3-d265-46f0-8b59-330256e39bfe",
   "metadata": {},
   "outputs": [
    {
     "data": {
      "application/vnd.jupyter.widget-view+json": {
       "model_id": "f18651f325184565894f19167dcdc033",
       "version_major": 2,
       "version_minor": 0
      },
      "text/plain": [
       "Output()"
      ]
     },
     "metadata": {},
     "output_type": "display_data"
    }
   ],
   "source": [
    "Ti.display()"
   ]
  },
  {
   "cell_type": "code",
   "execution_count": 57,
   "id": "f20b02a3-5937-484a-87d5-690e7102d4c0",
   "metadata": {},
   "outputs": [],
   "source": [
    "Ti.write_dump()"
   ]
  },
  {
   "cell_type": "markdown",
   "id": "32f49a0b-7cf3-4973-9712-c6979f193c75",
   "metadata": {},
   "source": [
    "### 建立初始模型\n",
    "\n",
    "1. mdapy可以建立一些简单的模型，比如FCC, BCC, HCP, Graphene，对于FCC和BCC还支持不同晶相\n",
    "2. mdapy可以建立多晶，以及带石墨烯晶界的多晶\n",
    "3. 用户可以手动提供元胞信息，然后适用mdapy扩胞，再进行筛选，比如建立任意类型的纳米颗粒等"
   ]
  },
  {
   "cell_type": "code",
   "execution_count": 58,
   "id": "cb9f8a0a-4a6a-4450-8f90-b4d9661cd3fb",
   "metadata": {},
   "outputs": [],
   "source": [
    "fcc = mp.LatticeMaker(3.615, 'FCC', 10, 10, 10)\n",
    "fcc.compute()"
   ]
  },
  {
   "cell_type": "code",
   "execution_count": 59,
   "id": "380be181-1a93-435a-b18d-85d0b31cdb2a",
   "metadata": {},
   "outputs": [
    {
     "data": {
      "text/plain": [
       "array([[36.15,  0.  ,  0.  ],\n",
       "       [ 0.  , 36.15,  0.  ],\n",
       "       [ 0.  ,  0.  , 36.15],\n",
       "       [ 0.  ,  0.  ,  0.  ]])"
      ]
     },
     "execution_count": 59,
     "metadata": {},
     "output_type": "execute_result"
    }
   ],
   "source": [
    "fcc.box"
   ]
  },
  {
   "cell_type": "code",
   "execution_count": 60,
   "id": "819021d3-e3dd-40d0-b431-75de6b046fa5",
   "metadata": {},
   "outputs": [
    {
     "data": {
      "text/plain": [
       "array([[ 0.    ,  0.    ,  0.    ],\n",
       "       [ 1.8075,  1.8075,  0.    ],\n",
       "       [ 1.8075,  0.    ,  1.8075],\n",
       "       ...,\n",
       "       [34.3425, 34.3425, 32.535 ],\n",
       "       [34.3425, 32.535 , 34.3425],\n",
       "       [32.535 , 34.3425, 34.3425]])"
      ]
     },
     "execution_count": 60,
     "metadata": {},
     "output_type": "execute_result"
    }
   ],
   "source": [
    "fcc.pos"
   ]
  },
  {
   "cell_type": "markdown",
   "id": "9f0c1ff7-5a66-474a-a6ac-36e143e7c4e7",
   "metadata": {},
   "source": [
    "保存为data/dump文件"
   ]
  },
  {
   "cell_type": "code",
   "execution_count": 61,
   "id": "f1423d1e-3da6-47dc-b389-20fe98f4de46",
   "metadata": {},
   "outputs": [],
   "source": [
    "fcc.write_data(output_name='./frame/fcc.data')"
   ]
  },
  {
   "cell_type": "markdown",
   "id": "49d76331-bcd6-4a28-9e63-596dbc19f690",
   "metadata": {},
   "source": [
    "我们来可视化一下结果，首先需要使用position和box来实例化一个System类"
   ]
  },
  {
   "cell_type": "code",
   "execution_count": 62,
   "id": "a6d32651-bf7b-4197-bbe5-cafbefd6a93d",
   "metadata": {},
   "outputs": [],
   "source": [
    "system = mp.System(pos=fcc.pos, box=fcc.box)"
   ]
  },
  {
   "cell_type": "code",
   "execution_count": 63,
   "id": "69d8587c-7fb7-4e70-ab26-af1a71738334",
   "metadata": {},
   "outputs": [
    {
     "data": {
      "text/plain": [
       "Filename: None\n",
       "Atom Number: 4000\n",
       "Simulation Box:\n",
       "[[36.15  0.    0.  ]\n",
       " [ 0.   36.15  0.  ]\n",
       " [ 0.    0.   36.15]\n",
       " [ 0.    0.    0.  ]]\n",
       "TimeStep: 0\n",
       "Boundary: [1, 1, 1]\n",
       "Particle Information:\n",
       "shape: (5, 5)\n",
       "┌─────┬──────┬────────┬────────┬────────┐\n",
       "│ id  ┆ type ┆ x      ┆ y      ┆ z      │\n",
       "│ --- ┆ ---  ┆ ---    ┆ ---    ┆ ---    │\n",
       "│ i32 ┆ i32  ┆ f64    ┆ f64    ┆ f64    │\n",
       "╞═════╪══════╪════════╪════════╪════════╡\n",
       "│ 1   ┆ 1    ┆ 0.0    ┆ 0.0    ┆ 0.0    │\n",
       "│ 2   ┆ 1    ┆ 1.8075 ┆ 1.8075 ┆ 0.0    │\n",
       "│ 3   ┆ 1    ┆ 1.8075 ┆ 0.0    ┆ 1.8075 │\n",
       "│ 4   ┆ 1    ┆ 0.0    ┆ 1.8075 ┆ 1.8075 │\n",
       "│ 5   ┆ 1    ┆ 0.0    ┆ 0.0    ┆ 3.615  │\n",
       "└─────┴──────┴────────┴────────┴────────┘"
      ]
     },
     "execution_count": 63,
     "metadata": {},
     "output_type": "execute_result"
    }
   ],
   "source": [
    "system"
   ]
  },
  {
   "cell_type": "code",
   "execution_count": 64,
   "id": "d90767c2-0188-49c5-96d4-0f49af6f8f53",
   "metadata": {},
   "outputs": [
    {
     "data": {
      "application/vnd.jupyter.widget-view+json": {
       "model_id": "3de38d56215b480095a34da35b8d3173",
       "version_major": 2,
       "version_minor": 0
      },
      "text/plain": [
       "Output()"
      ]
     },
     "metadata": {},
     "output_type": "display_data"
    }
   ],
   "source": [
    "system.display()"
   ]
  },
  {
   "cell_type": "markdown",
   "id": "09533cc6",
   "metadata": {},
   "source": [
    "对于FCC和BCC晶体可以指定初始晶向"
   ]
  },
  {
   "cell_type": "code",
   "execution_count": 65,
   "id": "bca46e15",
   "metadata": {},
   "outputs": [],
   "source": [
    "fcc_111 = mp.LatticeMaker(3.615, 'FCC', 10, 10, 10, crystalline_orientation=np.array([[1,1,1], [1,-1,0], [1,1,-2]]))\n",
    "fcc_111.compute()"
   ]
  },
  {
   "cell_type": "code",
   "execution_count": 66,
   "id": "0993ad0e",
   "metadata": {},
   "outputs": [],
   "source": [
    "fcc_111.write_dump(output_name='./frame/fcc_111.dump')"
   ]
  },
  {
   "cell_type": "code",
   "execution_count": 67,
   "id": "3c7c7087-0f8b-49c4-ad81-6a3c697c8de4",
   "metadata": {},
   "outputs": [],
   "source": [
    "system = mp.System(pos=fcc_111.pos, box=fcc_111.box)"
   ]
  },
  {
   "cell_type": "code",
   "execution_count": 68,
   "id": "77afab40-84b2-4308-8d95-3177bed0d9d6",
   "metadata": {},
   "outputs": [
    {
     "data": {
      "application/vnd.jupyter.widget-view+json": {
       "model_id": "a6fa33a85f7d4262b075ff665d10bfc7",
       "version_major": 2,
       "version_minor": 0
      },
      "text/plain": [
       "Output()"
      ]
     },
     "metadata": {},
     "output_type": "display_data"
    }
   ],
   "source": [
    "system.display()"
   ]
  },
  {
   "cell_type": "markdown",
   "id": "285cbc80-465a-45f4-b39d-c66f43b7d929",
   "metadata": {},
   "source": [
    "mdapy处理几百万原子体系也很轻松，这里我们简单进行扩胞，生成一个400w原子体系进行测试"
   ]
  },
  {
   "cell_type": "code",
   "execution_count": 69,
   "id": "22cc8f74-8bb7-4b40-92e3-b158d0b0721a",
   "metadata": {},
   "outputs": [
    {
     "name": "stdout",
     "output_type": "stream",
     "text": [
      "CPU times: total: 594 ms\n",
      "Wall time: 30.5 ms\n"
     ]
    }
   ],
   "source": [
    "%%time\n",
    "repli = mp.Replicate(fcc.pos, fcc.box, 10, 10, 10)\n",
    "repli.compute()"
   ]
  },
  {
   "cell_type": "code",
   "execution_count": 70,
   "id": "7c41f778-a3d6-4cc9-ab2f-61b8d0746624",
   "metadata": {},
   "outputs": [
    {
     "data": {
      "text/plain": [
       "4000000"
      ]
     },
     "execution_count": 70,
     "metadata": {},
     "output_type": "execute_result"
    }
   ],
   "source": [
    "repli.N"
   ]
  },
  {
   "cell_type": "markdown",
   "id": "5bf83cb0-e2b7-4d15-815d-74ae83cc7a62",
   "metadata": {},
   "source": [
    "建立$rc=0.5nm$的邻域"
   ]
  },
  {
   "cell_type": "code",
   "execution_count": 71,
   "id": "cdb97afc-3220-48a3-bfc2-5c363e19ce17",
   "metadata": {},
   "outputs": [
    {
     "name": "stdout",
     "output_type": "stream",
     "text": [
      "CPU times: total: 24.5 s\n",
      "Wall time: 3.04 s\n"
     ]
    }
   ],
   "source": [
    "%%time\n",
    "neigh = mp.Neighbor(repli.pos, repli.box, 5., max_neigh=50)\n",
    "neigh.compute()"
   ]
  },
  {
   "cell_type": "markdown",
   "id": "e77bb87c-1943-4b0f-868d-2f81162946d8",
   "metadata": {},
   "source": [
    "手动排序获取12个最近邻原子"
   ]
  },
  {
   "cell_type": "code",
   "execution_count": 72,
   "id": "ee1b8857-a386-4d28-a191-5f099ae5a010",
   "metadata": {},
   "outputs": [
    {
     "name": "stdout",
     "output_type": "stream",
     "text": [
      "CPU times: total: 12.3 s\n",
      "Wall time: 356 ms\n"
     ]
    }
   ],
   "source": [
    "%%time\n",
    "neigh.sort_verlet_by_distance(12)"
   ]
  },
  {
   "cell_type": "code",
   "execution_count": 73,
   "id": "c5475076-0f2d-4fa7-abd1-01979c03e9bb",
   "metadata": {},
   "outputs": [
    {
     "data": {
      "text/plain": [
       "array([      3,       2,       1, 3603602, 3603601,  360363,  360361,\n",
       "         36039,   36038, 3639638,  396399, 3963961])"
      ]
     },
     "execution_count": 73,
     "metadata": {},
     "output_type": "execute_result"
    }
   ],
   "source": [
    "neigh.verlet_list[0][:12]"
   ]
  },
  {
   "cell_type": "code",
   "execution_count": 74,
   "id": "429b2e03-d19c-446a-be39-7a112f5d5509",
   "metadata": {},
   "outputs": [
    {
     "data": {
      "text/plain": [
       "array([2.55619101, 2.55619101, 2.55619101, 2.55619101, 2.55619101,\n",
       "       2.55619101, 2.55619101, 2.55619101, 2.55619101, 2.55619101,\n",
       "       2.55619101, 2.55619101])"
      ]
     },
     "execution_count": 74,
     "metadata": {},
     "output_type": "execute_result"
    }
   ],
   "source": [
    "neigh.distance_list[0][:12]"
   ]
  },
  {
   "cell_type": "markdown",
   "id": "686d73d1-c3a9-46b8-b255-ff415816dc7d",
   "metadata": {},
   "source": [
    "使用kdtree来搜索12个最近邻原子"
   ]
  },
  {
   "cell_type": "code",
   "execution_count": 75,
   "id": "5cbfa383-fc03-4846-ba43-2618fa7bd632",
   "metadata": {},
   "outputs": [
    {
     "name": "stdout",
     "output_type": "stream",
     "text": [
      "CPU times: total: 39.8 s\n",
      "Wall time: 3.41 s\n"
     ]
    }
   ],
   "source": [
    "%%time\n",
    "kdt = mp.NearestNeighbor(repli.pos, repli.box)\n",
    "distance_list, verlet_list = kdt.query_nearest_neighbors(12)"
   ]
  },
  {
   "cell_type": "code",
   "execution_count": 76,
   "id": "8a19fbb8-7a35-4663-bde1-4ce31d4f1a42",
   "metadata": {},
   "outputs": [
    {
     "data": {
      "text/plain": [
       "array([      2,       3,       1,  360363,   36039, 3603602,  360361,\n",
       "         36038, 3603601,  396399, 3639638, 3963961], dtype=int64)"
      ]
     },
     "execution_count": 76,
     "metadata": {},
     "output_type": "execute_result"
    }
   ],
   "source": [
    "verlet_list[0]"
   ]
  },
  {
   "cell_type": "code",
   "execution_count": 77,
   "id": "ef187669-ed1c-41f1-9308-3533b11a055d",
   "metadata": {},
   "outputs": [
    {
     "data": {
      "text/plain": [
       "array([2.55619101, 2.55619101, 2.55619101, 2.55619101, 2.55619101,\n",
       "       2.55619101, 2.55619101, 2.55619101, 2.55619101, 2.55619101,\n",
       "       2.55619101, 2.55619101])"
      ]
     },
     "execution_count": 77,
     "metadata": {},
     "output_type": "execute_result"
    }
   ],
   "source": [
    "distance_list[0]"
   ]
  },
  {
   "cell_type": "markdown",
   "id": "53cb7da6-93dc-454d-8c2c-4c013ec62804",
   "metadata": {},
   "source": [
    "### 建立纳米晶"
   ]
  },
  {
   "cell_type": "code",
   "execution_count": 78,
   "id": "231bae15-46fd-4dfc-ba27-050caaff24a3",
   "metadata": {},
   "outputs": [],
   "source": [
    "box = np.array([[200, 0, 0],\n",
    "               [0, 200, 0],\n",
    "               [0, 0, 200],\n",
    "               [0, 0, 0.]])"
   ]
  },
  {
   "cell_type": "code",
   "execution_count": 79,
   "id": "d9de8929-386c-4fb9-821b-ad1a9dd33661",
   "metadata": {},
   "outputs": [
    {
     "name": "stdout",
     "output_type": "stream",
     "text": [
      "Generating voronoi polygon...\n",
      "Total grain number: 20\n",
      "Generating grain 0..., volume is 378434.35124952096\n",
      "Generating grain 1..., volume is 394125.60505164193\n",
      "Generating grain 2..., volume is 572878.7202376201\n",
      "Generating grain 3..., volume is 373709.9754514478\n",
      "Generating grain 4..., volume is 246112.47614550326\n",
      "Generating grain 5..., volume is 94461.70680529319\n",
      "Generating grain 6..., volume is 406207.28803325805\n",
      "Generating grain 7..., volume is 357607.2737657592\n",
      "Generating grain 8..., volume is 377107.8612275583\n",
      "Generating grain 9..., volume is 682373.1287412201\n",
      "Generating grain 10..., volume is 419168.8331978313\n",
      "Generating grain 11..., volume is 492350.0777350409\n",
      "Generating grain 12..., volume is 290774.23623581155\n",
      "Generating grain 13..., volume is 379687.7073680808\n",
      "Generating grain 14..., volume is 460282.6503723756\n",
      "Generating grain 15..., volume is 307549.71969105315\n",
      "Generating grain 16..., volume is 346474.0633473312\n",
      "Generating grain 17..., volume is 410623.61975307507\n",
      "Generating grain 18..., volume is 665025.9515363312\n",
      "Generating grain 19..., volume is 345044.7540542454\n",
      "Wraping atoms into box...\n",
      "Deleting overlap atoms...\n",
      "Total atom numbers: 654600, average grain size: 399999.99999999994 A^3\n",
      "Saving atoms into dump file...\n",
      "Time costs: 2.253652811050415 s.\n"
     ]
    }
   ],
   "source": [
    "poly = mp.CreatePolycrystalline(box, 20, 3.615, 'FCC', output_name='./frame/poly.dump', metal_overlap_dis=2.)\n",
    "poly.compute()"
   ]
  },
  {
   "cell_type": "markdown",
   "id": "7b0b1a03-98e1-4e68-8c34-dabe8ef2980b",
   "metadata": {},
   "source": [
    "使用DataFrame来实例化System"
   ]
  },
  {
   "cell_type": "code",
   "execution_count": 80,
   "id": "bf3016ca-595e-48b1-919c-154910a55e0d",
   "metadata": {},
   "outputs": [],
   "source": [
    "system = mp.System(data=poly.data, box=box)"
   ]
  },
  {
   "cell_type": "code",
   "execution_count": 81,
   "id": "24b6629a-6479-4fb4-b769-014065029499",
   "metadata": {},
   "outputs": [
    {
     "data": {
      "text/plain": [
       "Filename: None\n",
       "Atom Number: 654600\n",
       "Simulation Box:\n",
       "[[200.   0.   0.]\n",
       " [  0. 200.   0.]\n",
       " [  0.   0. 200.]\n",
       " [  0.   0.   0.]]\n",
       "TimeStep: 0\n",
       "Boundary: [1, 1, 1]\n",
       "Particle Information:\n",
       "shape: (5, 6)\n",
       "┌─────┬──────┬────────────┬────────────┬───────────┬─────────┐\n",
       "│ id  ┆ type ┆ x          ┆ y          ┆ z         ┆ grainid │\n",
       "│ --- ┆ ---  ┆ ---        ┆ ---        ┆ ---       ┆ ---     │\n",
       "│ i32 ┆ i32  ┆ f32        ┆ f32        ┆ f32       ┆ i32     │\n",
       "╞═════╪══════╪════════════╪════════════╪═══════════╪═════════╡\n",
       "│ 1   ┆ 1    ┆ 83.501488  ┆ 122.994995 ┆ 58.646091 ┆ 1       │\n",
       "│ 2   ┆ 1    ┆ 103.201218 ┆ 114.555832 ┆ 64.752945 ┆ 1       │\n",
       "│ 3   ┆ 1    ┆ 99.707596  ┆ 115.375549 ┆ 64.316025 ┆ 1       │\n",
       "│ 4   ┆ 1    ┆ 96.213982  ┆ 116.195274 ┆ 63.879105 ┆ 1       │\n",
       "│ 5   ┆ 1    ┆ 92.72036   ┆ 117.014999 ┆ 63.442184 ┆ 1       │\n",
       "└─────┴──────┴────────────┴────────────┴───────────┴─────────┘"
      ]
     },
     "execution_count": 81,
     "metadata": {},
     "output_type": "execute_result"
    }
   ],
   "source": [
    "system"
   ]
  },
  {
   "cell_type": "code",
   "execution_count": 82,
   "id": "7a9f77ac-b1c7-4c72-82e5-0fbad9dbc19a",
   "metadata": {},
   "outputs": [
    {
     "data": {
      "application/vnd.jupyter.widget-view+json": {
       "model_id": "51c79a707f3446f1a930bbe6abab4c4a",
       "version_major": 2,
       "version_minor": 0
      },
      "text/plain": [
       "Output()"
      ]
     },
     "metadata": {},
     "output_type": "display_data"
    }
   ],
   "source": [
    "system.atoms_colored_by('grainid')"
   ]
  },
  {
   "cell_type": "markdown",
   "id": "56b7a6bb-f8d5-48fa-9816-530e69ae6ec6",
   "metadata": {},
   "source": [
    "### EAM势函数分析"
   ]
  },
  {
   "cell_type": "markdown",
   "id": "6ac0ecc8-89c5-4ab0-80f2-5ff333366b9f",
   "metadata": {},
   "source": [
    "#### 生成一个Al的势函数\n",
    "\n",
    "- mdapy可以基于文献生成一元或多元的eam.alloy势函数，可用于LAMMPS计算\n",
    "- 可选元素列表 [\"Cu\",\"Ag\",\"Au\",\"Ni\",\"Pd\",\"Pt\",\"Al\",\"Pb\",\"Fe\",\"Mo\",\"Ta\",\"W\",\"Mg\",\"Co\",\"Ti\",\"Zr\"]"
   ]
  },
  {
   "cell_type": "code",
   "execution_count": 83,
   "id": "c1c83c47-0b5a-47b7-a544-2b64ea22af81",
   "metadata": {},
   "outputs": [],
   "source": [
    "mp.EAMGenerate(['Al'], output_name='./frame/Al.eam.alloy');"
   ]
  },
  {
   "cell_type": "markdown",
   "id": "45d75a5f-448e-4299-8dbb-8a757b21006f",
   "metadata": {},
   "source": [
    "#### 读取刚才生成的势函数"
   ]
  },
  {
   "cell_type": "code",
   "execution_count": 84,
   "id": "4a02832b-f34a-4473-8c29-18dd607e49ec",
   "metadata": {},
   "outputs": [],
   "source": [
    "potential = mp.EAM('./frame/Al.eam.alloy')"
   ]
  },
  {
   "cell_type": "markdown",
   "id": "3756c996-a281-4a83-a227-c038f6ab3064",
   "metadata": {},
   "source": [
    "#### 查看势函数的相关信息"
   ]
  },
  {
   "cell_type": "code",
   "execution_count": 85,
   "id": "e57ca18c-d016-49da-92fe-d6e869631754",
   "metadata": {},
   "outputs": [
    {
     "data": {
      "image/png": "[encoded data removed]",
      "text/plain": [
       "<Figure size 590.551x413.386 with 1 Axes>"
      ]
     },
     "metadata": {},
     "output_type": "display_data"
    },
    {
     "data": {
      "image/png": "[encoded data removed]",
      "text/plain": [
       "<Figure size 590.551x413.386 with 1 Axes>"
      ]
     },
     "metadata": {},
     "output_type": "display_data"
    },
    {
     "data": {
      "image/png": "[encoded data removed]",
      "text/plain": [
       "<Figure size 590.551x413.386 with 1 Axes>"
      ]
     },
     "metadata": {},
     "output_type": "display_data"
    }
   ],
   "source": [
    "potential.plot()"
   ]
  },
  {
   "cell_type": "markdown",
   "id": "230b8503-024c-4588-a99f-99f26dfeb2d0",
   "metadata": {},
   "source": [
    "#### 使用势函数计算Al的EOS曲线"
   ]
  },
  {
   "cell_type": "code",
   "execution_count": 86,
   "id": "307a28c6-5472-479c-acf6-7c6970faa5d0",
   "metadata": {},
   "outputs": [
    {
     "name": "stderr",
     "output_type": "stream",
     "text": [
      "100%|██████████████████████████████████████████████████████████████████████████████████| 12/12 [00:06<00:00,  1.86it/s]\n"
     ]
    }
   ],
   "source": [
    "energy = []\n",
    "lattice_constant = 4.05\n",
    "fcc = mp.LatticeMaker(lattice_constant, 'FCC', 1, 1, 1)\n",
    "fcc.compute()\n",
    "for scale in tqdm(np.arange(0.95, 1.06, 0.01)):\n",
    "    Cal = mp.Calculator(potential, fcc.pos * scale, [1, 1, 1], fcc.box * scale, ['Al'], np.ones(fcc.N, int))\n",
    "    Cal.compute()\n",
    "    energy.append([lattice_constant*scale, Cal.energy.mean()])\n",
    "energy = np.array(energy)"
   ]
  },
  {
   "cell_type": "code",
   "execution_count": 87,
   "id": "0049dd7e-f45c-4673-af78-0c3551f6773c",
   "metadata": {},
   "outputs": [
    {
     "data": {
      "text/plain": [
       "Text(0, 0.5, 'PE (eV/atom)')"
      ]
     },
     "execution_count": 87,
     "metadata": {},
     "output_type": "execute_result"
    },
    {
     "data": {
      "image/png": "[encoded data removed]",
      "text/plain": [
       "<Figure size 472.441x354.331 with 1 Axes>"
      ]
     },
     "metadata": {},
     "output_type": "display_data"
    }
   ],
   "source": [
    "fig, ax = mp.set_figure(figsize=(8, 6), use_pltset=True)\n",
    "plt.plot(energy[:, 0], energy[:, 1], 'o-')\n",
    "plt.xlabel('a ($\\mathregular{\\AA}$)')\n",
    "plt.ylabel('PE (eV/atom)')"
   ]
  },
  {
   "cell_type": "markdown",
   "id": "1e85ff20-c4b4-4171-8035-299aa797e939",
   "metadata": {},
   "source": [
    "### 分析化学产物"
   ]
  },
  {
   "cell_type": "markdown",
   "id": "089630bb-a460-4192-8162-3361fe7b5a6a",
   "metadata": {},
   "source": [
    "mdapy目前判断两个原子的连接性的是比较经验的，当两个原子的距离小于其范德华半径之和的0.6倍，\n",
    "则认为两个原子成键，然后基于成键关系来进行聚合，得出产物的种类和数目。\n",
    "\n",
    "- 这里读取一个AP+Al的文件作为例子\n",
    "- 其中的元素顺序为[\"H\", \"C\", \"N\", \"O\", \"F\", \"Al\", \"Cl\"]"
   ]
  },
  {
   "cell_type": "code",
   "execution_count": 88,
   "id": "1f15c42a-0917-41f6-9282-c26c6e71c1df",
   "metadata": {},
   "outputs": [],
   "source": [
    "system = mp.System('frame/ap@al.dump')"
   ]
  },
  {
   "cell_type": "code",
   "execution_count": 89,
   "id": "74b06db6-fce6-4a71-bbd2-8989d7394155",
   "metadata": {},
   "outputs": [
    {
     "data": {
      "application/vnd.jupyter.widget-view+json": {
       "model_id": "a7018bc1c654403d8c1c6bc20970ce1f",
       "version_major": 2,
       "version_minor": 0
      },
      "text/plain": [
       "Output()"
      ]
     },
     "metadata": {},
     "output_type": "display_data"
    }
   ],
   "source": [
    "system.display()"
   ]
  },
  {
   "cell_type": "markdown",
   "id": "3de87ec9-79c5-4393-8975-ef0aa1137004",
   "metadata": {},
   "source": [
    "我们可以首先看一下这里面包含的最多的产物是那些，这里查看了数目前20的产物"
   ]
  },
  {
   "cell_type": "code",
   "execution_count": 90,
   "id": "376a2838-e8fd-4cf1-85e4-ed6753a8bdcc",
   "metadata": {},
   "outputs": [],
   "source": [
    "species = system.cal_species_number(element_list=[\"H\", \"C\", \"N\", \"O\", \"F\", \"Al\", \"Cl\"], check_most=20)"
   ]
  },
  {
   "cell_type": "code",
   "execution_count": 91,
   "id": "30407f83-d167-4766-a5d2-820c8fbce768",
   "metadata": {},
   "outputs": [
    {
     "data": {
      "text/plain": [
       "{'HHO': 3303,\n",
       " 'Cl': 1434,\n",
       " 'NN': 594,\n",
       " 'ClH': 374,\n",
       " 'COO': 356,\n",
       " 'HHHO': 327,\n",
       " 'NO': 296,\n",
       " 'OO': 200,\n",
       " 'HHHHOO': 190,\n",
       " 'ClHHO': 145,\n",
       " 'HO': 81,\n",
       " 'HHHHHOO': 75,\n",
       " 'ClHHHO': 73,\n",
       " 'CCCHHHHH': 62,\n",
       " 'CCCCHHHHHH': 60,\n",
       " 'CCCHHHHHH': 58,\n",
       " 'CCCCHHHHHHH': 56,\n",
       " 'CCHHHH': 52,\n",
       " 'HHNNO': 50,\n",
       " 'HHHOO': 44}"
      ]
     },
     "execution_count": 91,
     "metadata": {},
     "output_type": "execute_result"
    }
   ],
   "source": [
    "species"
   ]
  },
  {
   "cell_type": "markdown",
   "id": "4fb48a29-4e2e-4b7b-b2b5-d235797d15fd",
   "metadata": {},
   "source": [
    "我们可以看到，最多的是H2O, Cl原子，N2, HCl, CO2 大概确定以后，我们可以实际输入我们关心的产物"
   ]
  },
  {
   "cell_type": "code",
   "execution_count": 92,
   "id": "8673581e-5774-42e6-9b54-ce94dc2ea521",
   "metadata": {},
   "outputs": [],
   "source": [
    "species = system.cal_species_number(element_list=[\"H\", \"C\", \"N\", \"O\", \"F\", \"Al\", \"Cl\"], \n",
    "                                    search_species=['H2O', 'Cl', 'N2', 'CO2', 'HCl', 'X'])"
   ]
  },
  {
   "cell_type": "markdown",
   "id": "1d31bf89-d197-4f56-b283-9281f7b56ac6",
   "metadata": {},
   "source": [
    "这里'X'元素是一个虚构的元素，也就是如果你想要的产物没有，则会返回数目为0"
   ]
  },
  {
   "cell_type": "code",
   "execution_count": 93,
   "id": "f1e14a65-610f-4d11-a2d4-2d55c1f0e13c",
   "metadata": {},
   "outputs": [
    {
     "data": {
      "text/plain": [
       "{'H2O': 3303, 'Cl': 1434, 'N2': 594, 'CO2': 356, 'HCl': 374, 'X': 0}"
      ]
     },
     "execution_count": 93,
     "metadata": {},
     "output_type": "execute_result"
    }
   ],
   "source": [
    "species"
   ]
  },
  {
   "cell_type": "markdown",
   "id": "6e10929b-409a-4944-889e-c2f09a9a71ef",
   "metadata": {},
   "source": [
    "### 区域划分统计"
   ]
  },
  {
   "cell_type": "markdown",
   "id": "113ba84f-89b0-4660-9eb0-992b179952f0",
   "metadata": {},
   "source": [
    "mdapy可以对体系进行1维，2维，3维网格划分，并对里面的物理量进行平均，求和，最大值，最小值计算等操作\n",
    "\n",
    "- 这里我们以温度为例"
   ]
  },
  {
   "cell_type": "markdown",
   "id": "be607e0d-d977-489c-995e-ac69c90b3f99",
   "metadata": {},
   "source": [
    "首先计算原子的平均温度"
   ]
  },
  {
   "cell_type": "code",
   "execution_count": 94,
   "id": "9ad0d42f-3024-4a80-807b-1a4db287dc3e",
   "metadata": {},
   "outputs": [],
   "source": [
    "system.cal_atomic_temperature(elemental_list=[\"H\", \"C\", \"N\", \"O\", \"F\", \"Al\", \"Cl\"])"
   ]
  },
  {
   "cell_type": "code",
   "execution_count": 95,
   "id": "6c017c09-6f55-4249-ab2b-8eab046fd166",
   "metadata": {},
   "outputs": [
    {
     "name": "stdout",
     "output_type": "stream",
     "text": [
      "The mean temperature is 2412.0672132712666 K.\n"
     ]
    }
   ],
   "source": [
    "print(f\"The mean temperature is {system.data['atomic_temp'].mean()} K.\")"
   ]
  },
  {
   "cell_type": "code",
   "execution_count": 96,
   "id": "d3b3266a-7cc4-48f4-8b7a-8438df0878ad",
   "metadata": {},
   "outputs": [],
   "source": [
    "system.atoms_colored_by('atomic_temp', vmin=1000, vmax=3000)"
   ]
  },
  {
   "cell_type": "markdown",
   "id": "c13371b5-0d8e-4e55-bdcc-248ac2a40e5f",
   "metadata": {},
   "source": [
    "对温度在xy平面进行二维划分并求平均"
   ]
  },
  {
   "cell_type": "code",
   "execution_count": 97,
   "id": "7859d415-1fc4-471c-9699-cc3db393b88c",
   "metadata": {},
   "outputs": [],
   "source": [
    "system.spatial_binning('xy', 'atomic_temp')"
   ]
  },
  {
   "cell_type": "code",
   "execution_count": 98,
   "id": "094d5e95-9ec1-4e49-a36b-676c755296c9",
   "metadata": {},
   "outputs": [
    {
     "data": {
      "text/plain": [
       "Text(0, 0.5, 'y ($\\\\mathregular{\\\\AA}$)')"
      ]
     },
     "execution_count": 98,
     "metadata": {},
     "output_type": "execute_result"
    },
    {
     "data": {
      "image/png": "[encoded data removed]",
      "text/plain": [
       "<Figure size 472.441x442.913 with 2 Axes>"
      ]
     },
     "metadata": {},
     "output_type": "display_data"
    }
   ],
   "source": [
    "T = system.Binning.res[:, :, -1].copy()\n",
    "x, y = system.Binning.coor['x'], system.Binning.coor['y']\n",
    "X, Y = np.meshgrid(x, y, indexing='ij')\n",
    "\n",
    "fig, ax = mp.set_figure(figsize=(8, 7.5), use_pltset=True)\n",
    "vmin, vmax = 1700, 3000\n",
    "T[T<vmin] = vmin\n",
    "T[T>vmax] = vmax\n",
    "h = ax.contourf(X, Y, T, cmap='hot', levels=100)\n",
    "bar = plt.colorbar(h, ax=ax)\n",
    "bar.set_ticks([vmin, 2000, 2500, vmax])\n",
    "bar.set_label('T (K)')\n",
    "ax.set_xlabel('x ($\\mathregular{\\AA}$)')\n",
    "ax.set_ylabel('y ($\\mathregular{\\AA}$)')"
   ]
  },
  {
   "cell_type": "markdown",
   "id": "3de69d52-bb33-4689-b57c-dff7c9676db5",
   "metadata": {},
   "source": [
    "### 处理轨迹"
   ]
  },
  {
   "cell_type": "markdown",
   "id": "14299677-d6b5-4f7f-824f-2ecdad1560cf",
   "metadata": {},
   "source": [
    "如前文所说，mdapy并不是为了处理轨迹类文件的，mdapy提供的分析功能中只有计算MSD和Lindemann系数需要考虑不同frame间的关系。\n",
    "对于计算RDF这种，实际上可以通过一个简单的for-loop来进行平均，对于轨迹文件处理有几个注意事项。\n",
    "\n",
    "1. mdapy不能读取一个文件中包含多个Frame的格式，用户需要手动对轨迹文件进行切割，始终牢记mdapy是为了处理单frame设计的\n",
    "2. mdapy会把轨迹中的所有frame都读取到内存中来，所以用户要谨慎思考自己的体系是否需要那么多frame\n",
    "3. 为了计算MSD和Lindemann系数，mdapy会自动将轨迹中的坐标根据边界条件展开且会对原子序号排序，只有计算这两个参数，用户才应该使用MultiSystem,其余情况都应该使用System\n",
    "\n",
    "\n",
    "- 这里我们读取rdf.0.dump到rdf.4.dump总共5个frames来进行计算"
   ]
  },
  {
   "cell_type": "code",
   "execution_count": 99,
   "id": "7931ff5d-43d1-4d4e-99bd-f005bfa058d5",
   "metadata": {},
   "outputs": [
    {
     "name": "stderr",
     "output_type": "stream",
     "text": [
      "Reading traj/rdf.4.dump: 100%|██████████████████████████████████████████████████████████| 5/5 [00:00<00:00, 161.92it/s]\n"
     ]
    }
   ],
   "source": [
    "MS = mp.MultiSystem([f'traj/rdf.{i}.dump' for i in range(5)])"
   ]
  },
  {
   "cell_type": "code",
   "execution_count": 100,
   "id": "dbcc6890-5d2d-4372-b965-c71e35d1f147",
   "metadata": {},
   "outputs": [
    {
     "data": {
      "text/plain": [
       "Filename: traj/rdf.0.dump\n",
       "Atom Number: 15625\n",
       "Simulation Box:\n",
       "[[ 27.4946022   0.          0.       ]\n",
       " [  0.         27.4946022   0.       ]\n",
       " [  0.          0.         27.4946022]\n",
       " [-13.7473011 -13.7473011 -13.7473011]]\n",
       "TimeStep: 0\n",
       "Boundary: [1, 1, 1]\n",
       "Particle Information:\n",
       "shape: (5, 5)\n",
       "┌─────┬──────┬───────────┬───────────┬────────────┐\n",
       "│ id  ┆ type ┆ x         ┆ y         ┆ z          │\n",
       "│ --- ┆ ---  ┆ ---       ┆ ---       ┆ ---        │\n",
       "│ i64 ┆ i64  ┆ f64       ┆ f64       ┆ f64        │\n",
       "╞═════╪══════╪═══════════╪═══════════╪════════════╡\n",
       "│ 1   ┆ 0    ┆ 10.01553  ┆ -4.348063 ┆ -6.279958  │\n",
       "│ 2   ┆ 0    ┆ -5.159263 ┆ -6.642017 ┆ 1.14219    │\n",
       "│ 3   ┆ 0    ┆ 0.46146   ┆ -6.818775 ┆ -12.233191 │\n",
       "│ 4   ┆ 0    ┆ 6.030577  ┆ 9.578183  ┆ 4.405061   │\n",
       "│ 5   ┆ 0    ┆ 8.068093  ┆ -5.647203 ┆ 9.575496   │\n",
       "└─────┴──────┴───────────┴───────────┴────────────┘"
      ]
     },
     "execution_count": 100,
     "metadata": {},
     "output_type": "execute_result"
    }
   ],
   "source": [
    "MS[0]"
   ]
  },
  {
   "cell_type": "markdown",
   "id": "248ec468-f542-4fa5-9783-750072e2b390",
   "metadata": {},
   "source": [
    "### 计算MSD"
   ]
  },
  {
   "cell_type": "code",
   "execution_count": 101,
   "id": "95af0cba-dbd9-452e-a4f3-0fe4b675e455",
   "metadata": {},
   "outputs": [],
   "source": [
    "MS.cal_mean_squared_displacement()"
   ]
  },
  {
   "cell_type": "code",
   "execution_count": 102,
   "id": "e1c001af-cb4c-4f70-adda-c41281a2a7c2",
   "metadata": {},
   "outputs": [
    {
     "data": {
      "image/png": "[encoded data removed]",
      "text/plain": [
       "<Figure size 590.551x413.386 with 1 Axes>"
      ]
     },
     "metadata": {},
     "output_type": "display_data"
    }
   ],
   "source": [
    "fig, ax = MS.MSD.plot()"
   ]
  },
  {
   "cell_type": "markdown",
   "id": "82faa167-6dcb-4d9f-88f9-29c5a034001d",
   "metadata": {},
   "source": [
    "### 计算Lindemann index"
   ]
  },
  {
   "cell_type": "code",
   "execution_count": 103,
   "id": "f2b165e8-1861-4809-becf-622ff7a41aa9",
   "metadata": {},
   "outputs": [],
   "source": [
    "MS.cal_lindemann_parameter()"
   ]
  },
  {
   "cell_type": "code",
   "execution_count": 104,
   "id": "36401889-da1b-419b-95e5-ea2e69231c4b",
   "metadata": {},
   "outputs": [
    {
     "data": {
      "image/png": "[encoded data removed]",
      "text/plain": [
       "<Figure size 590.551x413.386 with 1 Axes>"
      ]
     },
     "metadata": {},
     "output_type": "display_data"
    }
   ],
   "source": [
    "fig, ax = MS.Lindemann.plot()"
   ]
  },
  {
   "cell_type": "markdown",
   "id": "a82b4a74-5628-4633-baad-0fb14ecc80ac",
   "metadata": {},
   "source": [
    "mdapy会把每个原子在MSD和lindemann系数上的贡献保存下来"
   ]
  },
  {
   "cell_type": "code",
   "execution_count": 105,
   "id": "bae2f240-fe50-4d17-84ae-14dd3109ec3d",
   "metadata": {},
   "outputs": [
    {
     "data": {
      "text/plain": [
       "Filename: traj/rdf.0.dump\n",
       "Atom Number: 15625\n",
       "Simulation Box:\n",
       "[[ 27.4946022   0.          0.       ]\n",
       " [  0.         27.4946022   0.       ]\n",
       " [  0.          0.         27.4946022]\n",
       " [-13.7473011 -13.7473011 -13.7473011]]\n",
       "TimeStep: 0\n",
       "Boundary: [1, 1, 1]\n",
       "Particle Information:\n",
       "shape: (5, 7)\n",
       "┌─────┬──────┬───────────┬───────────┬────────────┬───────────┬───────────┐\n",
       "│ id  ┆ type ┆ x         ┆ y         ┆ z          ┆ msd       ┆ lindemann │\n",
       "│ --- ┆ ---  ┆ ---       ┆ ---       ┆ ---        ┆ ---       ┆ ---       │\n",
       "│ i64 ┆ i64  ┆ f64       ┆ f64       ┆ f64        ┆ f64       ┆ f64       │\n",
       "╞═════╪══════╪═══════════╪═══════════╪════════════╪═══════════╪═══════════╡\n",
       "│ 1   ┆ 0    ┆ 10.01553  ┆ -4.348063 ┆ -6.279958  ┆ -0.00011  ┆ 0.0       │\n",
       "│ 2   ┆ 0    ┆ -5.159263 ┆ -6.642017 ┆ 1.14219    ┆ -0.00002  ┆ 0.0       │\n",
       "│ 3   ┆ 0    ┆ 0.46146   ┆ -6.818775 ┆ -12.233191 ┆ -0.000056 ┆ 0.0       │\n",
       "│ 4   ┆ 0    ┆ 6.030577  ┆ 9.578183  ┆ 4.405061   ┆ -0.000015 ┆ 0.0       │\n",
       "│ 5   ┆ 0    ┆ 8.068093  ┆ -5.647203 ┆ 9.575496   ┆ -0.000111 ┆ 0.0       │\n",
       "└─────┴──────┴───────────┴───────────┴────────────┴───────────┴───────────┘"
      ]
     },
     "execution_count": 105,
     "metadata": {},
     "output_type": "execute_result"
    }
   ],
   "source": [
    "MS[0]"
   ]
  },
  {
   "cell_type": "markdown",
   "id": "bff7db24-02a1-42b8-96d6-5674f91098a1",
   "metadata": {},
   "source": [
    "用户可以把结果保存到一系列dump文件中"
   ]
  },
  {
   "cell_type": "code",
   "execution_count": 106,
   "id": "2e148871-1886-422d-9a6b-339a0d027f13",
   "metadata": {},
   "outputs": [
    {
     "name": "stderr",
     "output_type": "stream",
     "text": [
      "Saving traj/rdf.4.dump: 100%|███████████████████████████████████████████████████████████| 5/5 [00:00<00:00, 134.81it/s]\n"
     ]
    }
   ],
   "source": [
    "MS.write_dumps()"
   ]
  }
 ],
 "metadata": {
  "kernelspec": {
   "display_name": "mda",
   "language": "python",
   "name": "mda"
  },
  "language_info": {
   "codemirror_mode": {
    "name": "ipython",
    "version": 3
   },
   "file_extension": ".py",
   "mimetype": "text/x-python",
   "name": "python",
   "nbconvert_exporter": "python",
   "pygments_lexer": "ipython3",
   "version": "3.8.0"
  }
 },
 "nbformat": 4,
 "nbformat_minor": 5
}
