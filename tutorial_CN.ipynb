{
 "cells": [
  {
   "cell_type": "markdown",
   "id": "46866cf7-8467-40b6-bace-16d2ecf586a9",
   "metadata": {},
   "source": [
    "# <center><b>mdapy</b>: Molecular dynamics simulation analysis with Python</center>"
   ]
  },
  {
   "cell_type": "markdown",
   "id": "3564a660-9b15-4aa3-9522-a5abd0220672",
   "metadata": {},
   "source": [
    "<center><img src=\"https://img.pterclub.com/images/2023/01/06/logo.png\" alt=\"logo.png\" border=\"0\" width=\"500\"/></center>"
   ]
  },
  {
   "cell_type": "markdown",
   "id": "57f6d79c-b3c4-4f95-9ccb-20385e336d18",
   "metadata": {},
   "source": [
    "#### <center> <b>Author</b>：Yong-Chao Wu </center>\n",
    "#### <center> <b>Supervisor</b>: Jian-Li Shao</center>\n",
    "#### <center> <b>Date</b>: 2023/09/23</center>\n",
    "- Wu, Y. C., & Shao, J. L. (2023). mdapy: A flexible and efficient analysis software for molecular dynamics simulations. Computer Physics Communications, 290, 108764. https://doi.org/10.1016/j.cpc.2023.108764"
   ]
  },
  {
   "cell_type": "markdown",
   "id": "0bdbef10-3864-401d-8049-ed618483817e",
   "metadata": {},
   "source": [
    "# <b>Tutorial for Beginners</b>"
   ]
  },
  {
   "cell_type": "markdown",
   "id": "f1f1f82c-bbdd-4d2d-9dc2-a2a1de00d548",
   "metadata": {},
   "source": [
    "## <b>1. 适用范围</b>\n",
    "- 主要面向固体材料的模拟，特别是金属/合金体系\n",
    "- 适合于单一Frame的系统状态分析，而不是一个轨迹中不同Frame间的关联分析\n",
    "- 直接支持LAMMPS中的dump和data文件格式\n",
    "- 仅支持三维构型"
   ]
  },
  {
   "cell_type": "markdown",
   "id": "d20ee4e6-83c4-40a3-8cb1-72a1c9fa38f2",
   "metadata": {},
   "source": [
    "## <b>2. 安装</b>"
   ]
  },
  {
   "cell_type": "markdown",
   "id": "f1ea0da9-eaa6-4aa6-b5cf-308745cf0426",
   "metadata": {},
   "source": [
    "- conda create -n mda\n",
    "- conda activate mda\n",
    "- pip install mdapy -U"
   ]
  },
  {
   "cell_type": "markdown",
   "id": "99424853-89a5-4dc4-9909-073c212606be",
   "metadata": {},
   "source": [
    "## <b>3. 使用流程</b>"
   ]
  },
  {
   "cell_type": "markdown",
   "id": "0a0b6c78-034a-4042-af6d-bc2f4cbed3f2",
   "metadata": {},
   "source": [
    "<img src=\"https://img.pterclub.com/images/2023/09/22/workflow.png\" alt=\"workflow.png\" border=\"0\" width=\"800\"/>"
   ]
  },
  {
   "cell_type": "markdown",
   "id": "4ae289c7-f089-45a5-8e6b-c0d39d97f2a9",
   "metadata": {},
   "source": [
    "- 导入需要的库"
   ]
  },
  {
   "cell_type": "code",
   "execution_count": 1,
   "id": "e7b4caa5-2046-4d11-b135-330824ff344e",
   "metadata": {},
   "outputs": [
    {
     "name": "stdout",
     "output_type": "stream",
     "text": [
      "[Taichi] version 1.6.0, llvm 15.0.1, commit f1c6fbbd, win, python 3.10.12\n",
      "[Taichi] Starting on arch=x64\n"
     ]
    }
   ],
   "source": [
    "import mdapy as mp\n",
    "import numpy as np\n",
    "import matplotlib.pyplot as plt\n",
    "mp.init()"
   ]
  },
  {
   "cell_type": "markdown",
   "id": "a9b13b57-f0ff-41f5-8e1f-11d001be95be",
   "metadata": {},
   "source": [
    "- 查看mdapy版本"
   ]
  },
  {
   "cell_type": "code",
   "execution_count": 2,
   "id": "2d86b69d-82b8-45a0-bb30-52f72d1caa8f",
   "metadata": {},
   "outputs": [
    {
     "data": {
      "text/plain": [
       "'0.9.0'"
      ]
     },
     "execution_count": 2,
     "metadata": {},
     "output_type": "execute_result"
    }
   ],
   "source": [
    "mp.__version__"
   ]
  },
  {
   "cell_type": "markdown",
   "id": "df4cad08-6e7d-467a-8495-e35f33233a66",
   "metadata": {},
   "source": [
    "## <b> 4. System Class </b>"
   ]
  },
  {
   "cell_type": "markdown",
   "id": "99e36af3-3de2-4e10-9ffd-f7d594ec6001",
   "metadata": {},
   "source": [
    "mdapy中一个核心的结构是*System*类，这个类由原子的Position, Box和Boundary组成\n",
    "- 生成System类的第一种方式，直接读取一个Dump/Data文件"
   ]
  },
  {
   "cell_type": "code",
   "execution_count": 3,
   "id": "62a20e02-00a4-4ec1-865f-b7dd557e7f90",
   "metadata": {},
   "outputs": [],
   "source": [
    "system = mp.System('./frame/CoCuFeNiPd.dump')"
   ]
  },
  {
   "cell_type": "markdown",
   "id": "8f09ff65-4924-4fa4-ae6b-897aba13cd6b",
   "metadata": {},
   "source": [
    "- 查看system实例包含的信息"
   ]
  },
  {
   "cell_type": "code",
   "execution_count": 4,
   "id": "6662aabf-6aa6-4f59-9139-aa79a17cd349",
   "metadata": {},
   "outputs": [
    {
     "data": {
      "text/plain": [
       "Filename: ./frame/CoCuFeNiPd.dump\n",
       "Atom Number: 8788\n",
       "Simulation Box:\n",
       "[[47.36159615  0.          0.        ]\n",
       " [ 0.         47.46541884  0.        ]\n",
       " [ 0.          0.         47.46849764]\n",
       " [-1.18079807 -1.23270942 -1.23424882]]\n",
       "TimeStep: 0\n",
       "Boundary: [1, 1, 1]\n",
       "Particle Information:\n",
       "   id  type         x         y         z\n",
       "0   1     2  0.006118 -0.310917 -0.345241\n",
       "1   2     4  1.901900 -0.292456  1.484880\n",
       "2   3     3 -0.015641  1.584320  1.431290\n",
       "3   4     5  1.862370  1.511170 -0.372278\n",
       "4   5     5  3.792570 -0.331891 -0.375830"
      ]
     },
     "execution_count": 4,
     "metadata": {},
     "output_type": "execute_result"
    }
   ],
   "source": [
    "system"
   ]
  },
  {
   "cell_type": "markdown",
   "id": "7d579524-5f60-417d-9c68-65759ab1a130",
   "metadata": {},
   "source": [
    "- 查看Box信息\n",
    "1. mdapy中的盒子是一个(4x3)的2维数组，前三行代表盒子的三个基向量，最后一行是盒子的原点\n",
    "2. 盒子采用LAMMPS的规则，所以box[0, 1]==box[0, 2]==box[1, 2]==0\n",
    "3. 对于正交盒子，为了和之前版本的兼容性，mdapy也支持(3x2)的盒子，第一列代表[xlo, ylo, zlo],第二列代表[xhi, yhi, zhi]"
   ]
  },
  {
   "cell_type": "code",
   "execution_count": 5,
   "id": "b8064e71-fb2a-4565-b81f-304b1ce2a5ba",
   "metadata": {},
   "outputs": [
    {
     "data": {
      "text/plain": [
       "array([[47.36159615,  0.        ,  0.        ],\n",
       "       [ 0.        , 47.46541884,  0.        ],\n",
       "       [ 0.        ,  0.        , 47.46849764],\n",
       "       [-1.18079807, -1.23270942, -1.23424882]])"
      ]
     },
     "execution_count": 5,
     "metadata": {},
     "output_type": "execute_result"
    }
   ],
   "source": [
    "system.box"
   ]
  },
  {
   "cell_type": "markdown",
   "id": "c1b34bf7-e8e9-4b0b-bbba-619f5dd25fe8",
   "metadata": {},
   "source": [
    "- 查看原子Position信息\n",
    "- (Nx3)的2维数组,分别代表x, y, z坐标"
   ]
  },
  {
   "cell_type": "code",
   "execution_count": 6,
   "id": "0411942e-907d-4969-b4d1-c3990f82eba7",
   "metadata": {},
   "outputs": [
    {
     "data": {
      "text/plain": [
       "array([[ 6.11791e-03, -3.10917e-01, -3.45241e-01],\n",
       "       [ 1.90190e+00, -2.92456e-01,  1.48488e+00],\n",
       "       [-1.56413e-02,  1.58432e+00,  1.43129e+00],\n",
       "       ...,\n",
       "       [ 4.53771e+01,  4.37577e+01,  4.52727e+01],\n",
       "       [ 4.34552e+01,  4.54854e+01,  4.52825e+01],\n",
       "       [ 4.53919e+01,  4.54009e+01,  4.34999e+01]])"
      ]
     },
     "execution_count": 6,
     "metadata": {},
     "output_type": "execute_result"
    }
   ],
   "source": [
    "system.pos"
   ]
  },
  {
   "cell_type": "markdown",
   "id": "196eb232-5552-447a-8eb7-63db6de5bdc1",
   "metadata": {},
   "source": [
    "- 查看边界Boundary信息\n",
    "- 是一个包含三个数字的列表，其中1代表周期性边界，0代表自由边界"
   ]
  },
  {
   "cell_type": "code",
   "execution_count": 7,
   "id": "632665cf-6ec8-4d0b-99e0-62ab77b618ef",
   "metadata": {},
   "outputs": [
    {
     "data": {
      "text/plain": [
       "[1, 1, 1]"
      ]
     },
     "execution_count": 7,
     "metadata": {},
     "output_type": "execute_result"
    }
   ],
   "source": [
    "system.boundary"
   ]
  },
  {
   "cell_type": "markdown",
   "id": "8c6ab2e7-7bd1-42b3-b198-7b0d87570729",
   "metadata": {},
   "source": [
    "- 查看所有Particle相关的数据\n",
    "- 存储为DataFrame的格式"
   ]
  },
  {
   "cell_type": "code",
   "execution_count": 8,
   "id": "f252bb9c-293d-49e8-8e4e-4c0a34e77e70",
   "metadata": {},
   "outputs": [
    {
     "data": {
      "text/html": [
       "<div>\n",
       "<style scoped>\n",
       "    .dataframe tbody tr th:only-of-type {\n",
       "        vertical-align: middle;\n",
       "    }\n",
       "\n",
       "    .dataframe tbody tr th {\n",
       "        vertical-align: top;\n",
       "    }\n",
       "\n",
       "    .dataframe thead th {\n",
       "        text-align: right;\n",
       "    }\n",
       "</style>\n",
       "<table border=\"1\" class=\"dataframe\">\n",
       "  <thead>\n",
       "    <tr style=\"text-align: right;\">\n",
       "      <th></th>\n",
       "      <th>id</th>\n",
       "      <th>type</th>\n",
       "      <th>x</th>\n",
       "      <th>y</th>\n",
       "      <th>z</th>\n",
       "    </tr>\n",
       "  </thead>\n",
       "  <tbody>\n",
       "    <tr>\n",
       "      <th>0</th>\n",
       "      <td>1</td>\n",
       "      <td>2</td>\n",
       "      <td>0.006118</td>\n",
       "      <td>-0.310917</td>\n",
       "      <td>-0.345241</td>\n",
       "    </tr>\n",
       "    <tr>\n",
       "      <th>1</th>\n",
       "      <td>2</td>\n",
       "      <td>4</td>\n",
       "      <td>1.901900</td>\n",
       "      <td>-0.292456</td>\n",
       "      <td>1.484880</td>\n",
       "    </tr>\n",
       "    <tr>\n",
       "      <th>2</th>\n",
       "      <td>3</td>\n",
       "      <td>3</td>\n",
       "      <td>-0.015641</td>\n",
       "      <td>1.584320</td>\n",
       "      <td>1.431290</td>\n",
       "    </tr>\n",
       "    <tr>\n",
       "      <th>3</th>\n",
       "      <td>4</td>\n",
       "      <td>5</td>\n",
       "      <td>1.862370</td>\n",
       "      <td>1.511170</td>\n",
       "      <td>-0.372278</td>\n",
       "    </tr>\n",
       "    <tr>\n",
       "      <th>4</th>\n",
       "      <td>5</td>\n",
       "      <td>5</td>\n",
       "      <td>3.792570</td>\n",
       "      <td>-0.331891</td>\n",
       "      <td>-0.375830</td>\n",
       "    </tr>\n",
       "    <tr>\n",
       "      <th>...</th>\n",
       "      <td>...</td>\n",
       "      <td>...</td>\n",
       "      <td>...</td>\n",
       "      <td>...</td>\n",
       "      <td>...</td>\n",
       "    </tr>\n",
       "    <tr>\n",
       "      <th>8783</th>\n",
       "      <td>8784</td>\n",
       "      <td>3</td>\n",
       "      <td>41.559500</td>\n",
       "      <td>45.481000</td>\n",
       "      <td>43.499600</td>\n",
       "    </tr>\n",
       "    <tr>\n",
       "      <th>8784</th>\n",
       "      <td>8785</td>\n",
       "      <td>4</td>\n",
       "      <td>43.457500</td>\n",
       "      <td>43.737100</td>\n",
       "      <td>43.608300</td>\n",
       "    </tr>\n",
       "    <tr>\n",
       "      <th>8785</th>\n",
       "      <td>8786</td>\n",
       "      <td>4</td>\n",
       "      <td>45.377100</td>\n",
       "      <td>43.757700</td>\n",
       "      <td>45.272700</td>\n",
       "    </tr>\n",
       "    <tr>\n",
       "      <th>8786</th>\n",
       "      <td>8787</td>\n",
       "      <td>4</td>\n",
       "      <td>43.455200</td>\n",
       "      <td>45.485400</td>\n",
       "      <td>45.282500</td>\n",
       "    </tr>\n",
       "    <tr>\n",
       "      <th>8787</th>\n",
       "      <td>8788</td>\n",
       "      <td>1</td>\n",
       "      <td>45.391900</td>\n",
       "      <td>45.400900</td>\n",
       "      <td>43.499900</td>\n",
       "    </tr>\n",
       "  </tbody>\n",
       "</table>\n",
       "<p>8788 rows × 5 columns</p>\n",
       "</div>"
      ],
      "text/plain": [
       "        id  type          x          y          z\n",
       "0        1     2   0.006118  -0.310917  -0.345241\n",
       "1        2     4   1.901900  -0.292456   1.484880\n",
       "2        3     3  -0.015641   1.584320   1.431290\n",
       "3        4     5   1.862370   1.511170  -0.372278\n",
       "4        5     5   3.792570  -0.331891  -0.375830\n",
       "...    ...   ...        ...        ...        ...\n",
       "8783  8784     3  41.559500  45.481000  43.499600\n",
       "8784  8785     4  43.457500  43.737100  43.608300\n",
       "8785  8786     4  45.377100  43.757700  45.272700\n",
       "8786  8787     4  43.455200  45.485400  45.282500\n",
       "8787  8788     1  45.391900  45.400900  43.499900\n",
       "\n",
       "[8788 rows x 5 columns]"
      ]
     },
     "execution_count": 8,
     "metadata": {},
     "output_type": "execute_result"
    }
   ],
   "source": [
    "system.data"
   ]
  },
  {
   "cell_type": "markdown",
   "id": "137b9f2c-363b-4592-bf41-52c90aa0822e",
   "metadata": {},
   "source": [
    "## <b> 5. Neighbor information </b>"
   ]
  },
  {
   "cell_type": "markdown",
   "id": "fb166d0b-231d-4af8-b6bc-e88359fc8bf4",
   "metadata": {},
   "source": [
    "### <b> 5.1 截断半径内的邻域 </b>\n",
    "- 使用元胞链表算法建立邻域"
   ]
  },
  {
   "cell_type": "code",
   "execution_count": 9,
   "id": "42a33dcf-f2f9-414e-9faf-c210d316063a",
   "metadata": {},
   "outputs": [
    {
     "name": "stderr",
     "output_type": "stream",
     "text": [
      "D:\\Anaconda\\envs\\mda_ovito\\lib\\site-packages\\taichi\\lang\\expr.py:101: DeprecationWarning: In future, it will be an error for 'np.bool_' scalars to be interpreted as an index\n",
      "  return Expr(_ti_core.make_const_expr_int(constant_dtype, val))\n"
     ]
    }
   ],
   "source": [
    "system.build_neighbor(rc=5., max_neigh=60)"
   ]
  },
  {
   "cell_type": "markdown",
   "id": "7afc4390-2b9a-4e79-b970-d5fa38f7c7ef",
   "metadata": {},
   "source": [
    "- 查看原子的邻域列表\n",
    "1. 是一个(N, max_neigh)的2维数组，每一行对应该原子的邻域内原子索引\n",
    "2. max_neigh代表最大邻域原子数目，可以手动指定，也可以自动生成\n",
    "3. 手动指定可以节约内存，提高计算速度"
   ]
  },
  {
   "cell_type": "code",
   "execution_count": 10,
   "id": "613c6135-af5f-4178-9a5b-6fcb776af85e",
   "metadata": {},
   "outputs": [
    {
     "data": {
      "text/plain": [
       "array([[8787, 8786, 8785, ...,   -1,   -1,   -1],\n",
       "       [8683, 8678, 7785, ...,   -1,   -1,   -1],\n",
       "       [8683, 8678, 7890, ...,   -1,   -1,   -1],\n",
       "       ...,\n",
       "       [8787, 8786, 8784, ...,   -1,   -1,   -1],\n",
       "       [8787, 8785, 8784, ...,   -1,   -1,   -1],\n",
       "       [8786, 8785, 8784, ...,   -1,   -1,   -1]])"
      ]
     },
     "execution_count": 10,
     "metadata": {},
     "output_type": "execute_result"
    }
   ],
   "source": [
    "system.verlet_list"
   ]
  },
  {
   "cell_type": "markdown",
   "id": "07642cbe-8d25-432e-968a-d9e7951fd98a",
   "metadata": {},
   "source": [
    "- 查看原子的邻域距离列表\n",
    "- 与verlet_list相对应的欧式距离，考虑了周期性边界"
   ]
  },
  {
   "cell_type": "code",
   "execution_count": 11,
   "id": "a4a19a7f-7d7e-4bcd-877c-8f609f77e782",
   "metadata": {},
   "outputs": [
    {
     "data": {
      "text/plain": [
       "array([[4.48415851, 4.63487321, 4.35033004, ..., 6.        , 6.        ,\n",
       "        6.        ],\n",
       "       [4.46090018, 4.58191893, 4.52604475, ..., 6.        , 6.        ,\n",
       "        6.        ],\n",
       "       [4.31507754, 4.44738973, 4.59567837, ..., 6.        , 6.        ,\n",
       "        6.        ],\n",
       "       ...,\n",
       "       [2.41725984, 2.5843264 , 2.54077073, ..., 6.        , 6.        ,\n",
       "        6.        ],\n",
       "       [2.63355461, 2.5843264 , 2.4206412 , ..., 6.        , 6.        ,\n",
       "        6.        ],\n",
       "       [2.63355461, 2.41725984, 2.55379803, ..., 6.        , 6.        ,\n",
       "        6.        ]])"
      ]
     },
     "execution_count": 11,
     "metadata": {},
     "output_type": "execute_result"
    }
   ],
   "source": [
    "system.distance_list"
   ]
  },
  {
   "cell_type": "markdown",
   "id": "ca2d245a-95bd-4377-b756-be56919b8b54",
   "metadata": {},
   "source": [
    "- 查看原子的邻域原子数目"
   ]
  },
  {
   "cell_type": "code",
   "execution_count": 12,
   "id": "57239ad9-1eb5-4f42-8ec5-1bab1022902e",
   "metadata": {},
   "outputs": [
    {
     "data": {
      "text/plain": [
       "array([43, 44, 42, ..., 44, 44, 43])"
      ]
     },
     "execution_count": 12,
     "metadata": {},
     "output_type": "execute_result"
    }
   ],
   "source": [
    "system.neighbor_number"
   ]
  },
  {
   "cell_type": "markdown",
   "id": "a42c4086-34a1-4afa-91e8-77562d7b0cdb",
   "metadata": {},
   "source": [
    "- 获取0号原子的近邻列表"
   ]
  },
  {
   "cell_type": "code",
   "execution_count": 13,
   "id": "8bc844bc-3795-4313-912d-01a762e711f1",
   "metadata": {},
   "outputs": [
    {
     "data": {
      "text/plain": [
       "array([8787, 8786, 8785, 8683, 8678, 8677, 8676, 7890, 7887, 7886, 7885,\n",
       "       7785, 7782, 7779, 7778, 7777, 7776, 1012, 1010, 1009, 1008,  902,\n",
       "        901,  899,  897,  896,  895,  894,  115,  113,  111,  110,  109,\n",
       "        108,   10,    9,    7,    6,    5,    4,    3,    2,    1])"
      ]
     },
     "execution_count": 13,
     "metadata": {},
     "output_type": "execute_result"
    }
   ],
   "source": [
    "system.verlet_list[0][system.verlet_list[0]>-1]"
   ]
  },
  {
   "cell_type": "markdown",
   "id": "3afc0565-2338-4f82-a57e-493f3ac489ad",
   "metadata": {},
   "source": [
    "- 对应的距离"
   ]
  },
  {
   "cell_type": "code",
   "execution_count": 14,
   "id": "30c6c48b-2b2d-4ed1-8fab-ce9f0385c3cc",
   "metadata": {},
   "outputs": [
    {
     "data": {
      "text/plain": [
       "array([4.48415851, 4.63487321, 4.35033004, 4.32684219, 2.57315649,\n",
       "       4.56321812, 4.28528359, 4.59095276, 4.66010003, 4.75302553,\n",
       "       2.75477768, 4.39168451, 4.61796939, 2.72325674, 4.72094208,\n",
       "       2.60048836, 3.89905069, 4.59982507, 4.55429545, 2.58034816,\n",
       "       4.3158718 , 4.39625655, 4.94515661, 4.54723002, 2.57907233,\n",
       "       2.51207599, 4.33703698, 3.40006632, 4.52692755, 4.59187976,\n",
       "       4.58003255, 2.63799722, 2.64905416, 3.73204205, 4.42655427,\n",
       "       3.47691914, 4.43249288, 3.67048701, 4.59684361, 3.78663373,\n",
       "       2.60123122, 2.59777966, 2.63508509])"
      ]
     },
     "execution_count": 14,
     "metadata": {},
     "output_type": "execute_result"
    }
   ],
   "source": [
    "system.distance_list[0][system.distance_list[0]<=system.rc]"
   ]
  },
  {
   "cell_type": "markdown",
   "id": "cc048e0c-1474-42ef-a016-2729ec42fb6b",
   "metadata": {},
   "source": [
    "- 计算距离来验证"
   ]
  },
  {
   "cell_type": "code",
   "execution_count": 15,
   "id": "2dc157d6-fc46-477f-90ed-58f561e4ed2d",
   "metadata": {},
   "outputs": [
    {
     "data": {
      "text/plain": [
       "4.484158107630933"
      ]
     },
     "execution_count": 15,
     "metadata": {},
     "output_type": "execute_result"
    }
   ],
   "source": [
    "system.atom_distance(0, 8787)"
   ]
  },
  {
   "cell_type": "markdown",
   "id": "63460e09-2273-47d7-a3cb-8b51dccc85b5",
   "metadata": {},
   "source": [
    "### <b> 5.2 固定数目的最近邻查找 </b>\n",
    "- 使用Kdtree来建立最近邻列表"
   ]
  },
  {
   "cell_type": "code",
   "execution_count": 16,
   "id": "5a03fd93-9965-44e5-920a-288d8b40be46",
   "metadata": {},
   "outputs": [],
   "source": [
    "kdt = mp.NearestNeighbor(system.pos, system.box, system.boundary)"
   ]
  },
  {
   "cell_type": "code",
   "execution_count": 17,
   "id": "e367ded1-aeb6-487f-b5c4-0e383625b68b",
   "metadata": {},
   "outputs": [],
   "source": [
    "distance_list, verlet_list = kdt.query_nearest_neighbors(12)"
   ]
  },
  {
   "cell_type": "markdown",
   "id": "7378e168-4d1f-4fdf-a3a0-25fe7a16f839",
   "metadata": {},
   "source": [
    "- 查看最近邻信息"
   ]
  },
  {
   "cell_type": "code",
   "execution_count": 18,
   "id": "9c73e78e-8d1d-424e-a00e-93776ca5c935",
   "metadata": {},
   "outputs": [
    {
     "data": {
      "text/plain": [
       "array([ 896, 8678,  897, 1009,    2, 7777,    3,    1,  110,  109, 7779,\n",
       "       7885], dtype=int64)"
      ]
     },
     "execution_count": 18,
     "metadata": {},
     "output_type": "execute_result"
    }
   ],
   "source": [
    "verlet_list[0]"
   ]
  },
  {
   "cell_type": "code",
   "execution_count": 19,
   "id": "5d07ee72-f136-496f-8a56-beb2bb113d3f",
   "metadata": {},
   "outputs": [
    {
     "data": {
      "text/plain": [
       "array([2.51207536, 2.57315662, 2.5790717 , 2.58034708, 2.59777966,\n",
       "       2.60048908, 2.60123122, 2.63508509, 2.63799678, 2.64905374,\n",
       "       2.72325745, 2.75477797])"
      ]
     },
     "execution_count": 19,
     "metadata": {},
     "output_type": "execute_result"
    }
   ],
   "source": [
    "distance_list[0]"
   ]
  },
  {
   "cell_type": "markdown",
   "id": "9f11b294-83a9-4748-8487-195fcf1da6e5",
   "metadata": {},
   "source": [
    "## <b> 6. 后处理分析 </b>"
   ]
  },
  {
   "cell_type": "markdown",
   "id": "28076596-5534-4a43-a87e-8eed86b2470d",
   "metadata": {},
   "source": [
    "#### 6.1 计算径向分布函数"
   ]
  },
  {
   "cell_type": "code",
   "execution_count": 20,
   "id": "e7aecb37-2d86-49c8-8e4d-ac9326ab315c",
   "metadata": {},
   "outputs": [],
   "source": [
    "system.cal_pair_distribution()"
   ]
  },
  {
   "cell_type": "code",
   "execution_count": 21,
   "id": "c6f738b3-b8ef-471e-ab13-94d866bb019f",
   "metadata": {},
   "outputs": [
    {
     "data": {
      "image/png": "[encoded data removed]",
      "text/plain": [
       "<Figure size 472.441x295.276 with 1 Axes>"
      ]
     },
     "metadata": {},
     "output_type": "display_data"
    }
   ],
   "source": [
    "fig, ax = system.PairDistribution.plot()"
   ]
  },
  {
   "cell_type": "code",
   "execution_count": 22,
   "id": "48a5a8aa-54f8-4f04-8a59-67546c317f14",
   "metadata": {},
   "outputs": [
    {
     "data": {
      "image/png": "[encoded data removed]",
      "text/plain": [
       "<Figure size 472.441x295.276 with 1 Axes>"
      ]
     },
     "metadata": {},
     "output_type": "display_data"
    }
   ],
   "source": [
    "fig, ax = system.PairDistribution.plot_partial()"
   ]
  },
  {
   "cell_type": "markdown",
   "id": "20d0e7c0-e05f-4c5b-9d44-f76c2740ca86",
   "metadata": {},
   "source": [
    "#### 6.2 计算WCP参数"
   ]
  },
  {
   "cell_type": "code",
   "execution_count": 23,
   "id": "3797f540-873d-4ca3-9a95-d2fcc6b365c0",
   "metadata": {},
   "outputs": [
    {
     "name": "stderr",
     "output_type": "stream",
     "text": [
      "D:\\Anaconda\\envs\\mda_ovito\\lib\\site-packages\\taichi\\lang\\expr.py:101: DeprecationWarning: In future, it will be an error for 'np.bool_' scalars to be interpreted as an index\n",
      "  return Expr(_ti_core.make_const_expr_int(constant_dtype, val))\n"
     ]
    }
   ],
   "source": [
    "system.cal_warren_cowley_parameter()"
   ]
  },
  {
   "cell_type": "code",
   "execution_count": 24,
   "id": "072c6950-4173-4119-b279-6aceddb7cbc1",
   "metadata": {},
   "outputs": [
    {
     "data": {
      "text/plain": [
       "array([[-1.39078011,  0.63941399,  0.39269725, -0.30498922,  0.66252684],\n",
       "       [ 0.63941399, -1.93830149,  0.58034431,  0.51486949,  0.20332652],\n",
       "       [ 0.3929276 ,  0.58050349, -0.56415998,  0.63267377, -1.04016883],\n",
       "       [-0.30492733,  0.51489249,  0.63255182, -1.69477812,  0.85080842],\n",
       "       [ 0.66254282,  0.20336424, -1.04084631,  0.8508084 , -0.67471711]])"
      ]
     },
     "execution_count": 24,
     "metadata": {},
     "output_type": "execute_result"
    }
   ],
   "source": [
    "system.WarrenCowleyParameter.WCP"
   ]
  },
  {
   "cell_type": "code",
   "execution_count": 25,
   "id": "120f23af-7a09-4740-9a9a-630cbdb6f782",
   "metadata": {},
   "outputs": [
    {
     "data": {
      "image/png": "[encoded data removed]",
      "text/plain": [
       "<Figure size 472.441x472.441 with 2 Axes>"
      ]
     },
     "metadata": {},
     "output_type": "display_data"
    }
   ],
   "source": [
    "fig, ax = system.WarrenCowleyParameter.plot()"
   ]
  },
  {
   "cell_type": "markdown",
   "id": "4369eb89-8490-4581-abc6-30da114560b1",
   "metadata": {},
   "source": [
    "#### 6.3 PTM结构分析"
   ]
  },
  {
   "cell_type": "code",
   "execution_count": 26,
   "id": "6ecc38d6-d915-4c15-ba3b-2534e3f78583",
   "metadata": {},
   "outputs": [],
   "source": [
    "system.cal_polyhedral_template_matching()"
   ]
  },
  {
   "cell_type": "markdown",
   "id": "494fc17c-2a0c-4e1e-a7c0-d93a5b6c7dd7",
   "metadata": {},
   "source": [
    "#### 6.4 计算中心对称参数"
   ]
  },
  {
   "cell_type": "code",
   "execution_count": 27,
   "id": "e5d9578c-bc28-46b7-9aab-9fdeedf5ee73",
   "metadata": {},
   "outputs": [],
   "source": [
    "system.cal_centro_symmetry_parameter()"
   ]
  },
  {
   "cell_type": "markdown",
   "id": "6adf2380-ed5a-47ae-9248-18a397e2c9d1",
   "metadata": {},
   "source": [
    "#### 6.5 计算构型熵"
   ]
  },
  {
   "cell_type": "code",
   "execution_count": 28,
   "id": "0d7d6a5f-695e-4441-8550-1f898d144781",
   "metadata": {},
   "outputs": [
    {
     "name": "stderr",
     "output_type": "stream",
     "text": [
      "D:\\Anaconda\\envs\\mda_ovito\\lib\\site-packages\\taichi\\lang\\expr.py:101: DeprecationWarning: In future, it will be an error for 'np.bool_' scalars to be interpreted as an index\n",
      "  return Expr(_ti_core.make_const_expr_int(constant_dtype, val))\n"
     ]
    }
   ],
   "source": [
    "system.cal_atomic_entropy(rc=3.6*1.4, compute_average=True, average_rc=3.6*0.9)"
   ]
  },
  {
   "cell_type": "markdown",
   "id": "6ac2ae1a-4f8d-4399-a193-74a089860d1e",
   "metadata": {},
   "source": [
    "#### 6.6 计算Voronoi体积"
   ]
  },
  {
   "cell_type": "code",
   "execution_count": 29,
   "id": "c539bd5c-5588-4d22-b5c4-fa77d7a5bba4",
   "metadata": {},
   "outputs": [],
   "source": [
    "system.cal_voronoi_volume()"
   ]
  },
  {
   "cell_type": "markdown",
   "id": "fde3cb09-7c18-4a09-b839-4e0db06e7982",
   "metadata": {},
   "source": [
    "#### 查看计算结果"
   ]
  },
  {
   "cell_type": "code",
   "execution_count": 30,
   "id": "1dda24ac-0bde-4e1d-b45b-c76199607665",
   "metadata": {},
   "outputs": [
    {
     "data": {
      "text/html": [
       "<div>\n",
       "<style scoped>\n",
       "    .dataframe tbody tr th:only-of-type {\n",
       "        vertical-align: middle;\n",
       "    }\n",
       "\n",
       "    .dataframe tbody tr th {\n",
       "        vertical-align: top;\n",
       "    }\n",
       "\n",
       "    .dataframe thead th {\n",
       "        text-align: right;\n",
       "    }\n",
       "</style>\n",
       "<table border=\"1\" class=\"dataframe\">\n",
       "  <thead>\n",
       "    <tr style=\"text-align: right;\">\n",
       "      <th></th>\n",
       "      <th>id</th>\n",
       "      <th>type</th>\n",
       "      <th>x</th>\n",
       "      <th>y</th>\n",
       "      <th>z</th>\n",
       "      <th>structure_types</th>\n",
       "      <th>csp</th>\n",
       "      <th>atomic_entropy</th>\n",
       "      <th>ave_atomic_entropy</th>\n",
       "      <th>voronoi_volume</th>\n",
       "      <th>voronoi_number</th>\n",
       "      <th>cavity_radius</th>\n",
       "    </tr>\n",
       "  </thead>\n",
       "  <tbody>\n",
       "    <tr>\n",
       "      <th>0</th>\n",
       "      <td>1</td>\n",
       "      <td>2</td>\n",
       "      <td>0.006118</td>\n",
       "      <td>-0.310917</td>\n",
       "      <td>-0.345241</td>\n",
       "      <td>1</td>\n",
       "      <td>0.100696</td>\n",
       "      <td>-5.997982</td>\n",
       "      <td>-6.469181</td>\n",
       "      <td>12.681010</td>\n",
       "      <td>15</td>\n",
       "      <td>3.675684</td>\n",
       "    </tr>\n",
       "    <tr>\n",
       "      <th>1</th>\n",
       "      <td>2</td>\n",
       "      <td>4</td>\n",
       "      <td>1.901900</td>\n",
       "      <td>-0.292456</td>\n",
       "      <td>1.484880</td>\n",
       "      <td>1</td>\n",
       "      <td>0.139543</td>\n",
       "      <td>-6.640986</td>\n",
       "      <td>-6.677864</td>\n",
       "      <td>12.012947</td>\n",
       "      <td>14</td>\n",
       "      <td>3.581766</td>\n",
       "    </tr>\n",
       "    <tr>\n",
       "      <th>2</th>\n",
       "      <td>3</td>\n",
       "      <td>3</td>\n",
       "      <td>-0.015641</td>\n",
       "      <td>1.584320</td>\n",
       "      <td>1.431290</td>\n",
       "      <td>1</td>\n",
       "      <td>0.094929</td>\n",
       "      <td>-6.821842</td>\n",
       "      <td>-6.666716</td>\n",
       "      <td>12.197214</td>\n",
       "      <td>12</td>\n",
       "      <td>3.674408</td>\n",
       "    </tr>\n",
       "    <tr>\n",
       "      <th>3</th>\n",
       "      <td>4</td>\n",
       "      <td>5</td>\n",
       "      <td>1.862370</td>\n",
       "      <td>1.511170</td>\n",
       "      <td>-0.372278</td>\n",
       "      <td>1</td>\n",
       "      <td>0.072999</td>\n",
       "      <td>-6.958320</td>\n",
       "      <td>-6.940528</td>\n",
       "      <td>12.900968</td>\n",
       "      <td>15</td>\n",
       "      <td>3.713117</td>\n",
       "    </tr>\n",
       "    <tr>\n",
       "      <th>4</th>\n",
       "      <td>5</td>\n",
       "      <td>5</td>\n",
       "      <td>3.792570</td>\n",
       "      <td>-0.331891</td>\n",
       "      <td>-0.375830</td>\n",
       "      <td>1</td>\n",
       "      <td>0.046358</td>\n",
       "      <td>-6.679067</td>\n",
       "      <td>-6.846047</td>\n",
       "      <td>12.400861</td>\n",
       "      <td>14</td>\n",
       "      <td>3.645415</td>\n",
       "    </tr>\n",
       "  </tbody>\n",
       "</table>\n",
       "</div>"
      ],
      "text/plain": [
       "   id  type         x         y         z  structure_types       csp  \\\n",
       "0   1     2  0.006118 -0.310917 -0.345241                1  0.100696   \n",
       "1   2     4  1.901900 -0.292456  1.484880                1  0.139543   \n",
       "2   3     3 -0.015641  1.584320  1.431290                1  0.094929   \n",
       "3   4     5  1.862370  1.511170 -0.372278                1  0.072999   \n",
       "4   5     5  3.792570 -0.331891 -0.375830                1  0.046358   \n",
       "\n",
       "   atomic_entropy  ave_atomic_entropy  voronoi_volume  voronoi_number  \\\n",
       "0       -5.997982           -6.469181       12.681010              15   \n",
       "1       -6.640986           -6.677864       12.012947              14   \n",
       "2       -6.821842           -6.666716       12.197214              12   \n",
       "3       -6.958320           -6.940528       12.900968              15   \n",
       "4       -6.679067           -6.846047       12.400861              14   \n",
       "\n",
       "   cavity_radius  \n",
       "0       3.675684  \n",
       "1       3.581766  \n",
       "2       3.674408  \n",
       "3       3.713117  \n",
       "4       3.645415  "
      ]
     },
     "execution_count": 30,
     "metadata": {},
     "output_type": "execute_result"
    }
   ],
   "source": [
    "system.data.head()"
   ]
  },
  {
   "cell_type": "markdown",
   "id": "55b47332-1201-41e1-bd00-44274eaccbda",
   "metadata": {},
   "source": [
    "#### 保存结果到新的dump/data文件"
   ]
  },
  {
   "cell_type": "code",
   "execution_count": 31,
   "id": "eb202a5c-bff5-451a-913f-ea830248602d",
   "metadata": {},
   "outputs": [],
   "source": [
    "system.write_dump()"
   ]
  },
  {
   "cell_type": "markdown",
   "id": "0279b0b1-2ab9-4842-b25c-29989e5119f6",
   "metadata": {},
   "source": [
    "#### 6.7 使用Bond order判断是solid还是liquid\n",
    "- 这里重新读取一个固液共存的dump文件"
   ]
  },
  {
   "cell_type": "code",
   "execution_count": 32,
   "id": "aab24bee-d186-4ac8-a862-340d9e21236a",
   "metadata": {},
   "outputs": [],
   "source": [
    "system = mp.System('frame/solidliquid.dump') # 钼（Molybdenum） 2896 K"
   ]
  },
  {
   "cell_type": "code",
   "execution_count": 33,
   "id": "84983e39-db32-49db-824f-749e1c8b795f",
   "metadata": {},
   "outputs": [],
   "source": [
    "system.cal_steinhardt_bond_orientation(solidliquid=True)"
   ]
  },
  {
   "cell_type": "markdown",
   "id": "3472af92-d1ff-428b-a458-57d87368e07d",
   "metadata": {},
   "source": [
    "#### 6.8 计算原子平均温度"
   ]
  },
  {
   "cell_type": "code",
   "execution_count": 34,
   "id": "ef3f4aa9-a9da-4ed0-a5a6-4858bf69022f",
   "metadata": {},
   "outputs": [
    {
     "name": "stderr",
     "output_type": "stream",
     "text": [
      "D:\\Anaconda\\envs\\mda_ovito\\lib\\site-packages\\taichi\\lang\\expr.py:101: DeprecationWarning: In future, it will be an error for 'np.bool_' scalars to be interpreted as an index\n",
      "  return Expr(_ti_core.make_const_expr_int(constant_dtype, val))\n"
     ]
    }
   ],
   "source": [
    "system.cal_atomic_temperature(system.data['mass'].unique())"
   ]
  },
  {
   "cell_type": "code",
   "execution_count": 35,
   "id": "2d6c9dd8-36e0-4d70-bfb5-a11817955150",
   "metadata": {},
   "outputs": [
    {
     "name": "stdout",
     "output_type": "stream",
     "text": [
      "Average temperature is 2672.12262088679 K\n"
     ]
    }
   ],
   "source": [
    "print(f\"Average temperature is {system.data['atomic_temp'].mean()} K\")"
   ]
  },
  {
   "cell_type": "code",
   "execution_count": 36,
   "id": "0fafd305-0455-4baa-acdc-fcabf6c9bfbf",
   "metadata": {},
   "outputs": [
    {
     "data": {
      "text/html": [
       "<div>\n",
       "<style scoped>\n",
       "    .dataframe tbody tr th:only-of-type {\n",
       "        vertical-align: middle;\n",
       "    }\n",
       "\n",
       "    .dataframe tbody tr th {\n",
       "        vertical-align: top;\n",
       "    }\n",
       "\n",
       "    .dataframe thead th {\n",
       "        text-align: right;\n",
       "    }\n",
       "</style>\n",
       "<table border=\"1\" class=\"dataframe\">\n",
       "  <thead>\n",
       "    <tr style=\"text-align: right;\">\n",
       "      <th></th>\n",
       "      <th>id</th>\n",
       "      <th>type</th>\n",
       "      <th>mass</th>\n",
       "      <th>x</th>\n",
       "      <th>y</th>\n",
       "      <th>z</th>\n",
       "      <th>vx</th>\n",
       "      <th>vy</th>\n",
       "      <th>vz</th>\n",
       "      <th>ql6</th>\n",
       "      <th>solidliquid</th>\n",
       "      <th>atomic_temp</th>\n",
       "    </tr>\n",
       "  </thead>\n",
       "  <tbody>\n",
       "    <tr>\n",
       "      <th>0</th>\n",
       "      <td>7913</td>\n",
       "      <td>1</td>\n",
       "      <td>95.94</td>\n",
       "      <td>2.641080</td>\n",
       "      <td>3.215200</td>\n",
       "      <td>1.741970</td>\n",
       "      <td>2.900960</td>\n",
       "      <td>1.728750</td>\n",
       "      <td>-1.77975</td>\n",
       "      <td>0.338703</td>\n",
       "      <td>0</td>\n",
       "      <td>2234.237250</td>\n",
       "    </tr>\n",
       "    <tr>\n",
       "      <th>1</th>\n",
       "      <td>4098</td>\n",
       "      <td>1</td>\n",
       "      <td>95.94</td>\n",
       "      <td>-0.091857</td>\n",
       "      <td>0.465800</td>\n",
       "      <td>0.936675</td>\n",
       "      <td>-0.166803</td>\n",
       "      <td>0.959803</td>\n",
       "      <td>3.70312</td>\n",
       "      <td>0.503473</td>\n",
       "      <td>0</td>\n",
       "      <td>2610.685635</td>\n",
       "    </tr>\n",
       "    <tr>\n",
       "      <th>2</th>\n",
       "      <td>4414</td>\n",
       "      <td>1</td>\n",
       "      <td>95.94</td>\n",
       "      <td>51.307600</td>\n",
       "      <td>2.937420</td>\n",
       "      <td>2.124840</td>\n",
       "      <td>4.506050</td>\n",
       "      <td>-1.069240</td>\n",
       "      <td>-1.41931</td>\n",
       "      <td>0.411614</td>\n",
       "      <td>0</td>\n",
       "      <td>2192.303592</td>\n",
       "    </tr>\n",
       "    <tr>\n",
       "      <th>3</th>\n",
       "      <td>4</td>\n",
       "      <td>1</td>\n",
       "      <td>95.94</td>\n",
       "      <td>3.577730</td>\n",
       "      <td>-0.024408</td>\n",
       "      <td>2.310720</td>\n",
       "      <td>-6.047090</td>\n",
       "      <td>5.234510</td>\n",
       "      <td>9.18538</td>\n",
       "      <td>0.304366</td>\n",
       "      <td>0</td>\n",
       "      <td>2351.477280</td>\n",
       "    </tr>\n",
       "    <tr>\n",
       "      <th>4</th>\n",
       "      <td>37</td>\n",
       "      <td>1</td>\n",
       "      <td>95.94</td>\n",
       "      <td>45.219000</td>\n",
       "      <td>19.565400</td>\n",
       "      <td>-0.241386</td>\n",
       "      <td>-5.203060</td>\n",
       "      <td>3.796940</td>\n",
       "      <td>-2.15249</td>\n",
       "      <td>0.567507</td>\n",
       "      <td>0</td>\n",
       "      <td>2911.470647</td>\n",
       "    </tr>\n",
       "  </tbody>\n",
       "</table>\n",
       "</div>"
      ],
      "text/plain": [
       "     id  type   mass          x          y         z        vx        vy  \\\n",
       "0  7913     1  95.94   2.641080   3.215200  1.741970  2.900960  1.728750   \n",
       "1  4098     1  95.94  -0.091857   0.465800  0.936675 -0.166803  0.959803   \n",
       "2  4414     1  95.94  51.307600   2.937420  2.124840  4.506050 -1.069240   \n",
       "3     4     1  95.94   3.577730  -0.024408  2.310720 -6.047090  5.234510   \n",
       "4    37     1  95.94  45.219000  19.565400 -0.241386 -5.203060  3.796940   \n",
       "\n",
       "        vz       ql6  solidliquid  atomic_temp  \n",
       "0 -1.77975  0.338703            0  2234.237250  \n",
       "1  3.70312  0.503473            0  2610.685635  \n",
       "2 -1.41931  0.411614            0  2192.303592  \n",
       "3  9.18538  0.304366            0  2351.477280  \n",
       "4 -2.15249  0.567507            0  2911.470647  "
      ]
     },
     "execution_count": 36,
     "metadata": {},
     "output_type": "execute_result"
    }
   ],
   "source": [
    "system.data.head()"
   ]
  },
  {
   "cell_type": "code",
   "execution_count": 37,
   "id": "67509460-b110-4b83-b543-3bc805ac4cb0",
   "metadata": {},
   "outputs": [],
   "source": [
    "system.write_dump()"
   ]
  },
  {
   "cell_type": "markdown",
   "id": "aacab4bd-df81-4b7d-8c30-3e3ddabe4164",
   "metadata": {},
   "source": [
    "#### 6.9 识别FCC基体中的ISF,ESF,TW, HCP\n",
    "- 这里读取一个包含多种缺陷的dump文件"
   ]
  },
  {
   "cell_type": "code",
   "execution_count": 38,
   "id": "6c2844d6-838f-4e9c-9fb0-b3c2ba271874",
   "metadata": {},
   "outputs": [],
   "source": [
    "system = mp.System('frame/ISF.dump')"
   ]
  },
  {
   "cell_type": "code",
   "execution_count": 39,
   "id": "dd19296d-d5dd-4b21-98cc-55d380431d61",
   "metadata": {},
   "outputs": [],
   "source": [
    "system.cal_identify_SFs_TBs()"
   ]
  },
  {
   "cell_type": "code",
   "execution_count": 40,
   "id": "a1028b35-cb18-4243-b334-21a0f4d519df",
   "metadata": {},
   "outputs": [],
   "source": [
    "system.write_dump()"
   ]
  },
  {
   "cell_type": "markdown",
   "id": "d708f809-f312-401c-867d-047299d33d2f",
   "metadata": {},
   "source": [
    "#### 对于斜盒子体系依然适用\n",
    "- 这里读取一个HCP的Ti体系"
   ]
  },
  {
   "cell_type": "code",
   "execution_count": 41,
   "id": "c40465c4-2fed-476d-b0ec-5023545c4e48",
   "metadata": {},
   "outputs": [],
   "source": [
    "Ti = mp.System('./frame/Ti.data')"
   ]
  },
  {
   "cell_type": "code",
   "execution_count": 42,
   "id": "ea3b6cea-5055-40b4-9b68-a4b564696eb2",
   "metadata": {},
   "outputs": [
    {
     "data": {
      "text/plain": [
       "Filename: ./frame/Ti.data\n",
       "Atom Number: 2\n",
       "Simulation Box:\n",
       "[[ 2.93573192  0.          0.        ]\n",
       " [-1.46786596  2.54241842  0.        ]\n",
       " [ 0.          0.          4.64085615]\n",
       " [ 0.          0.          0.        ]]\n",
       "TimeStep: 0\n",
       "Boundary: [1, 1, 1]\n",
       "Particle Information:\n",
       "   id  type             x         y         z\n",
       "0   1     1 -1.467866e-08  1.694946  1.160214\n",
       "1   2     1  1.467866e+00  0.847473  3.480642"
      ]
     },
     "execution_count": 42,
     "metadata": {},
     "output_type": "execute_result"
    }
   ],
   "source": [
    "Ti"
   ]
  },
  {
   "cell_type": "code",
   "execution_count": 43,
   "id": "69448d6d-8242-48ca-8f4f-3e087f21d3bc",
   "metadata": {},
   "outputs": [
    {
     "name": "stderr",
     "output_type": "stream",
     "text": [
      "D:\\Anaconda\\envs\\mda_ovito\\lib\\site-packages\\taichi\\lang\\expr.py:101: DeprecationWarning: In future, it will be an error for 'np.bool_' scalars to be interpreted as an index\n",
      "  return Expr(_ti_core.make_const_expr_int(constant_dtype, val))\n"
     ]
    }
   ],
   "source": [
    "Ti.cal_common_neighbor_analysis(rc=2.9357*1.207)"
   ]
  },
  {
   "cell_type": "code",
   "execution_count": 44,
   "id": "9b7ad2b9-3646-48aa-bcc4-d59c30f6e4fe",
   "metadata": {},
   "outputs": [
    {
     "name": "stderr",
     "output_type": "stream",
     "text": [
      "D:\\Anaconda\\envs\\mda_ovito\\lib\\site-packages\\taichi\\lang\\expr.py:101: DeprecationWarning: In future, it will be an error for 'np.bool_' scalars to be interpreted as an index\n",
      "  return Expr(_ti_core.make_const_expr_int(constant_dtype, val))\n"
     ]
    }
   ],
   "source": [
    "Ti.cal_centro_symmetry_parameter()"
   ]
  },
  {
   "cell_type": "code",
   "execution_count": 45,
   "id": "a1b39219-fac1-4839-96d1-4255bbb8ce6f",
   "metadata": {},
   "outputs": [
    {
     "data": {
      "text/html": [
       "<div>\n",
       "<style scoped>\n",
       "    .dataframe tbody tr th:only-of-type {\n",
       "        vertical-align: middle;\n",
       "    }\n",
       "\n",
       "    .dataframe tbody tr th {\n",
       "        vertical-align: top;\n",
       "    }\n",
       "\n",
       "    .dataframe thead th {\n",
       "        text-align: right;\n",
       "    }\n",
       "</style>\n",
       "<table border=\"1\" class=\"dataframe\">\n",
       "  <thead>\n",
       "    <tr style=\"text-align: right;\">\n",
       "      <th></th>\n",
       "      <th>id</th>\n",
       "      <th>type</th>\n",
       "      <th>x</th>\n",
       "      <th>y</th>\n",
       "      <th>z</th>\n",
       "      <th>cna</th>\n",
       "      <th>csp</th>\n",
       "    </tr>\n",
       "  </thead>\n",
       "  <tbody>\n",
       "    <tr>\n",
       "      <th>0</th>\n",
       "      <td>1</td>\n",
       "      <td>1</td>\n",
       "      <td>-1.467866e-08</td>\n",
       "      <td>1.694946</td>\n",
       "      <td>1.160214</td>\n",
       "      <td>2</td>\n",
       "      <td>8.618522</td>\n",
       "    </tr>\n",
       "    <tr>\n",
       "      <th>1</th>\n",
       "      <td>2</td>\n",
       "      <td>1</td>\n",
       "      <td>1.467866e+00</td>\n",
       "      <td>0.847473</td>\n",
       "      <td>3.480642</td>\n",
       "      <td>2</td>\n",
       "      <td>8.618522</td>\n",
       "    </tr>\n",
       "  </tbody>\n",
       "</table>\n",
       "</div>"
      ],
      "text/plain": [
       "   id  type             x         y         z  cna       csp\n",
       "0   1     1 -1.467866e-08  1.694946  1.160214    2  8.618522\n",
       "1   2     1  1.467866e+00  0.847473  3.480642    2  8.618522"
      ]
     },
     "execution_count": 45,
     "metadata": {},
     "output_type": "execute_result"
    }
   ],
   "source": [
    "Ti.data"
   ]
  },
  {
   "cell_type": "code",
   "execution_count": 46,
   "id": "f20b02a3-5937-484a-87d5-690e7102d4c0",
   "metadata": {},
   "outputs": [],
   "source": [
    "Ti.write_dump()"
   ]
  },
  {
   "cell_type": "markdown",
   "id": "32f49a0b-7cf3-4973-9712-c6979f193c75",
   "metadata": {},
   "source": [
    "## <b> 7. 建立初始模型 </b>"
   ]
  },
  {
   "cell_type": "markdown",
   "id": "136a6efa-eef3-48e1-b56e-098604deee9a",
   "metadata": {},
   "source": [
    "#### 7.1 建立简单模型 FCC, BCC, HCP, Graphene"
   ]
  },
  {
   "cell_type": "code",
   "execution_count": 47,
   "id": "cb9f8a0a-4a6a-4450-8f90-b4d9661cd3fb",
   "metadata": {},
   "outputs": [],
   "source": [
    "fcc = mp.LatticeMaker(3.615, 'FCC', 10, 10, 10)\n",
    "fcc.compute()"
   ]
  },
  {
   "cell_type": "code",
   "execution_count": 48,
   "id": "380be181-1a93-435a-b18d-85d0b31cdb2a",
   "metadata": {},
   "outputs": [
    {
     "data": {
      "text/plain": [
       "array([[36.15,  0.  ,  0.  ],\n",
       "       [ 0.  , 36.15,  0.  ],\n",
       "       [ 0.  ,  0.  , 36.15],\n",
       "       [ 0.  ,  0.  ,  0.  ]])"
      ]
     },
     "execution_count": 48,
     "metadata": {},
     "output_type": "execute_result"
    }
   ],
   "source": [
    "fcc.box"
   ]
  },
  {
   "cell_type": "code",
   "execution_count": 49,
   "id": "819021d3-e3dd-40d0-b431-75de6b046fa5",
   "metadata": {},
   "outputs": [
    {
     "data": {
      "text/plain": [
       "array([[ 0.    ,  0.    ,  0.    ],\n",
       "       [ 1.8075,  1.8075,  0.    ],\n",
       "       [ 1.8075,  0.    ,  1.8075],\n",
       "       ...,\n",
       "       [34.3425, 34.3425, 32.535 ],\n",
       "       [34.3425, 32.535 , 34.3425],\n",
       "       [32.535 , 34.3425, 34.3425]])"
      ]
     },
     "execution_count": 49,
     "metadata": {},
     "output_type": "execute_result"
    }
   ],
   "source": [
    "fcc.pos"
   ]
  },
  {
   "cell_type": "markdown",
   "id": "3ea2123a-4ba7-4e60-9404-e36ae16e80b3",
   "metadata": {},
   "source": [
    "保存为data/dump文件"
   ]
  },
  {
   "cell_type": "code",
   "execution_count": 50,
   "id": "ef95fe9a-f0f6-4bd5-b6fe-2ce80ae88b3f",
   "metadata": {},
   "outputs": [],
   "source": [
    "fcc.write_data(output_name='./frame/fcc.data')"
   ]
  },
  {
   "cell_type": "markdown",
   "id": "285cbc80-465a-45f4-b39d-c66f43b7d929",
   "metadata": {},
   "source": [
    "- 测试一下大体系的计算效率\n",
    "- 生成400w原子体系"
   ]
  },
  {
   "cell_type": "code",
   "execution_count": 51,
   "id": "22cc8f74-8bb7-4b40-92e3-b158d0b0721a",
   "metadata": {},
   "outputs": [],
   "source": [
    "repli = mp.Replicate(fcc.pos, fcc.box, 10, 10, 10)\n",
    "repli.compute()"
   ]
  },
  {
   "cell_type": "markdown",
   "id": "5bf83cb0-e2b7-4d15-815d-74ae83cc7a62",
   "metadata": {},
   "source": [
    "- 建立0.5nm邻域"
   ]
  },
  {
   "cell_type": "code",
   "execution_count": 52,
   "id": "cdb97afc-3220-48a3-bfc2-5c363e19ce17",
   "metadata": {},
   "outputs": [
    {
     "name": "stderr",
     "output_type": "stream",
     "text": [
      "D:\\Anaconda\\envs\\mda_ovito\\lib\\site-packages\\taichi\\lang\\expr.py:101: DeprecationWarning: In future, it will be an error for 'np.bool_' scalars to be interpreted as an index\n",
      "  return Expr(_ti_core.make_const_expr_int(constant_dtype, val))\n"
     ]
    },
    {
     "name": "stdout",
     "output_type": "stream",
     "text": [
      "CPU times: total: 24.3 s\n",
      "Wall time: 2.81 s\n"
     ]
    }
   ],
   "source": [
    "%%time\n",
    "neigh = mp.Neighbor(repli.pos, repli.box, 5., max_neigh=50)\n",
    "neigh.compute()"
   ]
  },
  {
   "cell_type": "markdown",
   "id": "e77bb87c-1943-4b0f-868d-2f81162946d8",
   "metadata": {},
   "source": [
    "- 手动排序获取最近邻"
   ]
  },
  {
   "cell_type": "code",
   "execution_count": 53,
   "id": "ee1b8857-a386-4d28-a191-5f099ae5a010",
   "metadata": {},
   "outputs": [
    {
     "name": "stdout",
     "output_type": "stream",
     "text": [
      "CPU times: total: 12.6 s\n",
      "Wall time: 349 ms\n"
     ]
    }
   ],
   "source": [
    "%%time\n",
    "neigh.sort_verlet_by_distance(12)"
   ]
  },
  {
   "cell_type": "code",
   "execution_count": 54,
   "id": "c5475076-0f2d-4fa7-abd1-01979c03e9bb",
   "metadata": {},
   "outputs": [
    {
     "data": {
      "text/plain": [
       "array([      3,       2,       1, 3603602, 3603601,  360363,  360361,\n",
       "         36039,   36038, 3639638,  396399, 3963961])"
      ]
     },
     "execution_count": 54,
     "metadata": {},
     "output_type": "execute_result"
    }
   ],
   "source": [
    "neigh.verlet_list[0][:12]"
   ]
  },
  {
   "cell_type": "code",
   "execution_count": 55,
   "id": "429b2e03-d19c-446a-be39-7a112f5d5509",
   "metadata": {},
   "outputs": [
    {
     "data": {
      "text/plain": [
       "array([2.55619101, 2.55619101, 2.55619101, 2.55619101, 2.55619101,\n",
       "       2.55619101, 2.55619101, 2.55619101, 2.55619101, 2.55619101,\n",
       "       2.55619101, 2.55619101])"
      ]
     },
     "execution_count": 55,
     "metadata": {},
     "output_type": "execute_result"
    }
   ],
   "source": [
    "neigh.distance_list[0][:12]"
   ]
  },
  {
   "cell_type": "markdown",
   "id": "686d73d1-c3a9-46b8-b255-ff415816dc7d",
   "metadata": {},
   "source": [
    "- 搜索12个最近邻"
   ]
  },
  {
   "cell_type": "code",
   "execution_count": 56,
   "id": "5cbfa383-fc03-4846-ba43-2618fa7bd632",
   "metadata": {},
   "outputs": [
    {
     "name": "stdout",
     "output_type": "stream",
     "text": [
      "CPU times: total: 44.5 s\n",
      "Wall time: 3.57 s\n"
     ]
    }
   ],
   "source": [
    "%%time\n",
    "kdt = mp.NearestNeighbor(repli.pos, repli.box)\n",
    "dis, verlet = kdt.query_nearest_neighbors(12)"
   ]
  },
  {
   "cell_type": "code",
   "execution_count": 57,
   "id": "f19c44fb-a943-47a2-ae8c-08941459205c",
   "metadata": {},
   "outputs": [
    {
     "data": {
      "text/plain": [
       "array([2.55619101, 2.55619101, 2.55619101, 2.55619101, 2.55619101,\n",
       "       2.55619101, 2.55619101, 2.55619101, 2.55619101, 2.55619101,\n",
       "       2.55619101, 2.55619101])"
      ]
     },
     "execution_count": 57,
     "metadata": {},
     "output_type": "execute_result"
    }
   ],
   "source": [
    "dis[0]"
   ]
  },
  {
   "cell_type": "code",
   "execution_count": 58,
   "id": "923722a0-0799-48bc-8542-48aaf45590c7",
   "metadata": {},
   "outputs": [
    {
     "data": {
      "text/plain": [
       "array([ 896, 8678,  897, 1009,    2, 7777,    3,    1,  110,  109, 7779,\n",
       "       7885], dtype=int64)"
      ]
     },
     "execution_count": 58,
     "metadata": {},
     "output_type": "execute_result"
    }
   ],
   "source": [
    "verlet_list[0]"
   ]
  },
  {
   "cell_type": "markdown",
   "id": "96074e36-6d0e-4683-be30-8871dc7bbfd3",
   "metadata": {},
   "source": [
    "#### 使用Position和Box建立System"
   ]
  },
  {
   "cell_type": "code",
   "execution_count": 59,
   "id": "65803da7-9e43-42c3-a14d-2ac9960a5d2f",
   "metadata": {},
   "outputs": [],
   "source": [
    "newsystem = mp.System(pos=fcc.pos, box=fcc.box)"
   ]
  },
  {
   "cell_type": "code",
   "execution_count": 60,
   "id": "d284ae76-81fa-4dd1-912c-0caed2a200bf",
   "metadata": {},
   "outputs": [
    {
     "data": {
      "text/plain": [
       "Filename: None\n",
       "Atom Number: 4000\n",
       "Simulation Box:\n",
       "[[36.15  0.    0.  ]\n",
       " [ 0.   36.15  0.  ]\n",
       " [ 0.    0.   36.15]\n",
       " [ 0.    0.    0.  ]]\n",
       "TimeStep: 0\n",
       "Boundary: [1, 1, 1]\n",
       "Particle Information:\n",
       "    id  type       x       y       z\n",
       "0  1.0   1.0  0.0000  0.0000  0.0000\n",
       "1  2.0   1.0  1.8075  1.8075  0.0000\n",
       "2  3.0   1.0  1.8075  0.0000  1.8075\n",
       "3  4.0   1.0  0.0000  1.8075  1.8075\n",
       "4  5.0   1.0  0.0000  0.0000  3.6150"
      ]
     },
     "execution_count": 60,
     "metadata": {},
     "output_type": "execute_result"
    }
   ],
   "source": [
    "newsystem"
   ]
  },
  {
   "cell_type": "markdown",
   "id": "57377840-5711-4b89-a0b1-07712c6fbb32",
   "metadata": {},
   "source": [
    "#### 扩展System"
   ]
  },
  {
   "cell_type": "code",
   "execution_count": 61,
   "id": "b696d399-7de3-4a10-b88d-4794ab4dd7ab",
   "metadata": {},
   "outputs": [],
   "source": [
    "newsystem.replicate(3, 3, 3)"
   ]
  },
  {
   "cell_type": "code",
   "execution_count": 62,
   "id": "a5ead803-903b-4739-b906-341ba78b554c",
   "metadata": {},
   "outputs": [
    {
     "data": {
      "text/plain": [
       "Filename: None\n",
       "Atom Number: 108000\n",
       "Simulation Box:\n",
       "[[108.45   0.     0.  ]\n",
       " [  0.   108.45   0.  ]\n",
       " [  0.     0.   108.45]\n",
       " [  0.     0.     0.  ]]\n",
       "TimeStep: 0\n",
       "Boundary: [1, 1, 1]\n",
       "Particle Information:\n",
       "   id  type       x       y       z\n",
       "0   1   1.0  0.0000  0.0000  0.0000\n",
       "1   2   1.0  1.8075  1.8075  0.0000\n",
       "2   3   1.0  1.8075  0.0000  1.8075\n",
       "3   4   1.0  0.0000  1.8075  1.8075\n",
       "4   5   1.0  0.0000  0.0000  3.6150"
      ]
     },
     "execution_count": 62,
     "metadata": {},
     "output_type": "execute_result"
    }
   ],
   "source": [
    "newsystem"
   ]
  },
  {
   "cell_type": "markdown",
   "id": "5f3411a3-ec4c-494d-b5ca-4f41ef050cd0",
   "metadata": {},
   "source": [
    "#### 选择局部区域建立System"
   ]
  },
  {
   "cell_type": "code",
   "execution_count": 63,
   "id": "88476860-c162-4570-98f0-9c4c51244ba0",
   "metadata": {},
   "outputs": [],
   "source": [
    "subsystem = newsystem.select(newsystem.data[newsystem.data['x']>30])"
   ]
  },
  {
   "cell_type": "code",
   "execution_count": 64,
   "id": "4baecb85-e43d-4f96-87b0-8379251ffa7e",
   "metadata": {},
   "outputs": [
    {
     "data": {
      "text/plain": [
       "Filename: None\n",
       "Atom Number: 77400\n",
       "Simulation Box:\n",
       "[[108.45   0.     0.  ]\n",
       " [  0.   108.45   0.  ]\n",
       " [  0.     0.   108.45]\n",
       " [  0.     0.     0.  ]]\n",
       "TimeStep: 0\n",
       "Boundary: [1, 1, 1]\n",
       "Particle Information:\n",
       "     id  type        x       y       z\n",
       "0  3202   1.0  30.7275  1.8075  0.0000\n",
       "1  3203   1.0  30.7275  0.0000  1.8075\n",
       "2  3206   1.0  30.7275  1.8075  3.6150\n",
       "3  3207   1.0  30.7275  0.0000  5.4225\n",
       "4  3210   1.0  30.7275  1.8075  7.2300"
      ]
     },
     "execution_count": 64,
     "metadata": {},
     "output_type": "execute_result"
    }
   ],
   "source": [
    "subsystem"
   ]
  },
  {
   "cell_type": "markdown",
   "id": "53cb7da6-93dc-454d-8c2c-4c013ec62804",
   "metadata": {},
   "source": [
    "#### 7.2 建立多晶"
   ]
  },
  {
   "cell_type": "code",
   "execution_count": 65,
   "id": "231bae15-46fd-4dfc-ba27-050caaff24a3",
   "metadata": {},
   "outputs": [],
   "source": [
    "box = np.array([[200, 0, 0],\n",
    "               [0, 200, 0],\n",
    "               [0, 0, 200],\n",
    "               [0, 0, 0.]])"
   ]
  },
  {
   "cell_type": "code",
   "execution_count": 66,
   "id": "d9de8929-386c-4fb9-821b-ad1a9dd33661",
   "metadata": {},
   "outputs": [
    {
     "name": "stdout",
     "output_type": "stream",
     "text": [
      "Generating voronoi polygon...\n",
      "Total grain number: 20\n",
      "Generating grain 0..., volume is 446640.98951717035\n",
      "Generating grain 1..., volume is 317821.7153813637\n",
      "Generating grain 2..., volume is 365745.5485907311\n",
      "Generating grain 3..., volume is 246118.430501906\n",
      "Generating grain 4..., volume is 603413.9015760935\n",
      "Generating grain 5..., volume is 265822.9806762802\n",
      "Generating grain 6..., volume is 273919.43034264207\n",
      "Generating grain 7..., volume is 553824.0355480236\n",
      "Generating grain 8..., volume is 481378.8536772815\n",
      "Generating grain 9..., volume is 401102.3474571911\n",
      "Generating grain 10..., volume is 426542.46474005125\n",
      "Generating grain 11..., volume is 463855.01555040607\n",
      "Generating grain 12..., volume is 237300.76883811492\n",
      "Generating grain 13..., volume is 427779.5746563434\n",
      "Generating grain 14..., volume is 377603.87947595667\n",
      "Generating grain 15..., volume is 397615.8863496147\n",
      "Generating grain 16..., volume is 547936.6320696116\n",
      "Generating grain 17..., volume is 457480.127643903\n",
      "Generating grain 18..., volume is 250384.38570104225\n",
      "Generating grain 19..., volume is 457713.03170627274\n",
      "Wraping atoms into box...\n",
      "Deleting overlap atoms...\n"
     ]
    },
    {
     "name": "stderr",
     "output_type": "stream",
     "text": [
      "D:\\Anaconda\\envs\\mda_ovito\\lib\\site-packages\\taichi\\lang\\expr.py:101: DeprecationWarning: In future, it will be an error for 'np.bool_' scalars to be interpreted as an index\n",
      "  return Expr(_ti_core.make_const_expr_int(constant_dtype, val))\n"
     ]
    },
    {
     "name": "stdout",
     "output_type": "stream",
     "text": [
      "Total atom numbers: 654223, average grain size: 400000.0 A^3\n",
      "Saving atoms into dump file...\n",
      "Time costs: 2.6547768115997314 s.\n"
     ]
    }
   ],
   "source": [
    "poly = mp.CreatePolycrystalline(box, 20, 3.615, 'FCC', output_name='./frame/poly.dump', metal_overlap_dis=2.)\n",
    "poly.compute()"
   ]
  },
  {
   "cell_type": "markdown",
   "id": "56b7a6bb-f8d5-48fa-9816-530e69ae6ec6",
   "metadata": {},
   "source": [
    "## <b> 8. EAM势函数分析 </b>"
   ]
  },
  {
   "cell_type": "markdown",
   "id": "6ac0ecc8-89c5-4ab0-80f2-5ff333366b9f",
   "metadata": {},
   "source": [
    "#### 8.1 生成一个Al的势函数\n",
    "- 可选元素列表 [\"Cu\",\"Ag\",\"Au\",\"Ni\",\"Pd\",\"Pt\",\"Al\",\"Pb\",\"Fe\",\"Mo\",\"Ta\",\"W\",\"Mg\",\"Co\",\"Ti\",\"Zr\"]"
   ]
  },
  {
   "cell_type": "code",
   "execution_count": 67,
   "id": "c1c83c47-0b5a-47b7-a544-2b64ea22af81",
   "metadata": {},
   "outputs": [],
   "source": [
    "mp.EAMGenerate(['Al'], output_name='./frame/Al.eam.alloy');"
   ]
  },
  {
   "cell_type": "markdown",
   "id": "45d75a5f-448e-4299-8dbb-8a757b21006f",
   "metadata": {},
   "source": [
    "- 读取刚才生成的势函数"
   ]
  },
  {
   "cell_type": "code",
   "execution_count": 68,
   "id": "4a02832b-f34a-4473-8c29-18dd607e49ec",
   "metadata": {},
   "outputs": [],
   "source": [
    "potential = mp.EAM('./frame/Al.eam.alloy')"
   ]
  },
  {
   "cell_type": "markdown",
   "id": "3756c996-a281-4a83-a227-c038f6ab3064",
   "metadata": {},
   "source": [
    "- 查看势函数的相关信息"
   ]
  },
  {
   "cell_type": "code",
   "execution_count": 69,
   "id": "e57ca18c-d016-49da-92fe-d6e869631754",
   "metadata": {},
   "outputs": [
    {
     "data": {
      "image/png": "[encoded data removed]",
      "text/plain": [
       "<Figure size 590.551x413.386 with 1 Axes>"
      ]
     },
     "metadata": {},
     "output_type": "display_data"
    },
    {
     "data": {
      "image/png": "[encoded data removed]",
      "text/plain": [
       "<Figure size 590.551x413.386 with 1 Axes>"
      ]
     },
     "metadata": {},
     "output_type": "display_data"
    },
    {
     "data": {
      "image/png": "[encoded data removed]",
      "text/plain": [
       "<Figure size 590.551x413.386 with 1 Axes>"
      ]
     },
     "metadata": {},
     "output_type": "display_data"
    }
   ],
   "source": [
    "potential.plot()"
   ]
  },
  {
   "cell_type": "markdown",
   "id": "230b8503-024c-4588-a99f-99f26dfeb2d0",
   "metadata": {},
   "source": [
    "#### 8.2 使用势函数计算Al的EOS曲线"
   ]
  },
  {
   "cell_type": "code",
   "execution_count": 70,
   "id": "307a28c6-5472-479c-acf6-7c6970faa5d0",
   "metadata": {},
   "outputs": [
    {
     "name": "stdout",
     "output_type": "stream",
     "text": [
      "0.95\n"
     ]
    },
    {
     "name": "stderr",
     "output_type": "stream",
     "text": [
      "D:\\Anaconda\\envs\\mda_ovito\\lib\\site-packages\\taichi\\lang\\expr.py:101: DeprecationWarning: In future, it will be an error for 'np.bool_' scalars to be interpreted as an index\n",
      "  return Expr(_ti_core.make_const_expr_int(constant_dtype, val))\n"
     ]
    },
    {
     "name": "stdout",
     "output_type": "stream",
     "text": [
      "0.96\n",
      "0.97\n",
      "0.98\n",
      "0.99\n",
      "1.0\n",
      "1.01\n",
      "1.02\n",
      "1.03\n",
      "1.04\n",
      "1.05\n",
      "1.06\n"
     ]
    }
   ],
   "source": [
    "energy = []\n",
    "lattice_constant = 4.05\n",
    "fcc = mp.LatticeMaker(lattice_constant, 'FCC', 1, 1, 1)\n",
    "fcc.compute()\n",
    "for scale in np.arange(0.95, 1.06, 0.01):\n",
    "    print(scale)\n",
    "    Cal = mp.Calculator(potential, fcc.pos * scale, [1, 1, 1], fcc.box * scale, ['Al'], np.ones(fcc.N, int))\n",
    "    Cal.compute()\n",
    "    energy.append([lattice_constant*scale, Cal.energy.mean()])\n",
    "energy = np.array(energy)"
   ]
  },
  {
   "cell_type": "code",
   "execution_count": 71,
   "id": "0049dd7e-f45c-4673-af78-0c3551f6773c",
   "metadata": {},
   "outputs": [
    {
     "data": {
      "text/plain": [
       "Text(0, 0.5, 'PE (eV/atom)')"
      ]
     },
     "execution_count": 71,
     "metadata": {},
     "output_type": "execute_result"
    },
    {
     "data": {
      "image/png": "[encoded data removed]",
      "text/plain": [
       "<Figure size 393.701x314.961 with 1 Axes>"
      ]
     },
     "metadata": {},
     "output_type": "display_data"
    }
   ],
   "source": [
    "fig = plt.figure(figsize=(mp.cm2inch(10), mp.cm2inch(8)))\n",
    "plt.plot(energy[:, 0], energy[:, 1], 'o-')\n",
    "plt.xlabel('a ($\\mathregular{\\AA}$)')\n",
    "plt.ylabel('PE (eV/atom)')"
   ]
  },
  {
   "cell_type": "markdown",
   "id": "3de69d52-bb33-4689-b57c-dff7c9676db5",
   "metadata": {},
   "source": [
    "## <b> 9. 处理轨迹 </b>"
   ]
  },
  {
   "cell_type": "markdown",
   "id": "14299677-d6b5-4f7f-824f-2ecdad1560cf",
   "metadata": {},
   "source": [
    "- 读取rdf.0.dump 到rdf.4.dump"
   ]
  },
  {
   "cell_type": "code",
   "execution_count": 72,
   "id": "7931ff5d-43d1-4d4e-99bd-f005bfa058d5",
   "metadata": {},
   "outputs": [
    {
     "name": "stdout",
     "output_type": "stream",
     "text": [
      "Reading traj/rdf.4.dump"
     ]
    }
   ],
   "source": [
    "MS = mp.MultiSystem([f'traj/rdf.{i}.dump' for i in range(5)])"
   ]
  },
  {
   "cell_type": "code",
   "execution_count": 73,
   "id": "dbcc6890-5d2d-4372-b965-c71e35d1f147",
   "metadata": {},
   "outputs": [
    {
     "data": {
      "text/plain": [
       "Filename: traj/rdf.0.dump\n",
       "Atom Number: 15625\n",
       "Simulation Box:\n",
       "[[ 27.4946022   0.          0.       ]\n",
       " [  0.         27.4946022   0.       ]\n",
       " [  0.          0.         27.4946022]\n",
       " [-13.7473011 -13.7473011 -13.7473011]]\n",
       "TimeStep: 0\n",
       "Boundary: [1, 1, 1]\n",
       "Particle Information:\n",
       "   id  type          x         y          z\n",
       "0   1     0  10.015530 -4.348063  -6.279958\n",
       "1   2     0  -5.159263 -6.642017   1.142190\n",
       "2   3     0   0.461460 -6.818775 -12.233191\n",
       "3   4     0   6.030577  9.578183   4.405061\n",
       "4   5     0   8.068093 -5.647203   9.575496"
      ]
     },
     "execution_count": 73,
     "metadata": {},
     "output_type": "execute_result"
    }
   ],
   "source": [
    "MS[0]"
   ]
  },
  {
   "cell_type": "markdown",
   "id": "248ec468-f542-4fa5-9783-750072e2b390",
   "metadata": {},
   "source": [
    "- 计算MSD"
   ]
  },
  {
   "cell_type": "code",
   "execution_count": 74,
   "id": "95af0cba-dbd9-452e-a4f3-0fe4b675e455",
   "metadata": {},
   "outputs": [],
   "source": [
    "MS.cal_mean_squared_displacement()"
   ]
  },
  {
   "cell_type": "code",
   "execution_count": 75,
   "id": "e1c001af-cb4c-4f70-adda-c41281a2a7c2",
   "metadata": {},
   "outputs": [
    {
     "data": {
      "image/png": "[encoded data removed]",
      "text/plain": [
       "<Figure size 590.551x413.386 with 1 Axes>"
      ]
     },
     "metadata": {},
     "output_type": "display_data"
    }
   ],
   "source": [
    "fig, ax = MS.MSD.plot()"
   ]
  },
  {
   "cell_type": "markdown",
   "id": "82faa167-6dcb-4d9f-88f9-29c5a034001d",
   "metadata": {},
   "source": [
    "- 计算Lindemannindex"
   ]
  },
  {
   "cell_type": "code",
   "execution_count": 76,
   "id": "f2b165e8-1861-4809-becf-622ff7a41aa9",
   "metadata": {},
   "outputs": [],
   "source": [
    "MS.cal_lindemann_parameter()"
   ]
  },
  {
   "cell_type": "code",
   "execution_count": 77,
   "id": "36401889-da1b-419b-95e5-ea2e69231c4b",
   "metadata": {},
   "outputs": [
    {
     "data": {
      "image/png": "[encoded data removed]",
      "text/plain": [
       "<Figure size 590.551x413.386 with 1 Axes>"
      ]
     },
     "metadata": {},
     "output_type": "display_data"
    }
   ],
   "source": [
    "fig, ax = MS.Lindemann.plot()"
   ]
  },
  {
   "cell_type": "code",
   "execution_count": 78,
   "id": "bae2f240-fe50-4d17-84ae-14dd3109ec3d",
   "metadata": {},
   "outputs": [
    {
     "data": {
      "text/plain": [
       "Filename: traj/rdf.0.dump\n",
       "Atom Number: 15625\n",
       "Simulation Box:\n",
       "[[ 27.4946022   0.          0.       ]\n",
       " [  0.         27.4946022   0.       ]\n",
       " [  0.          0.         27.4946022]\n",
       " [-13.7473011 -13.7473011 -13.7473011]]\n",
       "TimeStep: 0\n",
       "Boundary: [1, 1, 1]\n",
       "Particle Information:\n",
       "   id  type          x         y          z           msd  lindemann\n",
       "0   1     0  10.015530 -4.348063  -6.279958  0.000000e+00        0.0\n",
       "1   2     0  -5.159263 -6.642017   1.142190 -1.136868e-13        0.0\n",
       "2   3     0   0.461460 -6.818775 -12.233191  5.684342e-14        0.0\n",
       "3   4     0   6.030577  9.578183   4.405061 -1.136868e-13        0.0\n",
       "4   5     0   8.068093 -5.647203   9.575496  0.000000e+00        0.0"
      ]
     },
     "execution_count": 78,
     "metadata": {},
     "output_type": "execute_result"
    }
   ],
   "source": [
    "MS[0]"
   ]
  },
  {
   "cell_type": "code",
   "execution_count": 79,
   "id": "2e148871-1886-422d-9a6b-339a0d027f13",
   "metadata": {},
   "outputs": [
    {
     "name": "stdout",
     "output_type": "stream",
     "text": [
      "Saving traj/rdf.4.dump"
     ]
    }
   ],
   "source": [
    "MS.write_dumps()"
   ]
  },
  {
   "cell_type": "code",
   "execution_count": null,
   "id": "d4235c8b-f060-4938-a241-096c7cf933c6",
   "metadata": {},
   "outputs": [],
   "source": []
  }
 ],
 "metadata": {
  "kernelspec": {
   "display_name": "Python 3 (ipykernel)",
   "language": "python",
   "name": "python3"
  },
  "language_info": {
   "codemirror_mode": {
    "name": "ipython",
    "version": 3
   },
   "file_extension": ".py",
   "mimetype": "text/x-python",
   "name": "python",
   "nbconvert_exporter": "python",
   "pygments_lexer": "ipython3",
   "version": "3.10.12"
  }
 },
 "nbformat": 4,
 "nbformat_minor": 5
}
